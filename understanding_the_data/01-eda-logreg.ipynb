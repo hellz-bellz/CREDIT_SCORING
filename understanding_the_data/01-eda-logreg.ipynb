{
 "cells": [
  {
   "cell_type": "markdown",
   "source": [
    "Data Description\n",
    "BAD : 1 = client defaulted on loan 0 = loan repaid\n",
    "LOAN : Amount of the loan request\n",
    "MORTDUE : Amount due on existing mortgage\n",
    "VALUE : Value of current property\n",
    "REASON : DebtCon = debt consolidation HomeImp = home improvement\n",
    "JOB : Six occupational categories\n",
    "YOJ : Years at present job\n",
    "DEROG : Number of major derogatory reports\n",
    "DELINQ : Number of delinquent credit lines\n",
    "CLAGE : Age of oldest trade line in months\n",
    "NINQ : Number of recent credit lines\n",
    "CLNO : Number of credit lines\n",
    "DEBTINC : Debt-to-income ratio"
   ],
   "metadata": {
    "collapsed": false,
    "pycharm": {
     "name": "#%% md\n"
    }
   }
  },
  {
   "cell_type": "code",
   "execution_count": 82,
   "outputs": [],
   "source": [
    "import pandas as pd"
   ],
   "metadata": {
    "collapsed": false,
    "pycharm": {
     "name": "#%%\n"
    }
   }
  },
  {
   "cell_type": "code",
   "execution_count": 83,
   "outputs": [],
   "source": [
    "df = pd.read_csv(\"../data/hmeq.csv\")"
   ],
   "metadata": {
    "collapsed": false,
    "pycharm": {
     "name": "#%%\n"
    }
   }
  },
  {
   "cell_type": "code",
   "execution_count": 84,
   "outputs": [
    {
     "data": {
      "text/plain": "   BAD  LOAN  MORTDUE     VALUE   REASON     JOB   YOJ  DEROG  DELINQ  \\\n0    1  1100  25860.0   39025.0  HomeImp   Other  10.5    0.0     0.0   \n1    1  1300  70053.0   68400.0  HomeImp   Other   7.0    0.0     2.0   \n2    1  1500  13500.0   16700.0  HomeImp   Other   4.0    0.0     0.0   \n3    1  1500      NaN       NaN      NaN     NaN   NaN    NaN     NaN   \n4    0  1700  97800.0  112000.0  HomeImp  Office   3.0    0.0     0.0   \n\n        CLAGE  NINQ  CLNO  DEBTINC  \n0   94.366667   1.0   9.0      NaN  \n1  121.833333   0.0  14.0      NaN  \n2  149.466667   1.0  10.0      NaN  \n3         NaN   NaN   NaN      NaN  \n4   93.333333   0.0  14.0      NaN  ",
      "text/html": "<div>\n<style scoped>\n    .dataframe tbody tr th:only-of-type {\n        vertical-align: middle;\n    }\n\n    .dataframe tbody tr th {\n        vertical-align: top;\n    }\n\n    .dataframe thead th {\n        text-align: right;\n    }\n</style>\n<table border=\"1\" class=\"dataframe\">\n  <thead>\n    <tr style=\"text-align: right;\">\n      <th></th>\n      <th>BAD</th>\n      <th>LOAN</th>\n      <th>MORTDUE</th>\n      <th>VALUE</th>\n      <th>REASON</th>\n      <th>JOB</th>\n      <th>YOJ</th>\n      <th>DEROG</th>\n      <th>DELINQ</th>\n      <th>CLAGE</th>\n      <th>NINQ</th>\n      <th>CLNO</th>\n      <th>DEBTINC</th>\n    </tr>\n  </thead>\n  <tbody>\n    <tr>\n      <th>0</th>\n      <td>1</td>\n      <td>1100</td>\n      <td>25860.0</td>\n      <td>39025.0</td>\n      <td>HomeImp</td>\n      <td>Other</td>\n      <td>10.5</td>\n      <td>0.0</td>\n      <td>0.0</td>\n      <td>94.366667</td>\n      <td>1.0</td>\n      <td>9.0</td>\n      <td>NaN</td>\n    </tr>\n    <tr>\n      <th>1</th>\n      <td>1</td>\n      <td>1300</td>\n      <td>70053.0</td>\n      <td>68400.0</td>\n      <td>HomeImp</td>\n      <td>Other</td>\n      <td>7.0</td>\n      <td>0.0</td>\n      <td>2.0</td>\n      <td>121.833333</td>\n      <td>0.0</td>\n      <td>14.0</td>\n      <td>NaN</td>\n    </tr>\n    <tr>\n      <th>2</th>\n      <td>1</td>\n      <td>1500</td>\n      <td>13500.0</td>\n      <td>16700.0</td>\n      <td>HomeImp</td>\n      <td>Other</td>\n      <td>4.0</td>\n      <td>0.0</td>\n      <td>0.0</td>\n      <td>149.466667</td>\n      <td>1.0</td>\n      <td>10.0</td>\n      <td>NaN</td>\n    </tr>\n    <tr>\n      <th>3</th>\n      <td>1</td>\n      <td>1500</td>\n      <td>NaN</td>\n      <td>NaN</td>\n      <td>NaN</td>\n      <td>NaN</td>\n      <td>NaN</td>\n      <td>NaN</td>\n      <td>NaN</td>\n      <td>NaN</td>\n      <td>NaN</td>\n      <td>NaN</td>\n      <td>NaN</td>\n    </tr>\n    <tr>\n      <th>4</th>\n      <td>0</td>\n      <td>1700</td>\n      <td>97800.0</td>\n      <td>112000.0</td>\n      <td>HomeImp</td>\n      <td>Office</td>\n      <td>3.0</td>\n      <td>0.0</td>\n      <td>0.0</td>\n      <td>93.333333</td>\n      <td>0.0</td>\n      <td>14.0</td>\n      <td>NaN</td>\n    </tr>\n  </tbody>\n</table>\n</div>"
     },
     "execution_count": 84,
     "metadata": {},
     "output_type": "execute_result"
    }
   ],
   "source": [
    "df.head()"
   ],
   "metadata": {
    "collapsed": false,
    "pycharm": {
     "name": "#%%\n"
    }
   }
  },
  {
   "cell_type": "code",
   "execution_count": 85,
   "outputs": [
    {
     "data": {
      "text/plain": "(5960, 13)"
     },
     "execution_count": 85,
     "metadata": {},
     "output_type": "execute_result"
    }
   ],
   "source": [
    "df.shape"
   ],
   "metadata": {
    "collapsed": false,
    "pycharm": {
     "name": "#%%\n"
    }
   }
  },
  {
   "cell_type": "code",
   "execution_count": 86,
   "outputs": [
    {
     "data": {
      "text/plain": "               BAD          LOAN        MORTDUE          VALUE          YOJ  \\\ncount  5960.000000   5960.000000    5442.000000    5848.000000  5445.000000   \nmean      0.199497  18607.969799   73760.817200  101776.048741     8.922268   \nstd       0.399656  11207.480417   44457.609458   57385.775334     7.573982   \nmin       0.000000   1100.000000    2063.000000    8000.000000     0.000000   \n25%       0.000000  11100.000000   46276.000000   66075.500000     3.000000   \n50%       0.000000  16300.000000   65019.000000   89235.500000     7.000000   \n75%       0.000000  23300.000000   91488.000000  119824.250000    13.000000   \nmax       1.000000  89900.000000  399550.000000  855909.000000    41.000000   \n\n             DEROG       DELINQ        CLAGE         NINQ         CLNO  \\\ncount  5252.000000  5380.000000  5652.000000  5450.000000  5738.000000   \nmean      0.254570     0.449442   179.766275     1.186055    21.296096   \nstd       0.846047     1.127266    85.810092     1.728675    10.138933   \nmin       0.000000     0.000000     0.000000     0.000000     0.000000   \n25%       0.000000     0.000000   115.116702     0.000000    15.000000   \n50%       0.000000     0.000000   173.466667     1.000000    20.000000   \n75%       0.000000     0.000000   231.562278     2.000000    26.000000   \nmax      10.000000    15.000000  1168.233561    17.000000    71.000000   \n\n           DEBTINC  \ncount  4693.000000  \nmean     33.779915  \nstd       8.601746  \nmin       0.524499  \n25%      29.140031  \n50%      34.818262  \n75%      39.003141  \nmax     203.312149  ",
      "text/html": "<div>\n<style scoped>\n    .dataframe tbody tr th:only-of-type {\n        vertical-align: middle;\n    }\n\n    .dataframe tbody tr th {\n        vertical-align: top;\n    }\n\n    .dataframe thead th {\n        text-align: right;\n    }\n</style>\n<table border=\"1\" class=\"dataframe\">\n  <thead>\n    <tr style=\"text-align: right;\">\n      <th></th>\n      <th>BAD</th>\n      <th>LOAN</th>\n      <th>MORTDUE</th>\n      <th>VALUE</th>\n      <th>YOJ</th>\n      <th>DEROG</th>\n      <th>DELINQ</th>\n      <th>CLAGE</th>\n      <th>NINQ</th>\n      <th>CLNO</th>\n      <th>DEBTINC</th>\n    </tr>\n  </thead>\n  <tbody>\n    <tr>\n      <th>count</th>\n      <td>5960.000000</td>\n      <td>5960.000000</td>\n      <td>5442.000000</td>\n      <td>5848.000000</td>\n      <td>5445.000000</td>\n      <td>5252.000000</td>\n      <td>5380.000000</td>\n      <td>5652.000000</td>\n      <td>5450.000000</td>\n      <td>5738.000000</td>\n      <td>4693.000000</td>\n    </tr>\n    <tr>\n      <th>mean</th>\n      <td>0.199497</td>\n      <td>18607.969799</td>\n      <td>73760.817200</td>\n      <td>101776.048741</td>\n      <td>8.922268</td>\n      <td>0.254570</td>\n      <td>0.449442</td>\n      <td>179.766275</td>\n      <td>1.186055</td>\n      <td>21.296096</td>\n      <td>33.779915</td>\n    </tr>\n    <tr>\n      <th>std</th>\n      <td>0.399656</td>\n      <td>11207.480417</td>\n      <td>44457.609458</td>\n      <td>57385.775334</td>\n      <td>7.573982</td>\n      <td>0.846047</td>\n      <td>1.127266</td>\n      <td>85.810092</td>\n      <td>1.728675</td>\n      <td>10.138933</td>\n      <td>8.601746</td>\n    </tr>\n    <tr>\n      <th>min</th>\n      <td>0.000000</td>\n      <td>1100.000000</td>\n      <td>2063.000000</td>\n      <td>8000.000000</td>\n      <td>0.000000</td>\n      <td>0.000000</td>\n      <td>0.000000</td>\n      <td>0.000000</td>\n      <td>0.000000</td>\n      <td>0.000000</td>\n      <td>0.524499</td>\n    </tr>\n    <tr>\n      <th>25%</th>\n      <td>0.000000</td>\n      <td>11100.000000</td>\n      <td>46276.000000</td>\n      <td>66075.500000</td>\n      <td>3.000000</td>\n      <td>0.000000</td>\n      <td>0.000000</td>\n      <td>115.116702</td>\n      <td>0.000000</td>\n      <td>15.000000</td>\n      <td>29.140031</td>\n    </tr>\n    <tr>\n      <th>50%</th>\n      <td>0.000000</td>\n      <td>16300.000000</td>\n      <td>65019.000000</td>\n      <td>89235.500000</td>\n      <td>7.000000</td>\n      <td>0.000000</td>\n      <td>0.000000</td>\n      <td>173.466667</td>\n      <td>1.000000</td>\n      <td>20.000000</td>\n      <td>34.818262</td>\n    </tr>\n    <tr>\n      <th>75%</th>\n      <td>0.000000</td>\n      <td>23300.000000</td>\n      <td>91488.000000</td>\n      <td>119824.250000</td>\n      <td>13.000000</td>\n      <td>0.000000</td>\n      <td>0.000000</td>\n      <td>231.562278</td>\n      <td>2.000000</td>\n      <td>26.000000</td>\n      <td>39.003141</td>\n    </tr>\n    <tr>\n      <th>max</th>\n      <td>1.000000</td>\n      <td>89900.000000</td>\n      <td>399550.000000</td>\n      <td>855909.000000</td>\n      <td>41.000000</td>\n      <td>10.000000</td>\n      <td>15.000000</td>\n      <td>1168.233561</td>\n      <td>17.000000</td>\n      <td>71.000000</td>\n      <td>203.312149</td>\n    </tr>\n  </tbody>\n</table>\n</div>"
     },
     "execution_count": 86,
     "metadata": {},
     "output_type": "execute_result"
    }
   ],
   "source": [
    "df.describe()"
   ],
   "metadata": {
    "collapsed": false,
    "pycharm": {
     "name": "#%%\n"
    }
   }
  },
  {
   "cell_type": "code",
   "execution_count": 87,
   "outputs": [
    {
     "data": {
      "text/plain": "BAD           0\nLOAN          0\nMORTDUE     518\nVALUE       112\nREASON      252\nJOB         279\nYOJ         515\nDEROG       708\nDELINQ      580\nCLAGE       308\nNINQ        510\nCLNO        222\nDEBTINC    1267\ndtype: int64"
     },
     "execution_count": 87,
     "metadata": {},
     "output_type": "execute_result"
    }
   ],
   "source": [
    "df.isnull().sum()"
   ],
   "metadata": {
    "collapsed": false,
    "pycharm": {
     "name": "#%%\n"
    }
   }
  },
  {
   "cell_type": "code",
   "execution_count": 88,
   "outputs": [
    {
     "data": {
      "text/plain": "Index(['BAD', 'LOAN', 'MORTDUE', 'VALUE', 'REASON', 'JOB', 'YOJ', 'DEROG',\n       'DELINQ', 'CLAGE', 'NINQ', 'CLNO', 'DEBTINC'],\n      dtype='object')"
     },
     "execution_count": 88,
     "metadata": {},
     "output_type": "execute_result"
    }
   ],
   "source": [
    "df.columns"
   ],
   "metadata": {
    "collapsed": false,
    "pycharm": {
     "name": "#%%\n"
    }
   }
  },
  {
   "cell_type": "code",
   "execution_count": 120,
   "outputs": [
    {
     "name": "stdout",
     "output_type": "stream",
     "text": [
      "0    4771\n",
      "1    1189\n",
      "Name: BAD, dtype: int64\n"
     ]
    }
   ],
   "source": [
    "print(df[\"BAD\"].value_counts())"
   ],
   "metadata": {
    "collapsed": false,
    "pycharm": {
     "name": "#%%\n"
    }
   }
  },
  {
   "cell_type": "code",
   "execution_count": 90,
   "outputs": [
    {
     "name": "stdout",
     "output_type": "stream",
     "text": [
      "DebtCon    3928\n",
      "HomeImp    1780\n",
      "Name: REASON, dtype: int64\n"
     ]
    }
   ],
   "source": [
    "print(df[\"REASON\"].value_counts())"
   ],
   "metadata": {
    "collapsed": false,
    "pycharm": {
     "name": "#%%\n"
    }
   }
  },
  {
   "cell_type": "code",
   "execution_count": 91,
   "outputs": [
    {
     "name": "stdout",
     "output_type": "stream",
     "text": [
      "Other      2388\n",
      "ProfExe    1276\n",
      "Office      948\n",
      "Mgr         767\n",
      "Self        193\n",
      "Sales       109\n",
      "Name: JOB, dtype: int64\n"
     ]
    }
   ],
   "source": [
    "print(df[\"JOB\"].value_counts())"
   ],
   "metadata": {
    "collapsed": false,
    "pycharm": {
     "name": "#%%\n"
    }
   }
  },
  {
   "cell_type": "code",
   "execution_count": 92,
   "outputs": [
    {
     "data": {
      "text/plain": "BAD           0\nLOAN          0\nMORTDUE     518\nVALUE       112\nREASON      252\nJOB         279\nYOJ         515\nDEROG       708\nDELINQ      580\nCLAGE       308\nNINQ        510\nCLNO        222\nDEBTINC    1267\ndtype: int64"
     },
     "execution_count": 92,
     "metadata": {},
     "output_type": "execute_result"
    }
   ],
   "source": [
    "df.isnull().sum()"
   ],
   "metadata": {
    "collapsed": false,
    "pycharm": {
     "name": "#%%\n"
    }
   }
  },
  {
   "cell_type": "code",
   "execution_count": 93,
   "outputs": [
    {
     "data": {
      "text/plain": "<AxesSubplot:ylabel='Frequency'>"
     },
     "execution_count": 93,
     "metadata": {},
     "output_type": "execute_result"
    },
    {
     "data": {
      "text/plain": "<Figure size 1080x576 with 1 Axes>",
      "image/png": "[encoded data removed]"
     },
     "metadata": {
      "needs_background": "light"
     },
     "output_type": "display_data"
    }
   ],
   "source": [
    "df[\"LOAN\"].plot.hist(bins=20,figsize=(15, 8))"
   ],
   "metadata": {
    "collapsed": false,
    "pycharm": {
     "name": "#%%\n"
    }
   }
  },
  {
   "cell_type": "code",
   "execution_count": 116,
   "outputs": [
    {
     "data": {
      "text/plain": "<AxesSubplot:ylabel='Frequency'>"
     },
     "execution_count": 116,
     "metadata": {},
     "output_type": "execute_result"
    },
    {
     "data": {
      "text/plain": "<Figure size 1080x360 with 1 Axes>",
      "image/png": "[encoded data removed]"
     },
     "metadata": {
      "needs_background": "light"
     },
     "output_type": "display_data"
    }
   ],
   "source": [
    "df[\"DEBTINC\"].plot.hist(bins=20, figsize=(15,5))"
   ],
   "metadata": {
    "collapsed": false,
    "pycharm": {
     "name": "#%%\n"
    }
   }
  },
  {
   "cell_type": "code",
   "execution_count": 95,
   "outputs": [
    {
     "data": {
      "text/plain": "<AxesSubplot:ylabel='Frequency'>"
     },
     "execution_count": 95,
     "metadata": {},
     "output_type": "execute_result"
    },
    {
     "data": {
      "text/plain": "<Figure size 1080x540 with 1 Axes>",
      "image/png": "[encoded data removed]"
     },
     "metadata": {
      "needs_background": "light"
     },
     "output_type": "display_data"
    }
   ],
   "source": [
    "df[\"CLAGE\"].plot.hist(bins = 20,figsize=(15,7.5))"
   ],
   "metadata": {
    "collapsed": false,
    "pycharm": {
     "name": "#%%\n"
    }
   }
  },
  {
   "cell_type": "code",
   "execution_count": 96,
   "outputs": [
    {
     "data": {
      "text/plain": "<AxesSubplot:ylabel='Frequency'>"
     },
     "execution_count": 96,
     "metadata": {},
     "output_type": "execute_result"
    },
    {
     "data": {
      "text/plain": "<Figure size 1080x504 with 1 Axes>",
      "image/png": "[encoded data removed]"
     },
     "metadata": {
      "needs_background": "light"
     },
     "output_type": "display_data"
    }
   ],
   "source": [
    "df[\"CLNO\"].plot.hist(bins = 20,figsize=(15,7))"
   ],
   "metadata": {
    "collapsed": false,
    "pycharm": {
     "name": "#%%\n"
    }
   }
  },
  {
   "cell_type": "code",
   "execution_count": 97,
   "outputs": [
    {
     "data": {
      "text/plain": "<AxesSubplot:ylabel='Frequency'>"
     },
     "execution_count": 97,
     "metadata": {},
     "output_type": "execute_result"
    },
    {
     "data": {
      "text/plain": "<Figure size 1080x540 with 1 Axes>",
      "image/png": "[encoded data removed]"
     },
     "metadata": {
      "needs_background": "light"
     },
     "output_type": "display_data"
    }
   ],
   "source": [
    "df[\"VALUE\"].plot.hist(bins=80, figsize=(15,7.5))"
   ],
   "metadata": {
    "collapsed": false,
    "pycharm": {
     "name": "#%%\n"
    }
   }
  },
  {
   "cell_type": "code",
   "execution_count": 98,
   "outputs": [
    {
     "data": {
      "text/plain": "<AxesSubplot:ylabel='Frequency'>"
     },
     "execution_count": 98,
     "metadata": {},
     "output_type": "execute_result"
    },
    {
     "data": {
      "text/plain": "<Figure size 1080x540 with 1 Axes>",
      "image/png": "[encoded data removed]"
     },
     "metadata": {
      "needs_background": "light"
     },
     "output_type": "display_data"
    }
   ],
   "source": [
    "df[\"MORTDUE\"].plot.hist(bins=40,figsize=(15,7.5))"
   ],
   "metadata": {
    "collapsed": false,
    "pycharm": {
     "name": "#%%\n"
    }
   }
  },
  {
   "cell_type": "code",
   "execution_count": 99,
   "outputs": [
    {
     "data": {
      "text/plain": "<AxesSubplot:ylabel='Frequency'>"
     },
     "execution_count": 99,
     "metadata": {},
     "output_type": "execute_result"
    },
    {
     "data": {
      "text/plain": "<Figure size 1080x540 with 1 Axes>",
      "image/png": "[encoded data removed]"
     },
     "metadata": {
      "needs_background": "light"
     },
     "output_type": "display_data"
    }
   ],
   "source": [
    "df[\"YOJ\"].plot.hist(bins = 40,figsize=(15,7.5))"
   ],
   "metadata": {
    "collapsed": false,
    "pycharm": {
     "name": "#%%\n"
    }
   }
  },
  {
   "cell_type": "code",
   "execution_count": 100,
   "outputs": [
    {
     "data": {
      "text/plain": "0.0     4527\n1.0      435\n2.0      160\n3.0       58\n4.0       23\n6.0       15\n5.0       15\n7.0        8\n8.0        6\n9.0        3\n10.0       2\nName: DEROG, dtype: int64"
     },
     "execution_count": 100,
     "metadata": {},
     "output_type": "execute_result"
    }
   ],
   "source": [
    "df[\"DEROG\"].value_counts()"
   ],
   "metadata": {
    "collapsed": false,
    "pycharm": {
     "name": "#%%\n"
    }
   }
  },
  {
   "cell_type": "code",
   "execution_count": 101,
   "outputs": [
    {
     "data": {
      "text/plain": "0.0     4179\n1.0      654\n2.0      250\n3.0      129\n4.0       78\n5.0       38\n6.0       27\n7.0       13\n8.0        5\n11.0       2\n10.0       2\n15.0       1\n12.0       1\n13.0       1\nName: DELINQ, dtype: int64"
     },
     "execution_count": 101,
     "metadata": {},
     "output_type": "execute_result"
    }
   ],
   "source": [
    "df[\"DELINQ\"].value_counts()"
   ],
   "metadata": {
    "collapsed": false,
    "pycharm": {
     "name": "#%%\n"
    }
   }
  },
  {
   "cell_type": "code",
   "execution_count": 102,
   "outputs": [
    {
     "data": {
      "text/plain": "0.0     2531\n1.0     1339\n2.0      780\n3.0      392\n4.0      156\n5.0       75\n6.0       56\n7.0       44\n10.0      28\n8.0       22\n9.0       11\n11.0      10\n12.0       2\n13.0       2\n17.0       1\n14.0       1\nName: NINQ, dtype: int64"
     },
     "execution_count": 102,
     "metadata": {},
     "output_type": "execute_result"
    }
   ],
   "source": [
    "df[\"NINQ\"].value_counts()"
   ],
   "metadata": {
    "collapsed": false,
    "pycharm": {
     "name": "#%%\n"
    }
   }
  },
  {
   "cell_type": "code",
   "execution_count": 103,
   "outputs": [],
   "source": [
    "df[\"REASON\"].fillna(value=\"DebtCon\",inplace=True)\n",
    "df[\"JOB\"].fillna(value=\"Other\",inplace =True)"
   ],
   "metadata": {
    "collapsed": false,
    "pycharm": {
     "name": "#%%\n"
    }
   }
  },
  {
   "cell_type": "code",
   "execution_count": 104,
   "outputs": [],
   "source": [
    "df[\"DEROG\"].fillna(value=0,inplace=True)\n",
    "df[\"DELINQ\"].fillna(value=0,inplace=True)"
   ],
   "metadata": {
    "collapsed": false,
    "pycharm": {
     "name": "#%%\n"
    }
   }
  },
  {
   "cell_type": "code",
   "execution_count": 105,
   "outputs": [],
   "source": [
    "df.fillna(value=df.mean(),inplace=True)"
   ],
   "metadata": {
    "collapsed": false,
    "pycharm": {
     "name": "#%%\n"
    }
   }
  },
  {
   "cell_type": "code",
   "execution_count": 106,
   "outputs": [
    {
     "data": {
      "text/plain": "BAD        0\nLOAN       0\nMORTDUE    0\nVALUE      0\nREASON     0\nJOB        0\nYOJ        0\nDEROG      0\nDELINQ     0\nCLAGE      0\nNINQ       0\nCLNO       0\nDEBTINC    0\ndtype: int64"
     },
     "execution_count": 106,
     "metadata": {},
     "output_type": "execute_result"
    }
   ],
   "source": [
    "df.isnull().sum()"
   ],
   "metadata": {
    "collapsed": false,
    "pycharm": {
     "name": "#%%\n"
    }
   }
  },
  {
   "cell_type": "code",
   "execution_count": 107,
   "outputs": [
    {
     "data": {
      "text/plain": "   BAD  LOAN     MORTDUE          VALUE   REASON     JOB        YOJ  DEROG  \\\n0    1  1100  25860.0000   39025.000000  HomeImp   Other  10.500000    0.0   \n1    1  1300  70053.0000   68400.000000  HomeImp   Other   7.000000    0.0   \n2    1  1500  13500.0000   16700.000000  HomeImp   Other   4.000000    0.0   \n3    1  1500  73760.8172  101776.048741  DebtCon   Other   8.922268    0.0   \n4    0  1700  97800.0000  112000.000000  HomeImp  Office   3.000000    0.0   \n\n   DELINQ       CLAGE      NINQ       CLNO    DEBTINC  \n0     0.0   94.366667  1.000000   9.000000  33.779915  \n1     2.0  121.833333  0.000000  14.000000  33.779915  \n2     0.0  149.466667  1.000000  10.000000  33.779915  \n3     0.0  179.766275  1.186055  21.296096  33.779915  \n4     0.0   93.333333  0.000000  14.000000  33.779915  ",
      "text/html": "<div>\n<style scoped>\n    .dataframe tbody tr th:only-of-type {\n        vertical-align: middle;\n    }\n\n    .dataframe tbody tr th {\n        vertical-align: top;\n    }\n\n    .dataframe thead th {\n        text-align: right;\n    }\n</style>\n<table border=\"1\" class=\"dataframe\">\n  <thead>\n    <tr style=\"text-align: right;\">\n      <th></th>\n      <th>BAD</th>\n      <th>LOAN</th>\n      <th>MORTDUE</th>\n      <th>VALUE</th>\n      <th>REASON</th>\n      <th>JOB</th>\n      <th>YOJ</th>\n      <th>DEROG</th>\n      <th>DELINQ</th>\n      <th>CLAGE</th>\n      <th>NINQ</th>\n      <th>CLNO</th>\n      <th>DEBTINC</th>\n    </tr>\n  </thead>\n  <tbody>\n    <tr>\n      <th>0</th>\n      <td>1</td>\n      <td>1100</td>\n      <td>25860.0000</td>\n      <td>39025.000000</td>\n      <td>HomeImp</td>\n      <td>Other</td>\n      <td>10.500000</td>\n      <td>0.0</td>\n      <td>0.0</td>\n      <td>94.366667</td>\n      <td>1.000000</td>\n      <td>9.000000</td>\n      <td>33.779915</td>\n    </tr>\n    <tr>\n      <th>1</th>\n      <td>1</td>\n      <td>1300</td>\n      <td>70053.0000</td>\n      <td>68400.000000</td>\n      <td>HomeImp</td>\n      <td>Other</td>\n      <td>7.000000</td>\n      <td>0.0</td>\n      <td>2.0</td>\n      <td>121.833333</td>\n      <td>0.000000</td>\n      <td>14.000000</td>\n      <td>33.779915</td>\n    </tr>\n    <tr>\n      <th>2</th>\n      <td>1</td>\n      <td>1500</td>\n      <td>13500.0000</td>\n      <td>16700.000000</td>\n      <td>HomeImp</td>\n      <td>Other</td>\n      <td>4.000000</td>\n      <td>0.0</td>\n      <td>0.0</td>\n      <td>149.466667</td>\n      <td>1.000000</td>\n      <td>10.000000</td>\n      <td>33.779915</td>\n    </tr>\n    <tr>\n      <th>3</th>\n      <td>1</td>\n      <td>1500</td>\n      <td>73760.8172</td>\n      <td>101776.048741</td>\n      <td>DebtCon</td>\n      <td>Other</td>\n      <td>8.922268</td>\n      <td>0.0</td>\n      <td>0.0</td>\n      <td>179.766275</td>\n      <td>1.186055</td>\n      <td>21.296096</td>\n      <td>33.779915</td>\n    </tr>\n    <tr>\n      <th>4</th>\n      <td>0</td>\n      <td>1700</td>\n      <td>97800.0000</td>\n      <td>112000.000000</td>\n      <td>HomeImp</td>\n      <td>Office</td>\n      <td>3.000000</td>\n      <td>0.0</td>\n      <td>0.0</td>\n      <td>93.333333</td>\n      <td>0.000000</td>\n      <td>14.000000</td>\n      <td>33.779915</td>\n    </tr>\n  </tbody>\n</table>\n</div>"
     },
     "execution_count": 107,
     "metadata": {},
     "output_type": "execute_result"
    }
   ],
   "source": [
    "df.head()"
   ],
   "metadata": {
    "collapsed": false,
    "pycharm": {
     "name": "#%%\n"
    }
   }
  },
  {
   "cell_type": "code",
   "execution_count": 108,
   "outputs": [],
   "source": [
    "from sklearn.model_selection import train_test_split\n",
    "from sklearn.linear_model import LogisticRegression"
   ],
   "metadata": {
    "collapsed": false,
    "pycharm": {
     "name": "#%%\n"
    }
   }
  },
  {
   "cell_type": "code",
   "execution_count": 109,
   "outputs": [],
   "source": [
    "X = df.drop(columns=[\"BAD\",\"JOB\",\"REASON\"])\n",
    "y = df[\"BAD\"]"
   ],
   "metadata": {
    "collapsed": false,
    "pycharm": {
     "name": "#%%\n"
    }
   }
  },
  {
   "cell_type": "code",
   "execution_count": 110,
   "outputs": [
    {
     "data": {
      "text/plain": "LogisticRegression()"
     },
     "execution_count": 110,
     "metadata": {},
     "output_type": "execute_result"
    }
   ],
   "source": [
    "X_train, X_test, y_train, y_test = train_test_split(X, y, test_size=0.33, random_state=1488)\n",
    "log_reg = LogisticRegression()\n",
    "log_reg.fit(X_train, y_train)"
   ],
   "metadata": {
    "collapsed": false,
    "pycharm": {
     "name": "#%%\n"
    }
   }
  },
  {
   "cell_type": "code",
   "execution_count": 118,
   "outputs": [
    {
     "data": {
      "text/plain": "array([-1.61613385e-05])"
     },
     "execution_count": 118,
     "metadata": {},
     "output_type": "execute_result"
    }
   ],
   "source": [
    "log_reg.intercept_"
   ],
   "metadata": {
    "collapsed": false,
    "pycharm": {
     "name": "#%%\n"
    }
   }
  },
  {
   "cell_type": "code",
   "execution_count": 119,
   "outputs": [
    {
     "data": {
      "text/plain": "array([[-2.16096442e-05, -5.90805008e-06,  4.27576781e-06,\n        -2.74346280e-04,  5.43314103e-05,  1.02965792e-04,\n        -6.00404181e-03,  5.81762457e-05, -2.53659465e-04,\n        -2.64090551e-04]])"
     },
     "execution_count": 119,
     "metadata": {},
     "output_type": "execute_result"
    }
   ],
   "source": [
    "log_reg.coef_"
   ],
   "metadata": {
    "collapsed": false,
    "pycharm": {
     "name": "#%%\n"
    }
   }
  },
  {
   "cell_type": "code",
   "execution_count": 113,
   "outputs": [],
   "source": [
    "y_pred = log_reg.predict(X_test)"
   ],
   "metadata": {
    "collapsed": false,
    "pycharm": {
     "name": "#%%\n"
    }
   }
  },
  {
   "cell_type": "code",
   "execution_count": 114,
   "outputs": [],
   "source": [
    "from sklearn.metrics import accuracy_score, f1_score, precision_score, recall_score"
   ],
   "metadata": {
    "collapsed": false,
    "pycharm": {
     "name": "#%%\n"
    }
   }
  },
  {
   "cell_type": "code",
   "execution_count": 115,
   "outputs": [
    {
     "name": "stdout",
     "output_type": "stream",
     "text": [
      "Accuracy score :  0.7849517031011692\n",
      "F1 score :  0.4420793589593147\n",
      "Precision score :  0.47675505694373616\n",
      "Recall score :  0.499578330342331\n"
     ]
    }
   ],
   "source": [
    "print(\"Accuracy score : \", accuracy_score(y_test,y_pred))\n",
    "print(\"F1 score : \", f1_score(y_test, y_pred, average=\"macro\"))\n",
    "print(\"Precision score : \", precision_score(y_test, y_pred, average=\"macro\"))\n",
    "print(\"Recall score : \", recall_score(y_test, y_pred, average=\"macro\"))"
   ],
   "metadata": {
    "collapsed": false,
    "pycharm": {
     "name": "#%%\n"
    }
   }
  },
  {
   "cell_type": "code",
   "execution_count": 115,
   "outputs": [],
   "source": [
    "#   TODO: WoE + LogReg"
   ],
   "metadata": {
    "collapsed": false,
    "pycharm": {
     "name": "#%%\n"
    }
   }
  }
 ],
 "metadata": {
  "kernelspec": {
   "display_name": "Python 3",
   "language": "python",
   "name": "python3"
  },
  "language_info": {
   "codemirror_mode": {
    "name": "ipython",
    "version": 3
   },
   "file_extension": ".py",
   "mimetype": "text/x-python",
   "name": "python",
   "nbconvert_exporter": "python",
   "pygments_lexer": "ipython3",
   "version": "3.6.13"
  }
 },
 "nbformat": 4,
 "nbformat_minor": 1
}