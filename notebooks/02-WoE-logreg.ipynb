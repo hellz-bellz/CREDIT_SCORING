{
 "cells": [
  {
   "cell_type": "code",
   "execution_count": 1,
   "metadata": {
    "collapsed": true,
    "pycharm": {
     "name": "#%%\n"
    }
   },
   "outputs": [],
   "source": [
    "import pandas as pd"
   ]
  },
  {
   "cell_type": "code",
   "execution_count": 3,
   "outputs": [],
   "source": [
    "df = pd.read_csv(\"../data/raw.csv\")"
   ],
   "metadata": {
    "collapsed": false,
    "pycharm": {
     "name": "#%%\n"
    }
   }
  },
  {
   "cell_type": "code",
   "source": [
    "df[\"REASON\"].fillna(value=\"DebtCon\", inplace=True) # REASON : DebtCon = debt consolidation\n",
    "df[\"JOB\"].fillna(value=\"Other\", inplace=True)      # JOB : Six occupational categories\n",
    "df[\"DEROG\"].fillna(value=0, inplace=True)          # DEROG : Number of major derogatory reports\n",
    "df[\"DELINQ\"].fillna(value=0, inplace=True)         # DELINQ : Number of delinquent credit lines\n",
    "df.fillna(value=df.mean(), inplace=True)"
   ],
   "metadata": {
    "collapsed": false,
    "pycharm": {
     "name": "#%%\n"
    }
   },
   "execution_count": 4,
   "outputs": []
  },
  {
   "cell_type": "code",
   "execution_count": 5,
   "outputs": [
    {
     "data": {
      "text/plain": "      BAD   LOAN     MORTDUE          VALUE   REASON     JOB        YOJ  \\\n0       1   1100  25860.0000   39025.000000  HomeImp   Other  10.500000   \n1       1   1300  70053.0000   68400.000000  HomeImp   Other   7.000000   \n2       1   1500  13500.0000   16700.000000  HomeImp   Other   4.000000   \n3       1   1500  73760.8172  101776.048741  DebtCon   Other   8.922268   \n4       0   1700  97800.0000  112000.000000  HomeImp  Office   3.000000   \n...   ...    ...         ...            ...      ...     ...        ...   \n5955    0  88900  57264.0000   90185.000000  DebtCon   Other  16.000000   \n5956    0  89000  54576.0000   92937.000000  DebtCon   Other  16.000000   \n5957    0  89200  54045.0000   92924.000000  DebtCon   Other  15.000000   \n5958    0  89800  50370.0000   91861.000000  DebtCon   Other  14.000000   \n5959    0  89900  48811.0000   88934.000000  DebtCon   Other  15.000000   \n\n      DEROG  DELINQ       CLAGE      NINQ       CLNO    DEBTINC  \n0       0.0     0.0   94.366667  1.000000   9.000000  33.779915  \n1       0.0     2.0  121.833333  0.000000  14.000000  33.779915  \n2       0.0     0.0  149.466667  1.000000  10.000000  33.779915  \n3       0.0     0.0  179.766275  1.186055  21.296096  33.779915  \n4       0.0     0.0   93.333333  0.000000  14.000000  33.779915  \n...     ...     ...         ...       ...        ...        ...  \n5955    0.0     0.0  221.808718  0.000000  16.000000  36.112347  \n5956    0.0     0.0  208.692070  0.000000  15.000000  35.859971  \n5957    0.0     0.0  212.279697  0.000000  15.000000  35.556590  \n5958    0.0     0.0  213.892709  0.000000  16.000000  34.340882  \n5959    0.0     0.0  219.601002  0.000000  16.000000  34.571519  \n\n[5960 rows x 13 columns]",
      "text/html": "<div>\n<style scoped>\n    .dataframe tbody tr th:only-of-type {\n        vertical-align: middle;\n    }\n\n    .dataframe tbody tr th {\n        vertical-align: top;\n    }\n\n    .dataframe thead th {\n        text-align: right;\n    }\n</style>\n<table border=\"1\" class=\"dataframe\">\n  <thead>\n    <tr style=\"text-align: right;\">\n      <th></th>\n      <th>BAD</th>\n      <th>LOAN</th>\n      <th>MORTDUE</th>\n      <th>VALUE</th>\n      <th>REASON</th>\n      <th>JOB</th>\n      <th>YOJ</th>\n      <th>DEROG</th>\n      <th>DELINQ</th>\n      <th>CLAGE</th>\n      <th>NINQ</th>\n      <th>CLNO</th>\n      <th>DEBTINC</th>\n    </tr>\n  </thead>\n  <tbody>\n    <tr>\n      <th>0</th>\n      <td>1</td>\n      <td>1100</td>\n      <td>25860.0000</td>\n      <td>39025.000000</td>\n      <td>HomeImp</td>\n      <td>Other</td>\n      <td>10.500000</td>\n      <td>0.0</td>\n      <td>0.0</td>\n      <td>94.366667</td>\n      <td>1.000000</td>\n      <td>9.000000</td>\n      <td>33.779915</td>\n    </tr>\n    <tr>\n      <th>1</th>\n      <td>1</td>\n      <td>1300</td>\n      <td>70053.0000</td>\n      <td>68400.000000</td>\n      <td>HomeImp</td>\n      <td>Other</td>\n      <td>7.000000</td>\n      <td>0.0</td>\n      <td>2.0</td>\n      <td>121.833333</td>\n      <td>0.000000</td>\n      <td>14.000000</td>\n      <td>33.779915</td>\n    </tr>\n    <tr>\n      <th>2</th>\n      <td>1</td>\n      <td>1500</td>\n      <td>13500.0000</td>\n      <td>16700.000000</td>\n      <td>HomeImp</td>\n      <td>Other</td>\n      <td>4.000000</td>\n      <td>0.0</td>\n      <td>0.0</td>\n      <td>149.466667</td>\n      <td>1.000000</td>\n      <td>10.000000</td>\n      <td>33.779915</td>\n    </tr>\n    <tr>\n      <th>3</th>\n      <td>1</td>\n      <td>1500</td>\n      <td>73760.8172</td>\n      <td>101776.048741</td>\n      <td>DebtCon</td>\n      <td>Other</td>\n      <td>8.922268</td>\n      <td>0.0</td>\n      <td>0.0</td>\n      <td>179.766275</td>\n      <td>1.186055</td>\n      <td>21.296096</td>\n      <td>33.779915</td>\n    </tr>\n    <tr>\n      <th>4</th>\n      <td>0</td>\n      <td>1700</td>\n      <td>97800.0000</td>\n      <td>112000.000000</td>\n      <td>HomeImp</td>\n      <td>Office</td>\n      <td>3.000000</td>\n      <td>0.0</td>\n      <td>0.0</td>\n      <td>93.333333</td>\n      <td>0.000000</td>\n      <td>14.000000</td>\n      <td>33.779915</td>\n    </tr>\n    <tr>\n      <th>...</th>\n      <td>...</td>\n      <td>...</td>\n      <td>...</td>\n      <td>...</td>\n      <td>...</td>\n      <td>...</td>\n      <td>...</td>\n      <td>...</td>\n      <td>...</td>\n      <td>...</td>\n      <td>...</td>\n      <td>...</td>\n      <td>...</td>\n    </tr>\n    <tr>\n      <th>5955</th>\n      <td>0</td>\n      <td>88900</td>\n      <td>57264.0000</td>\n      <td>90185.000000</td>\n      <td>DebtCon</td>\n      <td>Other</td>\n      <td>16.000000</td>\n      <td>0.0</td>\n      <td>0.0</td>\n      <td>221.808718</td>\n      <td>0.000000</td>\n      <td>16.000000</td>\n      <td>36.112347</td>\n    </tr>\n    <tr>\n      <th>5956</th>\n      <td>0</td>\n      <td>89000</td>\n      <td>54576.0000</td>\n      <td>92937.000000</td>\n      <td>DebtCon</td>\n      <td>Other</td>\n      <td>16.000000</td>\n      <td>0.0</td>\n      <td>0.0</td>\n      <td>208.692070</td>\n      <td>0.000000</td>\n      <td>15.000000</td>\n      <td>35.859971</td>\n    </tr>\n    <tr>\n      <th>5957</th>\n      <td>0</td>\n      <td>89200</td>\n      <td>54045.0000</td>\n      <td>92924.000000</td>\n      <td>DebtCon</td>\n      <td>Other</td>\n      <td>15.000000</td>\n      <td>0.0</td>\n      <td>0.0</td>\n      <td>212.279697</td>\n      <td>0.000000</td>\n      <td>15.000000</td>\n      <td>35.556590</td>\n    </tr>\n    <tr>\n      <th>5958</th>\n      <td>0</td>\n      <td>89800</td>\n      <td>50370.0000</td>\n      <td>91861.000000</td>\n      <td>DebtCon</td>\n      <td>Other</td>\n      <td>14.000000</td>\n      <td>0.0</td>\n      <td>0.0</td>\n      <td>213.892709</td>\n      <td>0.000000</td>\n      <td>16.000000</td>\n      <td>34.340882</td>\n    </tr>\n    <tr>\n      <th>5959</th>\n      <td>0</td>\n      <td>89900</td>\n      <td>48811.0000</td>\n      <td>88934.000000</td>\n      <td>DebtCon</td>\n      <td>Other</td>\n      <td>15.000000</td>\n      <td>0.0</td>\n      <td>0.0</td>\n      <td>219.601002</td>\n      <td>0.000000</td>\n      <td>16.000000</td>\n      <td>34.571519</td>\n    </tr>\n  </tbody>\n</table>\n<p>5960 rows × 13 columns</p>\n</div>"
     },
     "execution_count": 5,
     "metadata": {},
     "output_type": "execute_result"
    }
   ],
   "source": [
    "df"
   ],
   "metadata": {
    "collapsed": false,
    "pycharm": {
     "name": "#%%\n"
    }
   }
  },
  {
   "cell_type": "code",
   "execution_count": 10,
   "outputs": [],
   "source": [
    "df.to_csv('../data/filled.csv', index=False)"
   ],
   "metadata": {
    "collapsed": false,
    "pycharm": {
     "name": "#%%\n"
    }
   }
  },
  {
   "cell_type": "code",
   "execution_count": 11,
   "outputs": [
    {
     "data": {
      "text/plain": "      BAD   LOAN     MORTDUE          VALUE   REASON     JOB        YOJ  \\\n0       1   1100  25860.0000   39025.000000  HomeImp   Other  10.500000   \n1       1   1300  70053.0000   68400.000000  HomeImp   Other   7.000000   \n2       1   1500  13500.0000   16700.000000  HomeImp   Other   4.000000   \n3       1   1500  73760.8172  101776.048741  DebtCon   Other   8.922268   \n4       0   1700  97800.0000  112000.000000  HomeImp  Office   3.000000   \n...   ...    ...         ...            ...      ...     ...        ...   \n5955    0  88900  57264.0000   90185.000000  DebtCon   Other  16.000000   \n5956    0  89000  54576.0000   92937.000000  DebtCon   Other  16.000000   \n5957    0  89200  54045.0000   92924.000000  DebtCon   Other  15.000000   \n5958    0  89800  50370.0000   91861.000000  DebtCon   Other  14.000000   \n5959    0  89900  48811.0000   88934.000000  DebtCon   Other  15.000000   \n\n      DEROG  DELINQ       CLAGE      NINQ       CLNO    DEBTINC  \n0       0.0     0.0   94.366667  1.000000   9.000000  33.779915  \n1       0.0     2.0  121.833333  0.000000  14.000000  33.779915  \n2       0.0     0.0  149.466667  1.000000  10.000000  33.779915  \n3       0.0     0.0  179.766275  1.186055  21.296096  33.779915  \n4       0.0     0.0   93.333333  0.000000  14.000000  33.779915  \n...     ...     ...         ...       ...        ...        ...  \n5955    0.0     0.0  221.808718  0.000000  16.000000  36.112347  \n5956    0.0     0.0  208.692070  0.000000  15.000000  35.859971  \n5957    0.0     0.0  212.279697  0.000000  15.000000  35.556590  \n5958    0.0     0.0  213.892709  0.000000  16.000000  34.340882  \n5959    0.0     0.0  219.601002  0.000000  16.000000  34.571519  \n\n[5960 rows x 13 columns]",
      "text/html": "<div>\n<style scoped>\n    .dataframe tbody tr th:only-of-type {\n        vertical-align: middle;\n    }\n\n    .dataframe tbody tr th {\n        vertical-align: top;\n    }\n\n    .dataframe thead th {\n        text-align: right;\n    }\n</style>\n<table border=\"1\" class=\"dataframe\">\n  <thead>\n    <tr style=\"text-align: right;\">\n      <th></th>\n      <th>BAD</th>\n      <th>LOAN</th>\n      <th>MORTDUE</th>\n      <th>VALUE</th>\n      <th>REASON</th>\n      <th>JOB</th>\n      <th>YOJ</th>\n      <th>DEROG</th>\n      <th>DELINQ</th>\n      <th>CLAGE</th>\n      <th>NINQ</th>\n      <th>CLNO</th>\n      <th>DEBTINC</th>\n    </tr>\n  </thead>\n  <tbody>\n    <tr>\n      <th>0</th>\n      <td>1</td>\n      <td>1100</td>\n      <td>25860.0000</td>\n      <td>39025.000000</td>\n      <td>HomeImp</td>\n      <td>Other</td>\n      <td>10.500000</td>\n      <td>0.0</td>\n      <td>0.0</td>\n      <td>94.366667</td>\n      <td>1.000000</td>\n      <td>9.000000</td>\n      <td>33.779915</td>\n    </tr>\n    <tr>\n      <th>1</th>\n      <td>1</td>\n      <td>1300</td>\n      <td>70053.0000</td>\n      <td>68400.000000</td>\n      <td>HomeImp</td>\n      <td>Other</td>\n      <td>7.000000</td>\n      <td>0.0</td>\n      <td>2.0</td>\n      <td>121.833333</td>\n      <td>0.000000</td>\n      <td>14.000000</td>\n      <td>33.779915</td>\n    </tr>\n    <tr>\n      <th>2</th>\n      <td>1</td>\n      <td>1500</td>\n      <td>13500.0000</td>\n      <td>16700.000000</td>\n      <td>HomeImp</td>\n      <td>Other</td>\n      <td>4.000000</td>\n      <td>0.0</td>\n      <td>0.0</td>\n      <td>149.466667</td>\n      <td>1.000000</td>\n      <td>10.000000</td>\n      <td>33.779915</td>\n    </tr>\n    <tr>\n      <th>3</th>\n      <td>1</td>\n      <td>1500</td>\n      <td>73760.8172</td>\n      <td>101776.048741</td>\n      <td>DebtCon</td>\n      <td>Other</td>\n      <td>8.922268</td>\n      <td>0.0</td>\n      <td>0.0</td>\n      <td>179.766275</td>\n      <td>1.186055</td>\n      <td>21.296096</td>\n      <td>33.779915</td>\n    </tr>\n    <tr>\n      <th>4</th>\n      <td>0</td>\n      <td>1700</td>\n      <td>97800.0000</td>\n      <td>112000.000000</td>\n      <td>HomeImp</td>\n      <td>Office</td>\n      <td>3.000000</td>\n      <td>0.0</td>\n      <td>0.0</td>\n      <td>93.333333</td>\n      <td>0.000000</td>\n      <td>14.000000</td>\n      <td>33.779915</td>\n    </tr>\n    <tr>\n      <th>...</th>\n      <td>...</td>\n      <td>...</td>\n      <td>...</td>\n      <td>...</td>\n      <td>...</td>\n      <td>...</td>\n      <td>...</td>\n      <td>...</td>\n      <td>...</td>\n      <td>...</td>\n      <td>...</td>\n      <td>...</td>\n      <td>...</td>\n    </tr>\n    <tr>\n      <th>5955</th>\n      <td>0</td>\n      <td>88900</td>\n      <td>57264.0000</td>\n      <td>90185.000000</td>\n      <td>DebtCon</td>\n      <td>Other</td>\n      <td>16.000000</td>\n      <td>0.0</td>\n      <td>0.0</td>\n      <td>221.808718</td>\n      <td>0.000000</td>\n      <td>16.000000</td>\n      <td>36.112347</td>\n    </tr>\n    <tr>\n      <th>5956</th>\n      <td>0</td>\n      <td>89000</td>\n      <td>54576.0000</td>\n      <td>92937.000000</td>\n      <td>DebtCon</td>\n      <td>Other</td>\n      <td>16.000000</td>\n      <td>0.0</td>\n      <td>0.0</td>\n      <td>208.692070</td>\n      <td>0.000000</td>\n      <td>15.000000</td>\n      <td>35.859971</td>\n    </tr>\n    <tr>\n      <th>5957</th>\n      <td>0</td>\n      <td>89200</td>\n      <td>54045.0000</td>\n      <td>92924.000000</td>\n      <td>DebtCon</td>\n      <td>Other</td>\n      <td>15.000000</td>\n      <td>0.0</td>\n      <td>0.0</td>\n      <td>212.279697</td>\n      <td>0.000000</td>\n      <td>15.000000</td>\n      <td>35.556590</td>\n    </tr>\n    <tr>\n      <th>5958</th>\n      <td>0</td>\n      <td>89800</td>\n      <td>50370.0000</td>\n      <td>91861.000000</td>\n      <td>DebtCon</td>\n      <td>Other</td>\n      <td>14.000000</td>\n      <td>0.0</td>\n      <td>0.0</td>\n      <td>213.892709</td>\n      <td>0.000000</td>\n      <td>16.000000</td>\n      <td>34.340882</td>\n    </tr>\n    <tr>\n      <th>5959</th>\n      <td>0</td>\n      <td>89900</td>\n      <td>48811.0000</td>\n      <td>88934.000000</td>\n      <td>DebtCon</td>\n      <td>Other</td>\n      <td>15.000000</td>\n      <td>0.0</td>\n      <td>0.0</td>\n      <td>219.601002</td>\n      <td>0.000000</td>\n      <td>16.000000</td>\n      <td>34.571519</td>\n    </tr>\n  </tbody>\n</table>\n<p>5960 rows × 13 columns</p>\n</div>"
     },
     "execution_count": 11,
     "metadata": {},
     "output_type": "execute_result"
    }
   ],
   "source": [
    "p_df = pd.read_csv(\"../data/filled.csv\")\n",
    "p_df"
   ],
   "metadata": {
    "collapsed": false,
    "pycharm": {
     "name": "#%%\n"
    }
   }
  },
  {
   "cell_type": "code",
   "execution_count": 13,
   "outputs": [
    {
     "data": {
      "text/plain": "      target   LOAN     MORTDUE          VALUE   REASON     JOB        YOJ  \\\n0          1   1100  25860.0000   39025.000000  HomeImp   Other  10.500000   \n1          1   1300  70053.0000   68400.000000  HomeImp   Other   7.000000   \n2          1   1500  13500.0000   16700.000000  HomeImp   Other   4.000000   \n3          1   1500  73760.8172  101776.048741  DebtCon   Other   8.922268   \n4          0   1700  97800.0000  112000.000000  HomeImp  Office   3.000000   \n...      ...    ...         ...            ...      ...     ...        ...   \n5955       0  88900  57264.0000   90185.000000  DebtCon   Other  16.000000   \n5956       0  89000  54576.0000   92937.000000  DebtCon   Other  16.000000   \n5957       0  89200  54045.0000   92924.000000  DebtCon   Other  15.000000   \n5958       0  89800  50370.0000   91861.000000  DebtCon   Other  14.000000   \n5959       0  89900  48811.0000   88934.000000  DebtCon   Other  15.000000   \n\n      DEROG  DELINQ       CLAGE      NINQ       CLNO    DEBTINC  \n0       0.0     0.0   94.366667  1.000000   9.000000  33.779915  \n1       0.0     2.0  121.833333  0.000000  14.000000  33.779915  \n2       0.0     0.0  149.466667  1.000000  10.000000  33.779915  \n3       0.0     0.0  179.766275  1.186055  21.296096  33.779915  \n4       0.0     0.0   93.333333  0.000000  14.000000  33.779915  \n...     ...     ...         ...       ...        ...        ...  \n5955    0.0     0.0  221.808718  0.000000  16.000000  36.112347  \n5956    0.0     0.0  208.692070  0.000000  15.000000  35.859971  \n5957    0.0     0.0  212.279697  0.000000  15.000000  35.556590  \n5958    0.0     0.0  213.892709  0.000000  16.000000  34.340882  \n5959    0.0     0.0  219.601002  0.000000  16.000000  34.571519  \n\n[5960 rows x 13 columns]",
      "text/html": "<div>\n<style scoped>\n    .dataframe tbody tr th:only-of-type {\n        vertical-align: middle;\n    }\n\n    .dataframe tbody tr th {\n        vertical-align: top;\n    }\n\n    .dataframe thead th {\n        text-align: right;\n    }\n</style>\n<table border=\"1\" class=\"dataframe\">\n  <thead>\n    <tr style=\"text-align: right;\">\n      <th></th>\n      <th>target</th>\n      <th>LOAN</th>\n      <th>MORTDUE</th>\n      <th>VALUE</th>\n      <th>REASON</th>\n      <th>JOB</th>\n      <th>YOJ</th>\n      <th>DEROG</th>\n      <th>DELINQ</th>\n      <th>CLAGE</th>\n      <th>NINQ</th>\n      <th>CLNO</th>\n      <th>DEBTINC</th>\n    </tr>\n  </thead>\n  <tbody>\n    <tr>\n      <th>0</th>\n      <td>1</td>\n      <td>1100</td>\n      <td>25860.0000</td>\n      <td>39025.000000</td>\n      <td>HomeImp</td>\n      <td>Other</td>\n      <td>10.500000</td>\n      <td>0.0</td>\n      <td>0.0</td>\n      <td>94.366667</td>\n      <td>1.000000</td>\n      <td>9.000000</td>\n      <td>33.779915</td>\n    </tr>\n    <tr>\n      <th>1</th>\n      <td>1</td>\n      <td>1300</td>\n      <td>70053.0000</td>\n      <td>68400.000000</td>\n      <td>HomeImp</td>\n      <td>Other</td>\n      <td>7.000000</td>\n      <td>0.0</td>\n      <td>2.0</td>\n      <td>121.833333</td>\n      <td>0.000000</td>\n      <td>14.000000</td>\n      <td>33.779915</td>\n    </tr>\n    <tr>\n      <th>2</th>\n      <td>1</td>\n      <td>1500</td>\n      <td>13500.0000</td>\n      <td>16700.000000</td>\n      <td>HomeImp</td>\n      <td>Other</td>\n      <td>4.000000</td>\n      <td>0.0</td>\n      <td>0.0</td>\n      <td>149.466667</td>\n      <td>1.000000</td>\n      <td>10.000000</td>\n      <td>33.779915</td>\n    </tr>\n    <tr>\n      <th>3</th>\n      <td>1</td>\n      <td>1500</td>\n      <td>73760.8172</td>\n      <td>101776.048741</td>\n      <td>DebtCon</td>\n      <td>Other</td>\n      <td>8.922268</td>\n      <td>0.0</td>\n      <td>0.0</td>\n      <td>179.766275</td>\n      <td>1.186055</td>\n      <td>21.296096</td>\n      <td>33.779915</td>\n    </tr>\n    <tr>\n      <th>4</th>\n      <td>0</td>\n      <td>1700</td>\n      <td>97800.0000</td>\n      <td>112000.000000</td>\n      <td>HomeImp</td>\n      <td>Office</td>\n      <td>3.000000</td>\n      <td>0.0</td>\n      <td>0.0</td>\n      <td>93.333333</td>\n      <td>0.000000</td>\n      <td>14.000000</td>\n      <td>33.779915</td>\n    </tr>\n    <tr>\n      <th>...</th>\n      <td>...</td>\n      <td>...</td>\n      <td>...</td>\n      <td>...</td>\n      <td>...</td>\n      <td>...</td>\n      <td>...</td>\n      <td>...</td>\n      <td>...</td>\n      <td>...</td>\n      <td>...</td>\n      <td>...</td>\n      <td>...</td>\n    </tr>\n    <tr>\n      <th>5955</th>\n      <td>0</td>\n      <td>88900</td>\n      <td>57264.0000</td>\n      <td>90185.000000</td>\n      <td>DebtCon</td>\n      <td>Other</td>\n      <td>16.000000</td>\n      <td>0.0</td>\n      <td>0.0</td>\n      <td>221.808718</td>\n      <td>0.000000</td>\n      <td>16.000000</td>\n      <td>36.112347</td>\n    </tr>\n    <tr>\n      <th>5956</th>\n      <td>0</td>\n      <td>89000</td>\n      <td>54576.0000</td>\n      <td>92937.000000</td>\n      <td>DebtCon</td>\n      <td>Other</td>\n      <td>16.000000</td>\n      <td>0.0</td>\n      <td>0.0</td>\n      <td>208.692070</td>\n      <td>0.000000</td>\n      <td>15.000000</td>\n      <td>35.859971</td>\n    </tr>\n    <tr>\n      <th>5957</th>\n      <td>0</td>\n      <td>89200</td>\n      <td>54045.0000</td>\n      <td>92924.000000</td>\n      <td>DebtCon</td>\n      <td>Other</td>\n      <td>15.000000</td>\n      <td>0.0</td>\n      <td>0.0</td>\n      <td>212.279697</td>\n      <td>0.000000</td>\n      <td>15.000000</td>\n      <td>35.556590</td>\n    </tr>\n    <tr>\n      <th>5958</th>\n      <td>0</td>\n      <td>89800</td>\n      <td>50370.0000</td>\n      <td>91861.000000</td>\n      <td>DebtCon</td>\n      <td>Other</td>\n      <td>14.000000</td>\n      <td>0.0</td>\n      <td>0.0</td>\n      <td>213.892709</td>\n      <td>0.000000</td>\n      <td>16.000000</td>\n      <td>34.340882</td>\n    </tr>\n    <tr>\n      <th>5959</th>\n      <td>0</td>\n      <td>89900</td>\n      <td>48811.0000</td>\n      <td>88934.000000</td>\n      <td>DebtCon</td>\n      <td>Other</td>\n      <td>15.000000</td>\n      <td>0.0</td>\n      <td>0.0</td>\n      <td>219.601002</td>\n      <td>0.000000</td>\n      <td>16.000000</td>\n      <td>34.571519</td>\n    </tr>\n  </tbody>\n</table>\n<p>5960 rows × 13 columns</p>\n</div>"
     },
     "execution_count": 13,
     "metadata": {},
     "output_type": "execute_result"
    }
   ],
   "source": [
    "p_df.rename(columns={\"BAD\" : \"target\"}, inplace=True)\n",
    "p_df"
   ],
   "metadata": {
    "collapsed": false,
    "pycharm": {
     "name": "#%%\n"
    }
   }
  },
  {
   "cell_type": "code",
   "execution_count": 14,
   "outputs": [],
   "source": [
    "p_df.to_csv('../data/woe/data.csv', index=False)"
   ],
   "metadata": {
    "collapsed": false,
    "pycharm": {
     "name": "#%%\n"
    }
   }
  },
  {
   "cell_type": "markdown",
   "source": [
    "Применяем WoE+LogReg"
   ],
   "metadata": {
    "collapsed": false,
    "pycharm": {
     "name": "#%% md\n"
    }
   }
  },
  {
   "cell_type": "code",
   "execution_count": 5,
   "outputs": [],
   "source": [
    "# !pip install woe"
   ],
   "metadata": {
    "collapsed": false,
    "pycharm": {
     "name": "#%%\n"
    }
   }
  },
  {
   "cell_type": "code",
   "execution_count": 6,
   "outputs": [],
   "source": [
    "import os\n",
    "import numpy as np\n",
    "import pandas as pd\n",
    "import woe.feature_process as fp\n",
    "import woe.GridSearch as gs"
   ],
   "metadata": {
    "collapsed": false,
    "pycharm": {
     "name": "#%%\n"
    }
   }
  },
  {
   "cell_type": "code",
   "execution_count": 80,
   "outputs": [
    {
     "name": "stdout",
     "output_type": "stream",
     "text": [
      "run into process_train_woe: \n",
      " Mon Feb 21 11:32:20 2022\n",
      "------------------Changing Feature Dtypes-------------------\n",
      "target                                         int64\n",
      "LOAN                                           int64\n",
      "MORTDUE                                        int64\n",
      "VALUE                                          int64\n",
      "REASON                                        object\n",
      "JOB                                           object\n",
      "YOJ                                            int64\n",
      "DEROG                                          int64\n",
      "DELINQ                                         int64\n",
      "CLAGE                                          int64\n",
      "NINQ                                           int64\n",
      "CLNO                                           int64\n",
      "DEBTINC                                        int64\n",
      "------------Variable Dtypes Have Been Specified-------------\n",
      "process woe transformation of continuous variables: \n",
      " Mon Feb 21 11:32:20 2022\n",
      "cfg.global_bt 1189\n",
      "cfg.global_gt 4771\n",
      "--------------process continuous variable:LOAN--------------\n",
      "------------process continuous variable:MORTDUE-------------\n",
      "-------------process continuous variable:VALUE--------------\n",
      "--------------process continuous variable:YOJ---------------\n",
      "-------------process continuous variable:DEROG--------------\n",
      "-------------process continuous variable:DELINQ-------------\n",
      "-------------process continuous variable:CLAGE--------------\n",
      "--------------process continuous variable:NINQ--------------\n",
      "--------------process continuous variable:CLNO--------------\n",
      "------------process continuous variable:DEBTINC-------------\n",
      "process woe transformation of discrete variables: \n",
      " Mon Feb 21 11:32:34 2022\n",
      "--------------process discrete variable:REASON--------------\n",
      "---------------process discrete variable:JOB----------------\n",
      "LOAN\n",
      "MORTDUE\n",
      "VALUE\n",
      "YOJ\n",
      "DEROG\n",
      "DELINQ\n",
      "CLAGE\n",
      "NINQ\n",
      "CLNO\n",
      "DEBTINC\n",
      "REASON\n",
      "JOB\n",
      "save woe transformation rule into pickle: \n",
      " Mon Feb 21 11:32:34 2022\n",
      "------------------Changing Feature Dtypes-------------------\n",
      "target                                         int64\n",
      "LOAN                                           int64\n",
      "MORTDUE                                        int64\n",
      "VALUE                                          int64\n",
      "REASON                                        object\n",
      "JOB                                           object\n",
      "YOJ                                            int64\n",
      "DEROG                                          int64\n",
      "DELINQ                                         int64\n",
      "CLAGE                                          int64\n",
      "NINQ                                           int64\n",
      "CLNO                                           int64\n",
      "DEBTINC                                        int64\n",
      "------------Variable Dtypes Have Been Specified-------------\n"
     ]
    },
    {
     "name": "stderr",
     "output_type": "stream",
     "text": [
      "C:\\Users\\admin\\anaconda3\\envs\\snakes\\lib\\site-packages\\woe\\feature_process.py:414: SettingWithCopyWarning: \n",
      "A value is trying to be set on a copy of a slice from a DataFrame.\n",
      "Try using .loc[row_indexer,col_indexer] = value instead\n",
      "\n",
      "See the caveats in the documentation: https://pandas.pydata.org/pandas-docs/stable/user_guide/indexing.html#returning-a-view-versus-a-copy\n",
      "  df[var] = cpvar\n",
      "C:\\Users\\admin\\anaconda3\\envs\\snakes\\lib\\site-packages\\woe\\feature_process.py:414: SettingWithCopyWarning: \n",
      "A value is trying to be set on a copy of a slice from a DataFrame.\n",
      "Try using .loc[row_indexer,col_indexer] = value instead\n",
      "\n",
      "See the caveats in the documentation: https://pandas.pydata.org/pandas-docs/stable/user_guide/indexing.html#returning-a-view-versus-a-copy\n",
      "  df[var] = cpvar\n"
     ]
    },
    {
     "name": "stdout",
     "output_type": "stream",
     "text": [
      "------------------Changing Feature Dtypes-------------------\n",
      "target                                         int64\n",
      "LOAN                                           int64\n",
      "MORTDUE                                        int64\n",
      "VALUE                                          int64\n",
      "REASON                                        object\n",
      "JOB                                           object\n",
      "YOJ                                            int64\n",
      "DEROG                                          int64\n",
      "DELINQ                                         int64\n",
      "CLAGE                                          int64\n",
      "NINQ                                           int64\n",
      "CLNO                                           int64\n",
      "DEBTINC                                        int64\n",
      "------------Variable Dtypes Have Been Specified-------------\n",
      "###TRAIN SCORECARD MODEL###\n",
      "dataset_path :  C:\\Users\\admin\\PycharmProjects\\CREDIT_SCORING\\notebooks\\dataset_train_woed.csv\n",
      "validation_path :  C:\\Users\\admin\\PycharmProjects\\CREDIT_SCORING\\notebooks\\dataset_test_woed.csv\n",
      "config_path :  C:\\Users\\admin\\PycharmProjects\\CREDIT_SCORING\\notebooks\\../data/woe/config_woe.csv\n",
      "df_coef_path :  C:\\Users\\admin\\PycharmProjects\\CREDIT_SCORING\\notebooks\\df_model_coef_path.csv\n",
      "pic_coefpath :  C:\\Users\\admin\\PycharmProjects\\CREDIT_SCORING\\notebooks\\model_coefpath.png\n",
      "pic_performance :  C:\\Users\\admin\\PycharmProjects\\CREDIT_SCORING\\notebooks\\model_performance_path.png\n",
      "pic_coefpath_title :  model_coefpath\n",
      "pic_performance_title :  model_performance_path\n",
      "var_list_specfied :  []\n",
      "cs :  [0.0001     0.00010723 0.00011498 0.00012328 0.00013219 0.00014175\n",
      " 0.00015199 0.00016298 0.00017475 0.00018738 0.00020092 0.00021544\n",
      " 0.00023101 0.00024771 0.00026561 0.0002848  0.00030539 0.00032745\n",
      " 0.00035112 0.00037649 0.0004037  0.00043288 0.00046416 0.0004977\n",
      " 0.00053367 0.00057224 0.00061359 0.00065793 0.00070548 0.00075646\n",
      " 0.00081113 0.00086975 0.0009326  0.001      0.00107227 0.00114976\n",
      " 0.00123285 0.00132194 0.00141747 0.00151991 0.00162975 0.00174753\n",
      " 0.00187382 0.00200923 0.00215443 0.00231013 0.00247708 0.00265609\n",
      " 0.00284804 0.00305386 0.00327455 0.00351119 0.00376494 0.00403702\n",
      " 0.00432876 0.00464159 0.00497702 0.0053367  0.00572237 0.00613591\n",
      " 0.00657933 0.0070548  0.00756463 0.00811131 0.00869749 0.00932603\n",
      " 0.01       0.01072267 0.01149757 0.01232847 0.01321941 0.01417474\n",
      " 0.01519911 0.01629751 0.01747528 0.01873817 0.02009233 0.02154435\n",
      " 0.0231013  0.02477076 0.02656088 0.02848036 0.03053856 0.03274549\n",
      " 0.03511192 0.03764936 0.04037017 0.04328761 0.04641589 0.04977024\n",
      " 0.05336699 0.05722368 0.06135907 0.06579332 0.07054802 0.07564633\n",
      " 0.08111308 0.0869749  0.09326033 0.1       ]\n",
      "run into grid_search_lr_c_main:\n",
      "candidate_var_list length:\n",
      " 12\n",
      "candidate_var_list:\n",
      " ['REASON', 'VALUE', 'DEROG', 'MORTDUE', 'YOJ', 'LOAN', 'CLAGE', 'NINQ', 'DEBTINC', 'CLNO', 'JOB', 'DELINQ']\n",
      "change dtypes:float64 to float32\n",
      "cs [0.0001     0.00010723 0.00011498 0.00012328 0.00013219 0.00014175\n",
      " 0.00015199 0.00016298 0.00017475 0.00018738 0.00020092 0.00021544\n",
      " 0.00023101 0.00024771 0.00026561 0.0002848  0.00030539 0.00032745\n",
      " 0.00035112 0.00037649 0.0004037  0.00043288 0.00046416 0.0004977\n",
      " 0.00053367 0.00057224 0.00061359 0.00065793 0.00070548 0.00075646\n",
      " 0.00081113 0.00086975 0.0009326  0.001      0.00107227 0.00114976\n",
      " 0.00123285 0.00132194 0.00141747 0.00151991 0.00162975 0.00174753\n",
      " 0.00187382 0.00200923 0.00215443 0.00231013 0.00247708 0.00265609\n",
      " 0.00284804 0.00305386 0.00327455 0.00351119 0.00376494 0.00403702\n",
      " 0.00432876 0.00464159 0.00497702 0.0053367  0.00572237 0.00613591\n",
      " 0.00657933 0.0070548  0.00756463 0.00811131 0.00869749 0.00932603\n",
      " 0.01       0.01072267 0.01149757 0.01232847 0.01321941 0.01417474\n",
      " 0.01519911 0.01629751 0.01747528 0.01873817 0.02009233 0.02154435\n",
      " 0.0231013  0.02477076 0.02656088 0.02848036 0.03053856 0.03274549\n",
      " 0.03511192 0.03764936 0.04037017 0.04328761 0.04641589 0.04977024\n",
      " 0.05336699 0.05722368 0.06135907 0.06579332 0.07054802 0.07564633\n",
      " 0.08111308 0.0869749  0.09326033 0.1       ]\n",
      "Computing regularization path ...\n",
      "2022-02-21 11:32:34.889478\n",
      "time:  Mon Feb 21 11:32:34 2022 counter:  0  c:  0.0001\n",
      "ks:\t 0.6234209732581502 ks_validation1:\t 0.6234209732581502\n",
      "time:  Mon Feb 21 11:32:35 2022 counter:  1  c:  0.00010722672220103231\n",
      "ks:\t 0.6234209732581502 ks_validation1:\t 0.6234209732581502\n",
      "time:  Mon Feb 21 11:32:35 2022 counter:  2  c:  0.00011497569953977356\n",
      "ks:\t 0.6232113735935095 ks_validation1:\t 0.6232113735935095\n",
      "time:  Mon Feb 21 11:32:35 2022 counter:  3  c:  0.0001232846739442066\n",
      "ks:\t 0.623001773928869 ks_validation1:\t 0.623001773928869\n",
      "time:  Mon Feb 21 11:32:35 2022 counter:  4  c:  0.00013219411484660288\n",
      "ks:\t 0.6227921742642285 ks_validation1:\t 0.6227921742642285\n",
      "time:  Mon Feb 21 11:32:35 2022 counter:  5  c:  0.00014174741629268049\n",
      "ks:\t 0.6227895300296031 ks_validation1:\t 0.6227895300296031\n",
      "time:  Mon Feb 21 11:32:35 2022 counter:  6  c:  0.0001519911082952933\n",
      "ks:\t 0.6229964854596182 ks_validation1:\t 0.6229964854596182\n",
      "time:  Mon Feb 21 11:32:35 2022 counter:  7  c:  0.00016297508346206434\n",
      "ks:\t 0.6229964854596182 ks_validation1:\t 0.6229964854596182\n",
      "time:  Mon Feb 21 11:32:35 2022 counter:  8  c:  0.0001747528400007683\n",
      "ks:\t 0.6229964854596182 ks_validation1:\t 0.6229964854596182\n",
      "time:  Mon Feb 21 11:32:36 2022 counter:  9  c:  0.0001873817422860383\n",
      "ks:\t 0.6229964854596182 ks_validation1:\t 0.6229964854596182\n",
      "time:  Mon Feb 21 11:32:36 2022 counter:  10  c:  0.00020092330025650479\n",
      "ks:\t 0.6234156847888993 ks_validation1:\t 0.6234156847888993\n",
      "time:  Mon Feb 21 11:32:36 2022 counter:  11  c:  0.00021544346900318845\n",
      "ks:\t 0.6234156847888993 ks_validation1:\t 0.6234156847888993\n",
      "time:  Mon Feb 21 11:32:36 2022 counter:  12  c:  0.00023101297000831605\n",
      "ks:\t 0.6234156847888993 ks_validation1:\t 0.6234156847888993\n",
      "time:  Mon Feb 21 11:32:36 2022 counter:  13  c:  0.0002477076355991711\n",
      "ks:\t 0.6234156847888993 ks_validation1:\t 0.6234156847888993\n",
      "time:  Mon Feb 21 11:32:36 2022 counter:  14  c:  0.00026560877829466864\n",
      "ks:\t 0.6236252844535398 ks_validation1:\t 0.6236252844535398\n",
      "time:  Mon Feb 21 11:32:36 2022 counter:  15  c:  0.0002848035868435802\n",
      "ks:\t 0.6236252844535398 ks_validation1:\t 0.6236252844535398\n",
      "time:  Mon Feb 21 11:32:36 2022 counter:  16  c:  0.0003053855508833416\n",
      "ks:\t 0.6236252844535398 ks_validation1:\t 0.6236252844535398\n",
      "time:  Mon Feb 21 11:32:37 2022 counter:  17  c:  0.00032745491628777284\n",
      "ks:\t 0.6236252844535398 ks_validation1:\t 0.6236252844535398\n",
      "time:  Mon Feb 21 11:32:37 2022 counter:  18  c:  0.0003511191734215131\n",
      "ks:\t 0.623633217157416 ks_validation1:\t 0.623633217157416\n",
      "time:  Mon Feb 21 11:32:37 2022 counter:  19  c:  0.00037649358067924675\n",
      "ks:\t 0.623633217157416 ks_validation1:\t 0.623633217157416\n",
      "time:  Mon Feb 21 11:32:37 2022 counter:  20  c:  0.0004037017258596554\n",
      "ks:\t 0.6240550607213226 ks_validation1:\t 0.6240550607213226\n",
      "time:  Mon Feb 21 11:32:37 2022 counter:  21  c:  0.0004328761281083057\n",
      "ks:\t 0.6251057032791506 ks_validation1:\t 0.6251057032791506\n",
      "time:  Mon Feb 21 11:32:37 2022 counter:  22  c:  0.0004641588833612782\n",
      "ks:\t 0.6251057032791506 ks_validation1:\t 0.6251057032791506\n",
      "time:  Mon Feb 21 11:32:37 2022 counter:  23  c:  0.0004977023564332114\n",
      "ks:\t 0.6253179471784166 ks_validation1:\t 0.6253179471784166\n",
      "time:  Mon Feb 21 11:32:38 2022 counter:  24  c:  0.0005336699231206312\n",
      "ks:\t 0.6259493904069636 ks_validation1:\t 0.6259493904069636\n",
      "time:  Mon Feb 21 11:32:38 2022 counter:  25  c:  0.0005722367659350221\n",
      "ks:\t 0.625784742730955 ks_validation1:\t 0.625784742730955\n",
      "time:  Mon Feb 21 11:32:38 2022 counter:  26  c:  0.0006135907273413176\n",
      "ks:\t 0.62746682851733 ks_validation1:\t 0.62746682851733\n",
      "time:  Mon Feb 21 11:32:38 2022 counter:  27  c:  0.0006579332246575682\n",
      "ks:\t 0.6278860278466111 ks_validation1:\t 0.6278860278466111\n",
      "time:  Mon Feb 21 11:32:38 2022 counter:  28  c:  0.0007054802310718645\n",
      "ks:\t 0.6287270707397987 ks_validation1:\t 0.6287270707397987\n",
      "time:  Mon Feb 21 11:32:38 2022 counter:  29  c:  0.000756463327554629\n",
      "ks:\t 0.6297380497782457 ks_validation1:\t 0.6297380497782457\n",
      "time:  Mon Feb 21 11:32:38 2022 counter:  30  c:  0.0008111308307896872\n",
      "ks:\t 0.6307886923360737 ks_validation1:\t 0.6307886923360737\n",
      "time:  Mon Feb 21 11:32:38 2022 counter:  31  c:  0.0008697490026177834\n",
      "ks:\t 0.6325130858764554 ks_validation1:\t 0.6325130858764554\n",
      "time:  Mon Feb 21 11:32:39 2022 counter:  32  c:  0.0009326033468832199\n",
      "ks:\t 0.6323034862118149 ks_validation1:\t 0.6323034862118149\n",
      "time:  Mon Feb 21 11:32:39 2022 counter:  33  c:  0.001\n",
      "ks:\t 0.6329375736749873 ks_validation1:\t 0.6329375736749873\n",
      "time:  Mon Feb 21 11:32:39 2022 counter:  34  c:  0.0010722672220103231\n",
      "ks:\t 0.634152863908824 ks_validation1:\t 0.634152863908824\n",
      "time:  Mon Feb 21 11:32:39 2022 counter:  35  c:  0.0011497569953977356\n",
      "ks:\t 0.6358957670915835 ks_validation1:\t 0.6358957670915835\n",
      "time:  Mon Feb 21 11:32:39 2022 counter:  36  c:  0.0012328467394420659\n",
      "ks:\t 0.6377768756040975 ks_validation1:\t 0.6377768756040975\n",
      "time:  Mon Feb 21 11:32:39 2022 counter:  37  c:  0.0013219411484660286\n",
      "ks:\t 0.6379811867994871 ks_validation1:\t 0.6379811867994871\n",
      "time:  Mon Feb 21 11:32:39 2022 counter:  38  c:  0.0014174741629268048\n",
      "ks:\t 0.6385888319164055 ks_validation1:\t 0.6385888319164055\n",
      "time:  Mon Feb 21 11:32:39 2022 counter:  39  c:  0.0015199110829529332\n",
      "ks:\t 0.639642118708859 ks_validation1:\t 0.639642118708859\n",
      "time:  Mon Feb 21 11:32:40 2022 counter:  40  c:  0.0016297508346206436\n",
      "ks:\t 0.6398517183734995 ks_validation1:\t 0.6398517183734995\n",
      "time:  Mon Feb 21 11:32:40 2022 counter:  41  c:  0.001747528400007683\n",
      "ks:\t 0.6402444753565265 ks_validation1:\t 0.6402444753565265\n",
      "time:  Mon Feb 21 11:32:40 2022 counter:  42  c:  0.001873817422860383\n",
      "ks:\t 0.6402709177027807 ks_validation1:\t 0.6402709177027807\n",
      "time:  Mon Feb 21 11:32:40 2022 counter:  43  c:  0.002009233002565046\n",
      "ks:\t 0.6406821843281855 ks_validation1:\t 0.6406821843281855\n",
      "time:  Mon Feb 21 11:32:40 2022 counter:  44  c:  0.0021544346900318843\n",
      "ks:\t 0.6406716073896839 ks_validation1:\t 0.6406716073896839\n",
      "time:  Mon Feb 21 11:32:40 2022 counter:  45  c:  0.0023101297000831605\n",
      "ks:\t 0.6402524080604027 ks_validation1:\t 0.6402524080604027\n",
      "time:  Mon Feb 21 11:32:40 2022 counter:  46  c:  0.0024770763559917113\n",
      "ks:\t 0.6389815888994326 ks_validation1:\t 0.6389815888994326\n",
      "time:  Mon Feb 21 11:32:41 2022 counter:  47  c:  0.0026560877829466868\n",
      "ks:\t 0.64006131803814 ks_validation1:\t 0.64006131803814\n",
      "time:  Mon Feb 21 11:32:41 2022 counter:  48  c:  0.002848035868435802\n",
      "ks:\t 0.6401432893115276 ks_validation1:\t 0.6401432893115276\n",
      "time:  Mon Feb 21 11:32:41 2022 counter:  49  c:  0.0030538555088334154\n",
      "ks:\t 0.639938978116138 ks_validation1:\t 0.639938978116138\n",
      "time:  Mon Feb 21 11:32:41 2022 counter:  50  c:  0.0032745491628777285\n",
      "ks:\t 0.6410054860817185 ks_validation1:\t 0.6410054860817185\n",
      "time:  Mon Feb 21 11:32:41 2022 counter:  51  c:  0.003511191734215131\n",
      "ks:\t 0.6410028418470931 ks_validation1:\t 0.6410028418470931\n",
      "time:  Mon Feb 21 11:32:41 2022 counter:  52  c:  0.0037649358067924675\n",
      "ks:\t 0.6412097972771083 ks_validation1:\t 0.6412097972771083\n",
      "time:  Mon Feb 21 11:32:41 2022 counter:  53  c:  0.004037017258596558\n",
      "ks:\t 0.6422181320809298 ks_validation1:\t 0.6422181320809298\n",
      "time:  Mon Feb 21 11:32:41 2022 counter:  54  c:  0.004328761281083062\n",
      "ks:\t 0.6420111766509147 ks_validation1:\t 0.6420111766509147\n",
      "time:  Mon Feb 21 11:32:42 2022 counter:  55  c:  0.004641588833612782\n",
      "ks:\t 0.6428601522479784 ks_validation1:\t 0.6428601522479784\n",
      "time:  Mon Feb 21 11:32:42 2022 counter:  56  c:  0.004977023564332114\n",
      "ks:\t 0.6445369495651028 ks_validation1:\t 0.6445369495651028\n",
      "time:  Mon Feb 21 11:32:42 2022 counter:  57  c:  0.005336699231206312\n",
      "ks:\t 0.6436747527949119 ks_validation1:\t 0.6436747527949119\n",
      "time:  Mon Feb 21 11:32:42 2022 counter:  58  c:  0.00572236765935022\n",
      "ks:\t 0.644937639252006 ks_validation1:\t 0.644937639252006\n",
      "time:  Mon Feb 21 11:32:42 2022 counter:  59  c:  0.006135907273413176\n",
      "ks:\t 0.6451472389166465 ks_validation1:\t 0.6451472389166465\n",
      "time:  Mon Feb 21 11:32:42 2022 counter:  60  c:  0.006579332246575682\n",
      "ks:\t 0.6435048166496525 ks_validation1:\t 0.6435048166496525\n",
      "time:  Mon Feb 21 11:32:42 2022 counter:  61  c:  0.007054802310718645\n",
      "ks:\t 0.64410717329732 ks_validation1:\t 0.64410717329732\n",
      "time:  Mon Feb 21 11:32:42 2022 counter:  62  c:  0.007564633275546291\n",
      "ks:\t 0.6453647712851632 ks_validation1:\t 0.6453647712851632\n",
      "time:  Mon Feb 21 11:32:43 2022 counter:  63  c:  0.008111308307896872\n",
      "ks:\t 0.6457839706144444 ks_validation1:\t 0.6457839706144444\n",
      "time:  Mon Feb 21 11:32:43 2022 counter:  64  c:  0.008697490026177835\n",
      "ks:\t 0.6449402834866313 ks_validation1:\t 0.6449402834866313\n",
      "time:  Mon Feb 21 11:32:43 2022 counter:  65  c:  0.0093260334688322\n",
      "ks:\t 0.6447359722912417 ks_validation1:\t 0.6447359722912417\n",
      "time:  Mon Feb 21 11:32:43 2022 counter:  66  c:  0.01\n",
      "ks:\t 0.64472539535274 ks_validation1:\t 0.64472539535274\n",
      "time:  Mon Feb 21 11:32:43 2022 counter:  67  c:  0.010722672220103232\n",
      "ks:\t 0.6449402834866313 ks_validation1:\t 0.6449402834866313\n",
      "time:  Mon Feb 21 11:32:43 2022 counter:  68  c:  0.011497569953977356\n",
      "ks:\t 0.6443247056658368 ks_validation1:\t 0.6443247056658368\n",
      "time:  Mon Feb 21 11:32:43 2022 counter:  69  c:  0.012328467394420659\n",
      "ks:\t 0.6445290168612265 ks_validation1:\t 0.6445290168612265\n",
      "time:  Mon Feb 21 11:32:44 2022 counter:  70  c:  0.013219411484660288\n",
      "ks:\t 0.6451498831512719 ks_validation1:\t 0.6451498831512719\n",
      "time:  Mon Feb 21 11:32:44 2022 counter:  71  c:  0.014174741629268049\n",
      "ks:\t 0.6455717267151784 ks_validation1:\t 0.6455717267151784\n",
      "time:  Mon Feb 21 11:32:44 2022 counter:  72  c:  0.01519911082952933\n",
      "ks:\t 0.6464101253737405 ks_validation1:\t 0.6464101253737405\n",
      "time:  Mon Feb 21 11:32:44 2022 counter:  73  c:  0.01629750834620645\n",
      "ks:\t 0.6455505728381752 ks_validation1:\t 0.6455505728381752\n",
      "time:  Mon Feb 21 11:32:44 2022 counter:  74  c:  0.01747528400007685\n",
      "ks:\t 0.645131373508894 ks_validation1:\t 0.645131373508894\n",
      "time:  Mon Feb 21 11:32:44 2022 counter:  75  c:  0.018738174228603847\n",
      "ks:\t 0.6457601725028157 ks_validation1:\t 0.6457601725028157\n",
      "time:  Mon Feb 21 11:32:44 2022 counter:  76  c:  0.02009233002565048\n",
      "ks:\t 0.6453489058774108 ks_validation1:\t 0.6453489058774108\n",
      "time:  Mon Feb 21 11:32:45 2022 counter:  77  c:  0.021544346900318846\n",
      "ks:\t 0.645569082480553 ks_validation1:\t 0.645569082480553\n",
      "time:  Mon Feb 21 11:32:45 2022 counter:  78  c:  0.023101297000831605\n",
      "ks:\t 0.6462163911168525 ks_validation1:\t 0.6462163911168525\n",
      "time:  Mon Feb 21 11:32:45 2022 counter:  79  c:  0.024770763559917114\n",
      "ks:\t 0.6457628167374411 ks_validation1:\t 0.6457628167374411\n",
      "time:  Mon Feb 21 11:32:45 2022 counter:  80  c:  0.026560877829466867\n",
      "ks:\t 0.6463757503236103 ks_validation1:\t 0.6463757503236103\n",
      "time:  Mon Feb 21 11:32:45 2022 counter:  81  c:  0.02848035868435802\n",
      "ks:\t 0.6472141489821724 ks_validation1:\t 0.6472141489821724\n",
      "time:  Mon Feb 21 11:32:45 2022 counter:  82  c:  0.030538555088334154\n",
      "ks:\t 0.6459671279328308 ks_validation1:\t 0.6459671279328308\n",
      "time:  Mon Feb 21 11:32:45 2022 counter:  83  c:  0.03274549162877728\n",
      "ks:\t 0.6459512625250784 ks_validation1:\t 0.6459512625250784\n",
      "time:  Mon Feb 21 11:32:46 2022 counter:  84  c:  0.03511191734215131\n",
      "ks:\t 0.6463704618543594 ks_validation1:\t 0.6463704618543594\n",
      "time:  Mon Feb 21 11:32:46 2022 counter:  85  c:  0.037649358067924674\n",
      "ks:\t 0.6457971917875713 ks_validation1:\t 0.6457971917875713\n",
      "time:  Mon Feb 21 11:32:46 2022 counter:  86  c:  0.040370172585965536\n",
      "ks:\t 0.6463704618543594 ks_validation1:\t 0.6463704618543594\n",
      "time:  Mon Feb 21 11:32:46 2022 counter:  87  c:  0.04328761281083057\n",
      "ks:\t 0.6461608621897189 ks_validation1:\t 0.6461608621897189\n",
      "time:  Mon Feb 21 11:32:46 2022 counter:  88  c:  0.04641588833612782\n",
      "ks:\t 0.6455399958996735 ks_validation1:\t 0.6455399958996735\n",
      "time:  Mon Feb 21 11:32:46 2022 counter:  89  c:  0.049770235643321135\n",
      "ks:\t 0.6459591952289546 ks_validation1:\t 0.6459591952289546\n",
      "time:  Mon Feb 21 11:32:46 2022 counter:  90  c:  0.05336699231206313\n",
      "ks:\t 0.6455399958996735 ks_validation1:\t 0.6455399958996735\n",
      "time:  Mon Feb 21 11:32:47 2022 counter:  91  c:  0.0572236765935022\n",
      "ks:\t 0.6451498831512719 ks_validation1:\t 0.6451498831512719\n",
      "time:  Mon Feb 21 11:32:47 2022 counter:  92  c:  0.061359072734131756\n",
      "ks:\t 0.6451472389166465 ks_validation1:\t 0.6451472389166465\n",
      "time:  Mon Feb 21 11:32:47 2022 counter:  93  c:  0.06579332246575682\n",
      "ks:\t 0.6447280395873655 ks_validation1:\t 0.6447280395873655\n",
      "time:  Mon Feb 21 11:32:47 2022 counter:  94  c:  0.07054802310718646\n",
      "ks:\t 0.6445184399227248 ks_validation1:\t 0.6445184399227248\n",
      "time:  Mon Feb 21 11:32:47 2022 counter:  95  c:  0.07564633275546291\n",
      "ks:\t 0.6445052187495979 ks_validation1:\t 0.6445052187495979\n",
      "time:  Mon Feb 21 11:32:47 2022 counter:  96  c:  0.08111308307896872\n",
      "ks:\t 0.6444814206379692 ks_validation1:\t 0.6444814206379692\n",
      "time:  Mon Feb 21 11:32:47 2022 counter:  97  c:  0.08697490026177834\n",
      "ks:\t 0.6446936645372351 ks_validation1:\t 0.6446936645372351\n",
      "time:  Mon Feb 21 11:32:48 2022 counter:  98  c:  0.093260334688322\n",
      "ks:\t 0.6449032642018757 ks_validation1:\t 0.6449032642018757\n",
      "time:  Mon Feb 21 11:32:48 2022 counter:  99  c:  0.1\n",
      "ks:\t 0.6442744652079541 ks_validation1:\t 0.6442744652079541\n",
      "2022-02-21 11:32:48.343704\n",
      "This took  0:00:13.454226\n",
      "pic_coefpath:\n",
      " C:\\Users\\admin\\PycharmProjects\\CREDIT_SCORING\\notebooks\\model_coefpath.png\n",
      "pic_performance:\n",
      " C:\\Users\\admin\\PycharmProjects\\CREDIT_SCORING\\notebooks\\model_performance_path.png\n",
      "ks performance on the c:\n",
      "0.0030538555088334154 0.639938978116138\n"
     ]
    }
   ],
   "source": [
    "config_path = os.getcwd()+'\\\\../data/woe/config_woe.csv'\n",
    "data_path = os.getcwd()+'\\\\../data/woe/woe_data.csv'\n",
    "feature_detail_path = os.getcwd()+'\\\\features_detail.csv'\n",
    "rst_pkl_path = os.getcwd()+'\\\\../pickles/woe/woe_rule.pkl'\n",
    "# train woe rule\n",
    "feature_detail,rst = fp.process_train_woe(infile_path=data_path\n",
    "                                           ,outfile_path=feature_detail_path\n",
    "                                           ,rst_path=rst_pkl_path\n",
    "                                           ,config_path=config_path)\n",
    "\n",
    "# proc woe transformation\n",
    "woe_train_path = os.getcwd()+'\\\\dataset_train_woed.csv'\n",
    "fp.process_woe_trans(data_path,rst_pkl_path,woe_train_path,config_path)\n",
    "# here i take the same dataset as test dataset\n",
    "woe_test_path = os.getcwd()+'\\\\dataset_test_woed.csv'\n",
    "fp.process_woe_trans(data_path,rst_pkl_path,woe_test_path,config_path)\n",
    "\n",
    "print('###TRAIN SCORECARD MODEL###')\n",
    "params = {}\n",
    "params['dataset_path'] = woe_train_path\n",
    "params['validation_path'] = woe_test_path\n",
    "params['config_path'] = config_path\n",
    "\n",
    "params['df_coef_path'] = os.getcwd()+'\\\\df_model_coef_path.csv'\n",
    "params['pic_coefpath'] = os.getcwd()+'\\\\model_coefpath.png'\n",
    "params['pic_performance'] = os.getcwd()+'\\\\model_performance_path.png'\n",
    "params['pic_coefpath_title'] = 'model_coefpath'\n",
    "params['pic_performance_title'] = 'model_performance_path'\n",
    "\n",
    "params['var_list_specfied'] = []\n",
    "params['cs'] = np.logspace(-4, -1,100)\n",
    "for key,value in params.items():\n",
    "   print(key,': ',value)\n",
    "best_c, ks = gs.grid_search_lr_c_main(params)"
   ],
   "metadata": {
    "collapsed": false,
    "pycharm": {
     "name": "#%%\n"
    }
   }
  },
  {
   "cell_type": "markdown",
   "source": [],
   "metadata": {
    "collapsed": false,
    "pycharm": {
     "name": "#%% md\n"
    }
   }
  },
  {
   "cell_type": "code",
   "execution_count": 82,
   "outputs": [
    {
     "data": {
      "text/plain": "      Unnamed: 0  target      LOAN   MORTDUE         VALUE    REASON  \\\n0              0       1  1.257674  0.505241  6.314432e-08  0.115037   \n1              1       1  1.257674  0.058210  6.314432e-08  0.115037   \n2              2       1  1.257674  0.329934  6.314432e-08  0.115037   \n3              3       1  1.257674  0.031860  6.314432e-08  0.115037   \n4              4       0  1.257674 -0.540205  6.314432e-08  0.115037   \n...          ...     ...       ...       ...           ...       ...   \n5955        5955       0  0.216998 -0.309722  6.314432e-08 -0.062752   \n5956        5956       0  0.216998  0.159754  6.314432e-08 -0.062752   \n5957        5957       0  0.216998  0.159754  6.314432e-08 -0.062752   \n5958        5958       0  0.216998  0.159754  6.314432e-08 -0.062752   \n5959        5959       0  0.216998  0.159754  6.314432e-08 -0.062752   \n\n           JOB       YOJ     DEROG    DELINQ     CLAGE      NINQ      CLNO  \\\n0     0.192353 -0.088067 -0.220790 -0.429947  0.265123 -0.062557  0.084531   \n1     0.192353 -0.088067 -0.220790  1.672861  0.167122 -0.295364  0.084531   \n2     0.192353  0.146251 -0.220790 -0.429947  0.376445 -0.062557  0.084531   \n3    -0.597134 -0.545416 -0.575979 -0.564371  0.308074 -0.368414  0.084531   \n4    -0.597134  0.358184 -0.220790 -0.429947  0.265123 -0.295364  0.084531   \n...        ...       ...       ...       ...       ...       ...       ...   \n5955  0.192353 -0.088067 -0.220790 -0.429947 -0.219994 -0.295364  0.084531   \n5956  0.192353 -0.088067 -0.220790 -0.429947 -0.412265 -0.295364  0.084531   \n5957  0.192353 -0.088067 -0.220790 -0.429947 -0.412265 -0.295364  0.084531   \n5958  0.192353 -0.088067 -0.220790 -0.429947 -0.412265 -0.295364  0.084531   \n5959  0.192353 -0.088067 -0.220790 -0.429947 -0.219994 -0.295364  0.084531   \n\n       DEBTINC  \n0     1.880533  \n1     1.880533  \n2     1.880533  \n3     1.880533  \n4     1.880533  \n...        ...  \n5955 -1.345087  \n5956 -1.345087  \n5957 -1.345087  \n5958 -1.345087  \n5959 -1.345087  \n\n[5960 rows x 14 columns]",
      "text/html": "<div>\n<style scoped>\n    .dataframe tbody tr th:only-of-type {\n        vertical-align: middle;\n    }\n\n    .dataframe tbody tr th {\n        vertical-align: top;\n    }\n\n    .dataframe thead th {\n        text-align: right;\n    }\n</style>\n<table border=\"1\" class=\"dataframe\">\n  <thead>\n    <tr style=\"text-align: right;\">\n      <th></th>\n      <th>Unnamed: 0</th>\n      <th>target</th>\n      <th>LOAN</th>\n      <th>MORTDUE</th>\n      <th>VALUE</th>\n      <th>REASON</th>\n      <th>JOB</th>\n      <th>YOJ</th>\n      <th>DEROG</th>\n      <th>DELINQ</th>\n      <th>CLAGE</th>\n      <th>NINQ</th>\n      <th>CLNO</th>\n      <th>DEBTINC</th>\n    </tr>\n  </thead>\n  <tbody>\n    <tr>\n      <th>0</th>\n      <td>0</td>\n      <td>1</td>\n      <td>1.257674</td>\n      <td>0.505241</td>\n      <td>6.314432e-08</td>\n      <td>0.115037</td>\n      <td>0.192353</td>\n      <td>-0.088067</td>\n      <td>-0.220790</td>\n      <td>-0.429947</td>\n      <td>0.265123</td>\n      <td>-0.062557</td>\n      <td>0.084531</td>\n      <td>1.880533</td>\n    </tr>\n    <tr>\n      <th>1</th>\n      <td>1</td>\n      <td>1</td>\n      <td>1.257674</td>\n      <td>0.058210</td>\n      <td>6.314432e-08</td>\n      <td>0.115037</td>\n      <td>0.192353</td>\n      <td>-0.088067</td>\n      <td>-0.220790</td>\n      <td>1.672861</td>\n      <td>0.167122</td>\n      <td>-0.295364</td>\n      <td>0.084531</td>\n      <td>1.880533</td>\n    </tr>\n    <tr>\n      <th>2</th>\n      <td>2</td>\n      <td>1</td>\n      <td>1.257674</td>\n      <td>0.329934</td>\n      <td>6.314432e-08</td>\n      <td>0.115037</td>\n      <td>0.192353</td>\n      <td>0.146251</td>\n      <td>-0.220790</td>\n      <td>-0.429947</td>\n      <td>0.376445</td>\n      <td>-0.062557</td>\n      <td>0.084531</td>\n      <td>1.880533</td>\n    </tr>\n    <tr>\n      <th>3</th>\n      <td>3</td>\n      <td>1</td>\n      <td>1.257674</td>\n      <td>0.031860</td>\n      <td>6.314432e-08</td>\n      <td>0.115037</td>\n      <td>-0.597134</td>\n      <td>-0.545416</td>\n      <td>-0.575979</td>\n      <td>-0.564371</td>\n      <td>0.308074</td>\n      <td>-0.368414</td>\n      <td>0.084531</td>\n      <td>1.880533</td>\n    </tr>\n    <tr>\n      <th>4</th>\n      <td>4</td>\n      <td>0</td>\n      <td>1.257674</td>\n      <td>-0.540205</td>\n      <td>6.314432e-08</td>\n      <td>0.115037</td>\n      <td>-0.597134</td>\n      <td>0.358184</td>\n      <td>-0.220790</td>\n      <td>-0.429947</td>\n      <td>0.265123</td>\n      <td>-0.295364</td>\n      <td>0.084531</td>\n      <td>1.880533</td>\n    </tr>\n    <tr>\n      <th>...</th>\n      <td>...</td>\n      <td>...</td>\n      <td>...</td>\n      <td>...</td>\n      <td>...</td>\n      <td>...</td>\n      <td>...</td>\n      <td>...</td>\n      <td>...</td>\n      <td>...</td>\n      <td>...</td>\n      <td>...</td>\n      <td>...</td>\n      <td>...</td>\n    </tr>\n    <tr>\n      <th>5955</th>\n      <td>5955</td>\n      <td>0</td>\n      <td>0.216998</td>\n      <td>-0.309722</td>\n      <td>6.314432e-08</td>\n      <td>-0.062752</td>\n      <td>0.192353</td>\n      <td>-0.088067</td>\n      <td>-0.220790</td>\n      <td>-0.429947</td>\n      <td>-0.219994</td>\n      <td>-0.295364</td>\n      <td>0.084531</td>\n      <td>-1.345087</td>\n    </tr>\n    <tr>\n      <th>5956</th>\n      <td>5956</td>\n      <td>0</td>\n      <td>0.216998</td>\n      <td>0.159754</td>\n      <td>6.314432e-08</td>\n      <td>-0.062752</td>\n      <td>0.192353</td>\n      <td>-0.088067</td>\n      <td>-0.220790</td>\n      <td>-0.429947</td>\n      <td>-0.412265</td>\n      <td>-0.295364</td>\n      <td>0.084531</td>\n      <td>-1.345087</td>\n    </tr>\n    <tr>\n      <th>5957</th>\n      <td>5957</td>\n      <td>0</td>\n      <td>0.216998</td>\n      <td>0.159754</td>\n      <td>6.314432e-08</td>\n      <td>-0.062752</td>\n      <td>0.192353</td>\n      <td>-0.088067</td>\n      <td>-0.220790</td>\n      <td>-0.429947</td>\n      <td>-0.412265</td>\n      <td>-0.295364</td>\n      <td>0.084531</td>\n      <td>-1.345087</td>\n    </tr>\n    <tr>\n      <th>5958</th>\n      <td>5958</td>\n      <td>0</td>\n      <td>0.216998</td>\n      <td>0.159754</td>\n      <td>6.314432e-08</td>\n      <td>-0.062752</td>\n      <td>0.192353</td>\n      <td>-0.088067</td>\n      <td>-0.220790</td>\n      <td>-0.429947</td>\n      <td>-0.412265</td>\n      <td>-0.295364</td>\n      <td>0.084531</td>\n      <td>-1.345087</td>\n    </tr>\n    <tr>\n      <th>5959</th>\n      <td>5959</td>\n      <td>0</td>\n      <td>0.216998</td>\n      <td>0.159754</td>\n      <td>6.314432e-08</td>\n      <td>-0.062752</td>\n      <td>0.192353</td>\n      <td>-0.088067</td>\n      <td>-0.220790</td>\n      <td>-0.429947</td>\n      <td>-0.219994</td>\n      <td>-0.295364</td>\n      <td>0.084531</td>\n      <td>-1.345087</td>\n    </tr>\n  </tbody>\n</table>\n<p>5960 rows × 14 columns</p>\n</div>"
     },
     "execution_count": 82,
     "metadata": {},
     "output_type": "execute_result"
    }
   ],
   "source": [
    "train_woed = pd.read_csv(woe_train_path)"
   ],
   "metadata": {
    "collapsed": false,
    "pycharm": {
     "name": "#%%\n"
    }
   }
  },
  {
   "cell_type": "code",
   "execution_count": 83,
   "outputs": [
    {
     "name": "stdout",
     "output_type": "stream",
     "text": [
      "Index(['LOAN', 'MORTDUE', 'VALUE', 'REASON', 'JOB', 'YOJ', 'DEROG', 'DELINQ',\n",
      "       'CLAGE', 'NINQ', 'CLNO', 'DEBTINC'],\n",
      "      dtype='object')\n"
     ]
    },
    {
     "data": {
      "text/plain": "LogisticRegression(C=0.0030538555088334154)"
     },
     "execution_count": 83,
     "metadata": {},
     "output_type": "execute_result"
    }
   ],
   "source": [
    "from sklearn.model_selection import train_test_split\n",
    "from sklearn.linear_model import LogisticRegression\n",
    "\n",
    "X = train_woed.drop(columns=[\"target\", 'Unnamed: 0'])\n",
    "print(X.columns)\n",
    "y = train_woed['target']\n",
    "X_train, X_test, y_train, y_test = train_test_split(X, y, test_size=0.33, random_state=42)\n",
    "log_reg = LogisticRegression(C=best_c)\n",
    "log_reg.fit(X_train, y_train)"
   ],
   "metadata": {
    "collapsed": false,
    "pycharm": {
     "name": "#%%\n"
    }
   }
  },
  {
   "cell_type": "code",
   "execution_count": 101,
   "outputs": [],
   "source": [
    "y_pred = log_reg.decision_function(X_test)\n",
    "from sklearn.metrics import accuracy_score, f1_score, precision_score, recall_score, roc_auc_score\n",
    "\n",
    "# print(\"Accuracy score : \", accuracy_score(y_test, y_pred))\n",
    "# print(\"F1 score : \", f1_score(y_test, y_pred, average=\"macro\"))\n",
    "# print(\"Precision score : \", precision_score(y_test, y_pred, average=\"macro\"))\n",
    "# print(\"Recall score : \", recall_score(y_test, y_pred, average=\"macro\"))\n",
    "# print('ROC-AUC: ', roc_auc_score(y_test, y_pred))"
   ],
   "metadata": {
    "collapsed": false,
    "pycharm": {
     "name": "#%%\n"
    }
   }
  },
  {
   "cell_type": "code",
   "execution_count": 102,
   "outputs": [],
   "source": [
    "from sklearn.metrics import roc_curve, precision_recall_curve\n",
    "\n",
    "from sklearn.metrics import roc_curve, precision_recall_curve\n",
    "# roc curve\n",
    "fpr1, tpr1, _ = roc_curve(y_test, y_pred, pos_label=1)\n",
    "\n",
    "# pr curve\n",
    "precision1, recall1, _ = precision_recall_curve(y_test, y_pred, pos_label=1)"
   ],
   "metadata": {
    "collapsed": false,
    "pycharm": {
     "name": "#%%\n"
    }
   }
  },
  {
   "cell_type": "code",
   "execution_count": 103,
   "outputs": [
    {
     "data": {
      "text/plain": "<Figure size 432x288 with 1 Axes>",
      "image/png": "[encoded data removed]"
     },
     "metadata": {
      "needs_background": "light"
     },
     "output_type": "display_data"
    },
    {
     "name": "stdout",
     "output_type": "stream",
     "text": [
      "Log Reg ROC-AUC: 0.90141\n"
     ]
    }
   ],
   "source": [
    "# строим ROC кривые и вычисляем AUC-ROC\n",
    "import matplotlib.pyplot as plt\n",
    "\n",
    "plt.plot(fpr1, tpr1, linestyle='--',color='orange', label='Log Reg')\n",
    "\n",
    "plt.title('ROC curve')\n",
    "plt.xlabel('False Positive Rate')\n",
    "plt.ylabel('True Positive rate')\n",
    "\n",
    "plt.legend(loc='best')\n",
    "plt.show()\n",
    "print('Log Reg ROC-AUC: %.5f' % roc_auc_score(y_test, y_pred))"
   ],
   "metadata": {
    "collapsed": false,
    "pycharm": {
     "name": "#%%\n"
    }
   }
  },
  {
   "cell_type": "code",
   "execution_count": 104,
   "outputs": [
    {
     "data": {
      "text/plain": "<Figure size 432x288 with 1 Axes>",
      "image/png": "[encoded data removed]"
     },
     "metadata": {
      "needs_background": "light"
     },
     "output_type": "display_data"
    },
    {
     "name": "stdout",
     "output_type": "stream",
     "text": [
      "LR PR-AUC: 0.76847\n",
      "Dummy PR-AUC: 0.21962\n"
     ]
    }
   ],
   "source": [
    "from sklearn.metrics import auc\n",
    "precision_lr, recall_lr, _ = precision_recall_curve(y_test, y_pred, pos_label=1)\n",
    "plt.plot(recall_lr, precision_lr, linestyle='--',color='blue', label='LR')\n",
    "dumb = len(y_test[y_test==1]) / len(y_test)\n",
    "plt.plot([0, 1], [dumb, dumb], linestyle='--',color='green', label='Dummy')\n",
    "\n",
    "plt.title('PR curve')\n",
    "plt.xlabel('Recall')\n",
    "plt.ylabel('Precision')\n",
    "\n",
    "plt.legend(loc='best')\n",
    "plt.show()\n",
    "print('LR PR-AUC: %.5f' % auc(recall_lr, precision_lr))\n",
    "print('Dummy PR-AUC: %.5f' % auc([0, 1], [dumb, dumb]))"
   ],
   "metadata": {
    "collapsed": false,
    "pycharm": {
     "name": "#%%\n"
    }
   }
  },
  {
   "cell_type": "code",
   "execution_count": 105,
   "outputs": [
    {
     "name": "stdout",
     "output_type": "stream",
     "text": [
      "Best C:  0.0655128556859551\n"
     ]
    },
    {
     "data": {
      "text/plain": "Text(0, 0.5, 'CV score')"
     },
     "execution_count": 105,
     "metadata": {},
     "output_type": "execute_result"
    },
    {
     "data": {
      "text/plain": "<Figure size 432x288 with 1 Axes>",
      "image/png": "[encoded data removed]"
     },
     "metadata": {
      "needs_background": "light"
     },
     "output_type": "display_data"
    }
   ],
   "source": [
    "from sklearn.model_selection import GridSearchCV\n",
    "from sklearn.linear_model import LogisticRegression\n",
    "from sklearn.metrics import average_precision_score, make_scorer\n",
    "cs = np.logspace(-4, -1, 50)\n",
    "\n",
    "tuned_parameters = [\n",
    "    {\"penalty\": [\"l2\"], \"C\": cs},\n",
    "]\n",
    "clf = GridSearchCV(LogisticRegression(), tuned_parameters, scoring=make_scorer(average_precision_score))\n",
    "clf.fit(X_train, y_train)\n",
    "print(\"Best C: \", clf.best_params_['C'])\n",
    "\n",
    "plt.plot(cs, clf.cv_results_[\"mean_test_score\"])\n",
    "plt.xscale(\"log\")\n",
    "plt.xlabel(\"C\")\n",
    "plt.ylabel(\"CV score\")"
   ],
   "metadata": {
    "collapsed": false,
    "pycharm": {
     "name": "#%%\n"
    }
   }
  },
  {
   "cell_type": "code",
   "execution_count": 106,
   "outputs": [
    {
     "data": {
      "text/plain": "<Figure size 432x288 with 1 Axes>",
      "image/png": "[encoded data removed]"
     },
     "metadata": {
      "needs_background": "light"
     },
     "output_type": "display_data"
    },
    {
     "name": "stdout",
     "output_type": "stream",
     "text": [
      "LR ROC-AUC: 0.90948\n"
     ]
    },
    {
     "data": {
      "text/plain": "<Figure size 432x288 with 1 Axes>",
      "image/png": "[encoded data removed]"
     },
     "metadata": {
      "needs_background": "light"
     },
     "output_type": "display_data"
    },
    {
     "name": "stdout",
     "output_type": "stream",
     "text": [
      "LR PR-AUC: 0.77969\n",
      "Dummy PR-AUC: 0.21962\n"
     ]
    }
   ],
   "source": [
    "lr_pred = clf.decision_function(X_test)\n",
    "\n",
    "fpr_lr, tpr_lr, _ = roc_curve(y_test, lr_pred, pos_label=1)\n",
    "plt.plot(fpr_lr, tpr_lr, linestyle='--', color='blue', label='LR')\n",
    "precision_lr, recall_lr, _ = precision_recall_curve(y_test, lr_pred, pos_label=1)\n",
    "# plt.plot(fpr2, tpr2, linestyle='--', color='green', label='Dummy')\n",
    "\n",
    "plt.title('ROC curve')\n",
    "plt.xlabel('False Positive Rate')\n",
    "plt.ylabel('True Positive rate')\n",
    "\n",
    "plt.legend(loc='best')\n",
    "plt.show()\n",
    "print('LR ROC-AUC: %.5f' % roc_auc_score(y_test, lr_pred))\n",
    "# print('Dummy ROC-AUC: %.5f' % roc_auc_score(y_test, dummy_pred[:, 1]))\n",
    "\n",
    "# строим PR кривые и вычисляем AUC-PR\n",
    "plt.plot(recall_lr, precision_lr, linestyle='--',color='blue', label='LR')\n",
    "plt.plot([0, 1], [dumb, dumb], linestyle='--',color='green', label='Dummy')\n",
    "\n",
    "plt.title('PR curve')\n",
    "plt.xlabel('Recall')\n",
    "plt.ylabel('Precision')\n",
    "\n",
    "plt.legend(loc='best')\n",
    "plt.show()\n",
    "print('LR PR-AUC: %.5f' % auc(recall_lr, precision_lr))\n",
    "print('Dummy PR-AUC: %.5f' % auc([0, 1], [dumb, dumb]))"
   ],
   "metadata": {
    "collapsed": false,
    "pycharm": {
     "name": "#%%\n"
    }
   }
  },
  {
   "cell_type": "code",
   "execution_count": 107,
   "outputs": [
    {
     "name": "stdout",
     "output_type": "stream",
     "text": [
      "Accuracy score :  0.8779867819013727\n",
      "F1 score :  0.7985889966312039\n",
      "Precision score :  0.8542111577684464\n",
      "Recall score :  0.767132645674991\n",
      "ROC-AUC:  0.767132645674991\n"
     ]
    }
   ],
   "source": [
    "lr_pred = clf.predict(X_test)\n",
    "print(\"Accuracy score : \", accuracy_score(y_test, lr_pred))\n",
    "print(\"F1 score : \", f1_score(y_test, lr_pred, average=\"macro\"))\n",
    "print(\"Precision score : \", precision_score(y_test, lr_pred, average=\"macro\"))\n",
    "print(\"Recall score : \", recall_score(y_test, lr_pred, average=\"macro\"))\n",
    "print('ROC-AUC: ', roc_auc_score(y_test, lr_pred))"
   ],
   "metadata": {
    "collapsed": false,
    "pycharm": {
     "name": "#%%\n"
    }
   }
  },
  {
   "cell_type": "code",
   "execution_count": 109,
   "outputs": [
    {
     "data": {
      "text/plain": "array([-1.31894551])"
     },
     "execution_count": 109,
     "metadata": {},
     "output_type": "execute_result"
    }
   ],
   "source": [
    "log_reg.intercept_"
   ],
   "metadata": {
    "collapsed": false,
    "pycharm": {
     "name": "#%%\n"
    }
   }
  },
  {
   "cell_type": "code",
   "execution_count": 85,
   "outputs": [
    {
     "data": {
      "text/plain": "array([[ 1.67731221e-01,  9.81788723e-02, -1.24638927e-10,\n         8.22043453e-03,  1.33275424e-01,  7.43456575e-02,\n         2.78527760e-01,  3.64283955e-01,  2.67491790e-01,\n         1.32416427e-01,  1.57890923e-02,  6.73116662e-01]])"
     },
     "execution_count": 85,
     "metadata": {},
     "output_type": "execute_result"
    }
   ],
   "source": [
    "log_reg.coef_"
   ],
   "metadata": {
    "collapsed": false,
    "pycharm": {
     "name": "#%%\n"
    }
   }
  },
  {
   "cell_type": "code",
   "execution_count": 110,
   "outputs": [
    {
     "data": {
      "text/plain": "   var_name         split_list  sub_total_sample_num  positive_sample_num  \\\n0      LOAN      (-INF,5900.0]                   304                  142   \n1      LOAN    (5900.0,7600.0]                   299                   87   \n2      LOAN   (7600.0,10000.0]                   608                  137   \n3      LOAN  (10000.0,11400.0]                   365                   57   \n4      LOAN  (11400.0,12600.0]                   347                   76   \n..      ...                ...                   ...                  ...   \n0       JOB  [Office, missing]                  1227                  148   \n1       JOB          [ProfExe]                  1276                  212   \n2       JOB            [Other]                  2388                  554   \n3       JOB              [Mgr]                   767                  179   \n4       JOB      [Sales, Self]                   302                   96   \n\n    negative_sample_num  sub_total_num_percentage  positive_rate_in_sub_total  \\\n0                   162                  0.051007                    0.467105   \n1                   212                  0.050168                    0.290970   \n2                   471                  0.102013                    0.225329   \n3                   308                  0.061242                    0.156164   \n4                   271                  0.058221                    0.219020   \n..                  ...                       ...                         ...   \n0                  1079                  0.205872                    0.120619   \n1                  1064                  0.214094                    0.166144   \n2                  1834                  0.400671                    0.231993   \n3                   588                  0.128691                    0.233377   \n4                   206                  0.050671                    0.317881   \n\n    woe_list   iv_list        iv  \n0   1.257674  0.107497  0.249598  \n1   0.498766  0.014332  0.249598  \n2   0.154567  0.002551  0.249598  \n3  -0.297604  0.004945  0.249598  \n4   0.118059  0.000840  0.249598  \n..       ...       ...       ...  \n0  -0.597134  0.060719  0.115381  \n1  -0.223761  0.010005  0.115381  \n2   0.192353  0.015683  0.115381  \n3   0.200103  0.005463  0.115381  \n4   0.625916  0.023511  0.115381  \n\n[83 rows x 10 columns]",
      "text/html": "<div>\n<style scoped>\n    .dataframe tbody tr th:only-of-type {\n        vertical-align: middle;\n    }\n\n    .dataframe tbody tr th {\n        vertical-align: top;\n    }\n\n    .dataframe thead th {\n        text-align: right;\n    }\n</style>\n<table border=\"1\" class=\"dataframe\">\n  <thead>\n    <tr style=\"text-align: right;\">\n      <th></th>\n      <th>var_name</th>\n      <th>split_list</th>\n      <th>sub_total_sample_num</th>\n      <th>positive_sample_num</th>\n      <th>negative_sample_num</th>\n      <th>sub_total_num_percentage</th>\n      <th>positive_rate_in_sub_total</th>\n      <th>woe_list</th>\n      <th>iv_list</th>\n      <th>iv</th>\n    </tr>\n  </thead>\n  <tbody>\n    <tr>\n      <th>0</th>\n      <td>LOAN</td>\n      <td>(-INF,5900.0]</td>\n      <td>304</td>\n      <td>142</td>\n      <td>162</td>\n      <td>0.051007</td>\n      <td>0.467105</td>\n      <td>1.257674</td>\n      <td>0.107497</td>\n      <td>0.249598</td>\n    </tr>\n    <tr>\n      <th>1</th>\n      <td>LOAN</td>\n      <td>(5900.0,7600.0]</td>\n      <td>299</td>\n      <td>87</td>\n      <td>212</td>\n      <td>0.050168</td>\n      <td>0.290970</td>\n      <td>0.498766</td>\n      <td>0.014332</td>\n      <td>0.249598</td>\n    </tr>\n    <tr>\n      <th>2</th>\n      <td>LOAN</td>\n      <td>(7600.0,10000.0]</td>\n      <td>608</td>\n      <td>137</td>\n      <td>471</td>\n      <td>0.102013</td>\n      <td>0.225329</td>\n      <td>0.154567</td>\n      <td>0.002551</td>\n      <td>0.249598</td>\n    </tr>\n    <tr>\n      <th>3</th>\n      <td>LOAN</td>\n      <td>(10000.0,11400.0]</td>\n      <td>365</td>\n      <td>57</td>\n      <td>308</td>\n      <td>0.061242</td>\n      <td>0.156164</td>\n      <td>-0.297604</td>\n      <td>0.004945</td>\n      <td>0.249598</td>\n    </tr>\n    <tr>\n      <th>4</th>\n      <td>LOAN</td>\n      <td>(11400.0,12600.0]</td>\n      <td>347</td>\n      <td>76</td>\n      <td>271</td>\n      <td>0.058221</td>\n      <td>0.219020</td>\n      <td>0.118059</td>\n      <td>0.000840</td>\n      <td>0.249598</td>\n    </tr>\n    <tr>\n      <th>...</th>\n      <td>...</td>\n      <td>...</td>\n      <td>...</td>\n      <td>...</td>\n      <td>...</td>\n      <td>...</td>\n      <td>...</td>\n      <td>...</td>\n      <td>...</td>\n      <td>...</td>\n    </tr>\n    <tr>\n      <th>0</th>\n      <td>JOB</td>\n      <td>[Office, missing]</td>\n      <td>1227</td>\n      <td>148</td>\n      <td>1079</td>\n      <td>0.205872</td>\n      <td>0.120619</td>\n      <td>-0.597134</td>\n      <td>0.060719</td>\n      <td>0.115381</td>\n    </tr>\n    <tr>\n      <th>1</th>\n      <td>JOB</td>\n      <td>[ProfExe]</td>\n      <td>1276</td>\n      <td>212</td>\n      <td>1064</td>\n      <td>0.214094</td>\n      <td>0.166144</td>\n      <td>-0.223761</td>\n      <td>0.010005</td>\n      <td>0.115381</td>\n    </tr>\n    <tr>\n      <th>2</th>\n      <td>JOB</td>\n      <td>[Other]</td>\n      <td>2388</td>\n      <td>554</td>\n      <td>1834</td>\n      <td>0.400671</td>\n      <td>0.231993</td>\n      <td>0.192353</td>\n      <td>0.015683</td>\n      <td>0.115381</td>\n    </tr>\n    <tr>\n      <th>3</th>\n      <td>JOB</td>\n      <td>[Mgr]</td>\n      <td>767</td>\n      <td>179</td>\n      <td>588</td>\n      <td>0.128691</td>\n      <td>0.233377</td>\n      <td>0.200103</td>\n      <td>0.005463</td>\n      <td>0.115381</td>\n    </tr>\n    <tr>\n      <th>4</th>\n      <td>JOB</td>\n      <td>[Sales, Self]</td>\n      <td>302</td>\n      <td>96</td>\n      <td>206</td>\n      <td>0.050671</td>\n      <td>0.317881</td>\n      <td>0.625916</td>\n      <td>0.023511</td>\n      <td>0.115381</td>\n    </tr>\n  </tbody>\n</table>\n<p>83 rows × 10 columns</p>\n</div>"
     },
     "execution_count": 110,
     "metadata": {},
     "output_type": "execute_result"
    }
   ],
   "source": [
    "feature_detail"
   ],
   "metadata": {
    "collapsed": false,
    "pycharm": {
     "name": "#%%\n"
    }
   }
  },
  {
   "cell_type": "code",
   "execution_count": 115,
   "outputs": [
    {
     "data": {
      "text/plain": "  var_name          split_list  sub_total_sample_num  positive_sample_num  \\\n0    VALUE         (-INF,+INF)                  5960                 1189   \n0     CLNO         (-INF,16.0]                  2189                  467   \n1     CLNO         (16.0,19.0]                   742                  130   \n2     CLNO         (19.0,+INF)                  3029                  592   \n0   REASON           [DebtCon]                  3928                  745   \n1   REASON  [HomeImp, missing]                  2032                  444   \n\n   negative_sample_num  sub_total_num_percentage  positive_rate_in_sub_total  \\\n0                 4771                  1.000000                    0.199497   \n0                 1722                  0.367282                    0.213339   \n1                  612                  0.124497                    0.175202   \n2                 2437                  0.508221                    0.195444   \n0                 3183                  0.659060                    0.189664   \n1                 1588                  0.340940                    0.218504   \n\n       woe_list       iv_list            iv  \n0  6.314432e-08  3.987205e-15  3.987205e-15  \n0  8.453104e-02  2.691170e-03  6.046619e-03  \n1 -1.597539e-01  3.025636e-03  6.046619e-03  \n2 -2.557298e-02  3.298129e-04  6.046619e-03  \n0 -6.275180e-02  2.546387e-03  7.214471e-03  \n1  1.150374e-01  4.668084e-03  7.214471e-03  ",
      "text/html": "<div>\n<style scoped>\n    .dataframe tbody tr th:only-of-type {\n        vertical-align: middle;\n    }\n\n    .dataframe tbody tr th {\n        vertical-align: top;\n    }\n\n    .dataframe thead th {\n        text-align: right;\n    }\n</style>\n<table border=\"1\" class=\"dataframe\">\n  <thead>\n    <tr style=\"text-align: right;\">\n      <th></th>\n      <th>var_name</th>\n      <th>split_list</th>\n      <th>sub_total_sample_num</th>\n      <th>positive_sample_num</th>\n      <th>negative_sample_num</th>\n      <th>sub_total_num_percentage</th>\n      <th>positive_rate_in_sub_total</th>\n      <th>woe_list</th>\n      <th>iv_list</th>\n      <th>iv</th>\n    </tr>\n  </thead>\n  <tbody>\n    <tr>\n      <th>0</th>\n      <td>VALUE</td>\n      <td>(-INF,+INF)</td>\n      <td>5960</td>\n      <td>1189</td>\n      <td>4771</td>\n      <td>1.000000</td>\n      <td>0.199497</td>\n      <td>6.314432e-08</td>\n      <td>3.987205e-15</td>\n      <td>3.987205e-15</td>\n    </tr>\n    <tr>\n      <th>0</th>\n      <td>CLNO</td>\n      <td>(-INF,16.0]</td>\n      <td>2189</td>\n      <td>467</td>\n      <td>1722</td>\n      <td>0.367282</td>\n      <td>0.213339</td>\n      <td>8.453104e-02</td>\n      <td>2.691170e-03</td>\n      <td>6.046619e-03</td>\n    </tr>\n    <tr>\n      <th>1</th>\n      <td>CLNO</td>\n      <td>(16.0,19.0]</td>\n      <td>742</td>\n      <td>130</td>\n      <td>612</td>\n      <td>0.124497</td>\n      <td>0.175202</td>\n      <td>-1.597539e-01</td>\n      <td>3.025636e-03</td>\n      <td>6.046619e-03</td>\n    </tr>\n    <tr>\n      <th>2</th>\n      <td>CLNO</td>\n      <td>(19.0,+INF)</td>\n      <td>3029</td>\n      <td>592</td>\n      <td>2437</td>\n      <td>0.508221</td>\n      <td>0.195444</td>\n      <td>-2.557298e-02</td>\n      <td>3.298129e-04</td>\n      <td>6.046619e-03</td>\n    </tr>\n    <tr>\n      <th>0</th>\n      <td>REASON</td>\n      <td>[DebtCon]</td>\n      <td>3928</td>\n      <td>745</td>\n      <td>3183</td>\n      <td>0.659060</td>\n      <td>0.189664</td>\n      <td>-6.275180e-02</td>\n      <td>2.546387e-03</td>\n      <td>7.214471e-03</td>\n    </tr>\n    <tr>\n      <th>1</th>\n      <td>REASON</td>\n      <td>[HomeImp, missing]</td>\n      <td>2032</td>\n      <td>444</td>\n      <td>1588</td>\n      <td>0.340940</td>\n      <td>0.218504</td>\n      <td>1.150374e-01</td>\n      <td>4.668084e-03</td>\n      <td>7.214471e-03</td>\n    </tr>\n  </tbody>\n</table>\n</div>"
     },
     "execution_count": 115,
     "metadata": {},
     "output_type": "execute_result"
    }
   ],
   "source": [
    "feature_detail[feature_detail['iv'] < 0.02] # not useful for prediction"
   ],
   "metadata": {
    "collapsed": false,
    "pycharm": {
     "name": "#%%\n"
    }
   }
  },
  {
   "cell_type": "code",
   "execution_count": 116,
   "outputs": [
    {
     "data": {
      "text/plain": "  var_name   split_list  sub_total_sample_num  positive_sample_num  \\\n0      YOJ  (-INF,-1.0]                   515                   65   \n1      YOJ   (-1.0,0.0]                   486                  109   \n2      YOJ    (0.0,1.0]                   390                   90   \n3      YOJ    (1.0,2.0]                   365                  100   \n4      YOJ    (2.0,3.0]                   331                   87   \n5      YOJ    (3.0,4.0]                   335                   75   \n6      YOJ    (4.0,5.0]                   341                   82   \n7      YOJ    (5.0,6.0]                   323                   47   \n8      YOJ   (6.0,+INF)                  2874                  534   \n\n   negative_sample_num  sub_total_num_percentage  positive_rate_in_sub_total  \\\n0                  450                  0.086409                    0.126214   \n1                  377                  0.081544                    0.224280   \n2                  300                  0.065436                    0.230769   \n3                  265                  0.061242                    0.273973   \n4                  244                  0.055537                    0.262840   \n5                  260                  0.056208                    0.223881   \n6                  259                  0.057215                    0.240469   \n7                  276                  0.054195                    0.145511   \n8                 2340                  0.482215                    0.185804   \n\n   woe_list   iv_list        iv  \n0 -0.545416  0.021627  0.061009  \n1  0.148547  0.001880  0.061009  \n2  0.185471  0.002377  0.061009  \n3  0.414884  0.011849  0.061009  \n4  0.358184  0.007890  0.061009  \n5  0.146251  0.001255  0.061009  \n6  0.239335  0.003513  0.061009  \n7 -0.380808  0.006977  0.061009  \n8 -0.088067  0.003641  0.061009  ",
      "text/html": "<div>\n<style scoped>\n    .dataframe tbody tr th:only-of-type {\n        vertical-align: middle;\n    }\n\n    .dataframe tbody tr th {\n        vertical-align: top;\n    }\n\n    .dataframe thead th {\n        text-align: right;\n    }\n</style>\n<table border=\"1\" class=\"dataframe\">\n  <thead>\n    <tr style=\"text-align: right;\">\n      <th></th>\n      <th>var_name</th>\n      <th>split_list</th>\n      <th>sub_total_sample_num</th>\n      <th>positive_sample_num</th>\n      <th>negative_sample_num</th>\n      <th>sub_total_num_percentage</th>\n      <th>positive_rate_in_sub_total</th>\n      <th>woe_list</th>\n      <th>iv_list</th>\n      <th>iv</th>\n    </tr>\n  </thead>\n  <tbody>\n    <tr>\n      <th>0</th>\n      <td>YOJ</td>\n      <td>(-INF,-1.0]</td>\n      <td>515</td>\n      <td>65</td>\n      <td>450</td>\n      <td>0.086409</td>\n      <td>0.126214</td>\n      <td>-0.545416</td>\n      <td>0.021627</td>\n      <td>0.061009</td>\n    </tr>\n    <tr>\n      <th>1</th>\n      <td>YOJ</td>\n      <td>(-1.0,0.0]</td>\n      <td>486</td>\n      <td>109</td>\n      <td>377</td>\n      <td>0.081544</td>\n      <td>0.224280</td>\n      <td>0.148547</td>\n      <td>0.001880</td>\n      <td>0.061009</td>\n    </tr>\n    <tr>\n      <th>2</th>\n      <td>YOJ</td>\n      <td>(0.0,1.0]</td>\n      <td>390</td>\n      <td>90</td>\n      <td>300</td>\n      <td>0.065436</td>\n      <td>0.230769</td>\n      <td>0.185471</td>\n      <td>0.002377</td>\n      <td>0.061009</td>\n    </tr>\n    <tr>\n      <th>3</th>\n      <td>YOJ</td>\n      <td>(1.0,2.0]</td>\n      <td>365</td>\n      <td>100</td>\n      <td>265</td>\n      <td>0.061242</td>\n      <td>0.273973</td>\n      <td>0.414884</td>\n      <td>0.011849</td>\n      <td>0.061009</td>\n    </tr>\n    <tr>\n      <th>4</th>\n      <td>YOJ</td>\n      <td>(2.0,3.0]</td>\n      <td>331</td>\n      <td>87</td>\n      <td>244</td>\n      <td>0.055537</td>\n      <td>0.262840</td>\n      <td>0.358184</td>\n      <td>0.007890</td>\n      <td>0.061009</td>\n    </tr>\n    <tr>\n      <th>5</th>\n      <td>YOJ</td>\n      <td>(3.0,4.0]</td>\n      <td>335</td>\n      <td>75</td>\n      <td>260</td>\n      <td>0.056208</td>\n      <td>0.223881</td>\n      <td>0.146251</td>\n      <td>0.001255</td>\n      <td>0.061009</td>\n    </tr>\n    <tr>\n      <th>6</th>\n      <td>YOJ</td>\n      <td>(4.0,5.0]</td>\n      <td>341</td>\n      <td>82</td>\n      <td>259</td>\n      <td>0.057215</td>\n      <td>0.240469</td>\n      <td>0.239335</td>\n      <td>0.003513</td>\n      <td>0.061009</td>\n    </tr>\n    <tr>\n      <th>7</th>\n      <td>YOJ</td>\n      <td>(5.0,6.0]</td>\n      <td>323</td>\n      <td>47</td>\n      <td>276</td>\n      <td>0.054195</td>\n      <td>0.145511</td>\n      <td>-0.380808</td>\n      <td>0.006977</td>\n      <td>0.061009</td>\n    </tr>\n    <tr>\n      <th>8</th>\n      <td>YOJ</td>\n      <td>(6.0,+INF)</td>\n      <td>2874</td>\n      <td>534</td>\n      <td>2340</td>\n      <td>0.482215</td>\n      <td>0.185804</td>\n      <td>-0.088067</td>\n      <td>0.003641</td>\n      <td>0.061009</td>\n    </tr>\n  </tbody>\n</table>\n</div>"
     },
     "execution_count": 116,
     "metadata": {},
     "output_type": "execute_result"
    }
   ],
   "source": [
    "feature_detail[(feature_detail['iv'] >= 0.02) & (feature_detail['iv'] < 0.1)] # weak predictive power"
   ],
   "metadata": {
    "collapsed": false,
    "pycharm": {
     "name": "#%%\n"
    }
   }
  },
  {
   "cell_type": "code",
   "execution_count": 117,
   "outputs": [
    {
     "data": {
      "text/plain": "   var_name                    split_list  sub_total_sample_num  \\\n0      LOAN                 (-INF,5900.0]                   304   \n1      LOAN               (5900.0,7600.0]                   299   \n2      LOAN              (7600.0,10000.0]                   608   \n3      LOAN             (10000.0,11400.0]                   365   \n4      LOAN             (11400.0,12600.0]                   347   \n5      LOAN             (12600.0,13900.0]                   377   \n6      LOAN             (13900.0,15000.0]                   322   \n7      LOAN             (15000.0,17000.0]                   556   \n8      LOAN             (17000.0,18700.0]                   392   \n9      LOAN             (18700.0,21000.0]                   464   \n10     LOAN             (21000.0,23400.0]                   455   \n11     LOAN             (23400.0,25000.0]                   300   \n12     LOAN             (25000.0,27600.0]                   360   \n13     LOAN  (27600.0,36892.999999999985]                   443   \n14     LOAN     (36892.999999999985,+INF)                   368   \n0   MORTDUE                   (-INF,-1.0]                   518   \n1   MORTDUE               (-1.0,23463.12]                   439   \n2   MORTDUE            (23463.12,35072.0]                   390   \n3   MORTDUE             (35072.0,42757.4]                   322   \n4   MORTDUE             (42757.4,48145.6]                   340   \n5   MORTDUE            (48145.6,55434.88]                   526   \n6   MORTDUE           (55434.88,59778.06]                   317   \n7   MORTDUE            (59778.06,63985.8]                   303   \n8   MORTDUE             (63985.8,70387.2]                   402   \n9   MORTDUE            (70387.2,76071.84]                   335   \n10  MORTDUE           (76071.84,81941.84]                   310   \n11  MORTDUE           (81941.84,89190.72]                   304   \n12  MORTDUE           (89190.72,103589.0]                   489   \n13  MORTDUE           (103589.0,124313.2]                   338   \n14  MORTDUE          (124313.2,147633.84]                   314   \n15  MORTDUE              (147633.84,+INF)                   313   \n0     CLAGE                   (-INF,-1.0]                   308   \n1     CLAGE                   (-1.0,70.0]                   320   \n2     CLAGE                   (70.0,91.0]                   446   \n3     CLAGE                  (91.0,110.0]                   522   \n4     CLAGE                 (110.0,121.0]                   356   \n5     CLAGE                 (121.0,150.0]                   732   \n6     CLAGE                 (150.0,171.0]                   419   \n7     CLAGE                 (171.0,187.0]                   467   \n8     CLAGE                 (187.0,199.0]                   309   \n9     CLAGE                 (199.0,213.0]                   353   \n10    CLAGE                 (213.0,240.0]                   486   \n11    CLAGE                 (240.0,260.0]                   311   \n12    CLAGE    (260.0,311.69999999999993]                   558   \n13    CLAGE     (311.69999999999993,+INF)                   373   \n0      NINQ                   (-INF,-1.0]                   510   \n1      NINQ                    (-1.0,0.0]                  2531   \n2      NINQ                     (0.0,1.0]                  1339   \n3      NINQ                     (1.0,2.0]                   780   \n4      NINQ                     (2.0,3.0]                   392   \n5      NINQ                    (3.0,+INF)                   408   \n0       JOB             [Office, missing]                  1227   \n1       JOB                     [ProfExe]                  1276   \n2       JOB                       [Other]                  2388   \n3       JOB                         [Mgr]                   767   \n4       JOB                 [Sales, Self]                   302   \n\n    positive_sample_num  negative_sample_num  sub_total_num_percentage  \\\n0                   142                  162                  0.051007   \n1                    87                  212                  0.050168   \n2                   137                  471                  0.102013   \n3                    57                  308                  0.061242   \n4                    76                  271                  0.058221   \n5                    62                  315                  0.063255   \n6                    94                  228                  0.054027   \n7                    91                  465                  0.093289   \n8                    45                  347                  0.065772   \n9                    90                  374                  0.077852   \n10                   50                  405                  0.076342   \n11                   69                  231                  0.050336   \n12                   37                  323                  0.060403   \n13                   65                  378                  0.074329   \n14                   87                  281                  0.061745   \n0                   106                  412                  0.086913   \n1                   113                  326                  0.073658   \n2                   114                  276                  0.065436   \n3                    80                  242                  0.054027   \n4                    57                  283                  0.057047   \n5                   119                  407                  0.088255   \n6                    49                  268                  0.053188   \n7                    71                  232                  0.050839   \n8                    84                  318                  0.067450   \n9                    56                  279                  0.056208   \n10                   38                  272                  0.052013   \n11                   57                  247                  0.051007   \n12                   62                  427                  0.082047   \n13                   76                  262                  0.056711   \n14                   36                  278                  0.052685   \n15                   71                  242                  0.052517   \n0                    78                  230                  0.051678   \n1                   125                  195                  0.053691   \n2                   128                  318                  0.074832   \n3                   128                  394                  0.087584   \n4                    81                  275                  0.059732   \n5                   195                  537                  0.122819   \n6                    86                  333                  0.070302   \n7                    75                  392                  0.078356   \n8                    40                  269                  0.051846   \n9                    50                  303                  0.059228   \n10                   81                  405                  0.081544   \n11                   32                  279                  0.052181   \n12                   48                  510                  0.093624   \n13                   42                  331                  0.062584   \n0                    75                  435                  0.085570   \n1                   396                 2135                  0.424664   \n2                   254                 1085                  0.224664   \n3                   181                  599                  0.130872   \n4                   107                  285                  0.065772   \n5                   176                  232                  0.068456   \n0                   148                 1079                  0.205872   \n1                   212                 1064                  0.214094   \n2                   554                 1834                  0.400671   \n3                   179                  588                  0.128691   \n4                    96                  206                  0.050671   \n\n    positive_rate_in_sub_total  woe_list   iv_list        iv  \n0                     0.467105  1.257674  0.107497  0.249598  \n1                     0.290970  0.498766  0.014332  0.249598  \n2                     0.225329  0.154567  0.002551  0.249598  \n3                     0.156164 -0.297604  0.004945  0.249598  \n4                     0.219020  0.118059  0.000840  0.249598  \n5                     0.164456 -0.235994  0.003275  0.249598  \n6                     0.291925  0.503393  0.015741  0.249598  \n7                     0.163669 -0.241734  0.005059  0.249598  \n8                     0.114796 -0.653217  0.022787  0.249598  \n9                     0.193966 -0.035002  0.000094  0.249598  \n10                    0.109890 -0.702419  0.030089  0.249598  \n11                    0.230000  0.181133  0.001742  0.249598  \n12                    0.102778 -0.777289  0.028435  0.249598  \n13                    0.146727 -0.371062  0.009114  0.249598  \n14                    0.236413  0.216998  0.003097  0.249598  \n0                     0.204633  0.031860  0.000089  0.103315  \n1                     0.257403  0.329934  0.008812  0.103315  \n2                     0.292308  0.505241  0.019214  0.103315  \n3                     0.248447  0.282533  0.004679  0.103315  \n4                     0.167647 -0.212951  0.002423  0.103315  \n5                     0.226236  0.159754  0.002361  0.103315  \n6                     0.154574 -0.309722  0.004634  0.103315  \n7                     0.234323  0.205387  0.002277  0.103315  \n8                     0.208955  0.058210  0.000233  0.103315  \n9                     0.167164 -0.216415  0.002463  0.103315  \n10                    0.122581 -0.578770  0.014499  0.103315  \n11                    0.187500 -0.076892  0.000295  0.103315  \n12                    0.126789 -0.540205  0.020179  0.103315  \n13                    0.224852  0.151833  0.001367  0.103315  \n14                    0.114650 -0.654656  0.018325  0.103315  \n15                    0.226837  0.163186  0.001467  0.103315  \n0                     0.253247  0.308074  0.005358  0.255164  \n1                     0.390625  0.944758  0.060709  0.255164  \n2                     0.286996  0.479423  0.019657  0.255164  \n3                     0.245211  0.265123  0.006647  0.255164  \n4                     0.227528  0.167122  0.001752  0.255164  \n5                     0.266393  0.376445  0.019368  0.255164  \n6                     0.205251  0.035649  0.000090  0.255164  \n7                     0.160600 -0.264329  0.005045  0.255164  \n8                     0.129450 -0.516386  0.011743  0.255164  \n9                     0.141643 -0.412265  0.008846  0.255164  \n10                    0.166667 -0.219994  0.003688  0.255164  \n11                    0.102894 -0.776030  0.024495  0.255164  \n12                    0.086022 -0.973765  0.064780  0.255164  \n13                    0.112601 -0.675003  0.022986  0.255164  \n0                     0.147059 -0.368414  0.010352  0.173202  \n1                     0.156460 -0.295364  0.033802  0.173202  \n2                     0.189694 -0.062557  0.000863  0.173202  \n3                     0.232051  0.192679  0.005140  0.173202  \n4                     0.272959  0.409784  0.012398  0.173202  \n5                     0.431373  1.113190  0.110647  0.173202  \n0                     0.120619 -0.597134  0.060719  0.115381  \n1                     0.166144 -0.223761  0.010005  0.115381  \n2                     0.231993  0.192353  0.015683  0.115381  \n3                     0.233377  0.200103  0.005463  0.115381  \n4                     0.317881  0.625916  0.023511  0.115381  ",
      "text/html": "<div>\n<style scoped>\n    .dataframe tbody tr th:only-of-type {\n        vertical-align: middle;\n    }\n\n    .dataframe tbody tr th {\n        vertical-align: top;\n    }\n\n    .dataframe thead th {\n        text-align: right;\n    }\n</style>\n<table border=\"1\" class=\"dataframe\">\n  <thead>\n    <tr style=\"text-align: right;\">\n      <th></th>\n      <th>var_name</th>\n      <th>split_list</th>\n      <th>sub_total_sample_num</th>\n      <th>positive_sample_num</th>\n      <th>negative_sample_num</th>\n      <th>sub_total_num_percentage</th>\n      <th>positive_rate_in_sub_total</th>\n      <th>woe_list</th>\n      <th>iv_list</th>\n      <th>iv</th>\n    </tr>\n  </thead>\n  <tbody>\n    <tr>\n      <th>0</th>\n      <td>LOAN</td>\n      <td>(-INF,5900.0]</td>\n      <td>304</td>\n      <td>142</td>\n      <td>162</td>\n      <td>0.051007</td>\n      <td>0.467105</td>\n      <td>1.257674</td>\n      <td>0.107497</td>\n      <td>0.249598</td>\n    </tr>\n    <tr>\n      <th>1</th>\n      <td>LOAN</td>\n      <td>(5900.0,7600.0]</td>\n      <td>299</td>\n      <td>87</td>\n      <td>212</td>\n      <td>0.050168</td>\n      <td>0.290970</td>\n      <td>0.498766</td>\n      <td>0.014332</td>\n      <td>0.249598</td>\n    </tr>\n    <tr>\n      <th>2</th>\n      <td>LOAN</td>\n      <td>(7600.0,10000.0]</td>\n      <td>608</td>\n      <td>137</td>\n      <td>471</td>\n      <td>0.102013</td>\n      <td>0.225329</td>\n      <td>0.154567</td>\n      <td>0.002551</td>\n      <td>0.249598</td>\n    </tr>\n    <tr>\n      <th>3</th>\n      <td>LOAN</td>\n      <td>(10000.0,11400.0]</td>\n      <td>365</td>\n      <td>57</td>\n      <td>308</td>\n      <td>0.061242</td>\n      <td>0.156164</td>\n      <td>-0.297604</td>\n      <td>0.004945</td>\n      <td>0.249598</td>\n    </tr>\n    <tr>\n      <th>4</th>\n      <td>LOAN</td>\n      <td>(11400.0,12600.0]</td>\n      <td>347</td>\n      <td>76</td>\n      <td>271</td>\n      <td>0.058221</td>\n      <td>0.219020</td>\n      <td>0.118059</td>\n      <td>0.000840</td>\n      <td>0.249598</td>\n    </tr>\n    <tr>\n      <th>5</th>\n      <td>LOAN</td>\n      <td>(12600.0,13900.0]</td>\n      <td>377</td>\n      <td>62</td>\n      <td>315</td>\n      <td>0.063255</td>\n      <td>0.164456</td>\n      <td>-0.235994</td>\n      <td>0.003275</td>\n      <td>0.249598</td>\n    </tr>\n    <tr>\n      <th>6</th>\n      <td>LOAN</td>\n      <td>(13900.0,15000.0]</td>\n      <td>322</td>\n      <td>94</td>\n      <td>228</td>\n      <td>0.054027</td>\n      <td>0.291925</td>\n      <td>0.503393</td>\n      <td>0.015741</td>\n      <td>0.249598</td>\n    </tr>\n    <tr>\n      <th>7</th>\n      <td>LOAN</td>\n      <td>(15000.0,17000.0]</td>\n      <td>556</td>\n      <td>91</td>\n      <td>465</td>\n      <td>0.093289</td>\n      <td>0.163669</td>\n      <td>-0.241734</td>\n      <td>0.005059</td>\n      <td>0.249598</td>\n    </tr>\n    <tr>\n      <th>8</th>\n      <td>LOAN</td>\n      <td>(17000.0,18700.0]</td>\n      <td>392</td>\n      <td>45</td>\n      <td>347</td>\n      <td>0.065772</td>\n      <td>0.114796</td>\n      <td>-0.653217</td>\n      <td>0.022787</td>\n      <td>0.249598</td>\n    </tr>\n    <tr>\n      <th>9</th>\n      <td>LOAN</td>\n      <td>(18700.0,21000.0]</td>\n      <td>464</td>\n      <td>90</td>\n      <td>374</td>\n      <td>0.077852</td>\n      <td>0.193966</td>\n      <td>-0.035002</td>\n      <td>0.000094</td>\n      <td>0.249598</td>\n    </tr>\n    <tr>\n      <th>10</th>\n      <td>LOAN</td>\n      <td>(21000.0,23400.0]</td>\n      <td>455</td>\n      <td>50</td>\n      <td>405</td>\n      <td>0.076342</td>\n      <td>0.109890</td>\n      <td>-0.702419</td>\n      <td>0.030089</td>\n      <td>0.249598</td>\n    </tr>\n    <tr>\n      <th>11</th>\n      <td>LOAN</td>\n      <td>(23400.0,25000.0]</td>\n      <td>300</td>\n      <td>69</td>\n      <td>231</td>\n      <td>0.050336</td>\n      <td>0.230000</td>\n      <td>0.181133</td>\n      <td>0.001742</td>\n      <td>0.249598</td>\n    </tr>\n    <tr>\n      <th>12</th>\n      <td>LOAN</td>\n      <td>(25000.0,27600.0]</td>\n      <td>360</td>\n      <td>37</td>\n      <td>323</td>\n      <td>0.060403</td>\n      <td>0.102778</td>\n      <td>-0.777289</td>\n      <td>0.028435</td>\n      <td>0.249598</td>\n    </tr>\n    <tr>\n      <th>13</th>\n      <td>LOAN</td>\n      <td>(27600.0,36892.999999999985]</td>\n      <td>443</td>\n      <td>65</td>\n      <td>378</td>\n      <td>0.074329</td>\n      <td>0.146727</td>\n      <td>-0.371062</td>\n      <td>0.009114</td>\n      <td>0.249598</td>\n    </tr>\n    <tr>\n      <th>14</th>\n      <td>LOAN</td>\n      <td>(36892.999999999985,+INF)</td>\n      <td>368</td>\n      <td>87</td>\n      <td>281</td>\n      <td>0.061745</td>\n      <td>0.236413</td>\n      <td>0.216998</td>\n      <td>0.003097</td>\n      <td>0.249598</td>\n    </tr>\n    <tr>\n      <th>0</th>\n      <td>MORTDUE</td>\n      <td>(-INF,-1.0]</td>\n      <td>518</td>\n      <td>106</td>\n      <td>412</td>\n      <td>0.086913</td>\n      <td>0.204633</td>\n      <td>0.031860</td>\n      <td>0.000089</td>\n      <td>0.103315</td>\n    </tr>\n    <tr>\n      <th>1</th>\n      <td>MORTDUE</td>\n      <td>(-1.0,23463.12]</td>\n      <td>439</td>\n      <td>113</td>\n      <td>326</td>\n      <td>0.073658</td>\n      <td>0.257403</td>\n      <td>0.329934</td>\n      <td>0.008812</td>\n      <td>0.103315</td>\n    </tr>\n    <tr>\n      <th>2</th>\n      <td>MORTDUE</td>\n      <td>(23463.12,35072.0]</td>\n      <td>390</td>\n      <td>114</td>\n      <td>276</td>\n      <td>0.065436</td>\n      <td>0.292308</td>\n      <td>0.505241</td>\n      <td>0.019214</td>\n      <td>0.103315</td>\n    </tr>\n    <tr>\n      <th>3</th>\n      <td>MORTDUE</td>\n      <td>(35072.0,42757.4]</td>\n      <td>322</td>\n      <td>80</td>\n      <td>242</td>\n      <td>0.054027</td>\n      <td>0.248447</td>\n      <td>0.282533</td>\n      <td>0.004679</td>\n      <td>0.103315</td>\n    </tr>\n    <tr>\n      <th>4</th>\n      <td>MORTDUE</td>\n      <td>(42757.4,48145.6]</td>\n      <td>340</td>\n      <td>57</td>\n      <td>283</td>\n      <td>0.057047</td>\n      <td>0.167647</td>\n      <td>-0.212951</td>\n      <td>0.002423</td>\n      <td>0.103315</td>\n    </tr>\n    <tr>\n      <th>5</th>\n      <td>MORTDUE</td>\n      <td>(48145.6,55434.88]</td>\n      <td>526</td>\n      <td>119</td>\n      <td>407</td>\n      <td>0.088255</td>\n      <td>0.226236</td>\n      <td>0.159754</td>\n      <td>0.002361</td>\n      <td>0.103315</td>\n    </tr>\n    <tr>\n      <th>6</th>\n      <td>MORTDUE</td>\n      <td>(55434.88,59778.06]</td>\n      <td>317</td>\n      <td>49</td>\n      <td>268</td>\n      <td>0.053188</td>\n      <td>0.154574</td>\n      <td>-0.309722</td>\n      <td>0.004634</td>\n      <td>0.103315</td>\n    </tr>\n    <tr>\n      <th>7</th>\n      <td>MORTDUE</td>\n      <td>(59778.06,63985.8]</td>\n      <td>303</td>\n      <td>71</td>\n      <td>232</td>\n      <td>0.050839</td>\n      <td>0.234323</td>\n      <td>0.205387</td>\n      <td>0.002277</td>\n      <td>0.103315</td>\n    </tr>\n    <tr>\n      <th>8</th>\n      <td>MORTDUE</td>\n      <td>(63985.8,70387.2]</td>\n      <td>402</td>\n      <td>84</td>\n      <td>318</td>\n      <td>0.067450</td>\n      <td>0.208955</td>\n      <td>0.058210</td>\n      <td>0.000233</td>\n      <td>0.103315</td>\n    </tr>\n    <tr>\n      <th>9</th>\n      <td>MORTDUE</td>\n      <td>(70387.2,76071.84]</td>\n      <td>335</td>\n      <td>56</td>\n      <td>279</td>\n      <td>0.056208</td>\n      <td>0.167164</td>\n      <td>-0.216415</td>\n      <td>0.002463</td>\n      <td>0.103315</td>\n    </tr>\n    <tr>\n      <th>10</th>\n      <td>MORTDUE</td>\n      <td>(76071.84,81941.84]</td>\n      <td>310</td>\n      <td>38</td>\n      <td>272</td>\n      <td>0.052013</td>\n      <td>0.122581</td>\n      <td>-0.578770</td>\n      <td>0.014499</td>\n      <td>0.103315</td>\n    </tr>\n    <tr>\n      <th>11</th>\n      <td>MORTDUE</td>\n      <td>(81941.84,89190.72]</td>\n      <td>304</td>\n      <td>57</td>\n      <td>247</td>\n      <td>0.051007</td>\n      <td>0.187500</td>\n      <td>-0.076892</td>\n      <td>0.000295</td>\n      <td>0.103315</td>\n    </tr>\n    <tr>\n      <th>12</th>\n      <td>MORTDUE</td>\n      <td>(89190.72,103589.0]</td>\n      <td>489</td>\n      <td>62</td>\n      <td>427</td>\n      <td>0.082047</td>\n      <td>0.126789</td>\n      <td>-0.540205</td>\n      <td>0.020179</td>\n      <td>0.103315</td>\n    </tr>\n    <tr>\n      <th>13</th>\n      <td>MORTDUE</td>\n      <td>(103589.0,124313.2]</td>\n      <td>338</td>\n      <td>76</td>\n      <td>262</td>\n      <td>0.056711</td>\n      <td>0.224852</td>\n      <td>0.151833</td>\n      <td>0.001367</td>\n      <td>0.103315</td>\n    </tr>\n    <tr>\n      <th>14</th>\n      <td>MORTDUE</td>\n      <td>(124313.2,147633.84]</td>\n      <td>314</td>\n      <td>36</td>\n      <td>278</td>\n      <td>0.052685</td>\n      <td>0.114650</td>\n      <td>-0.654656</td>\n      <td>0.018325</td>\n      <td>0.103315</td>\n    </tr>\n    <tr>\n      <th>15</th>\n      <td>MORTDUE</td>\n      <td>(147633.84,+INF)</td>\n      <td>313</td>\n      <td>71</td>\n      <td>242</td>\n      <td>0.052517</td>\n      <td>0.226837</td>\n      <td>0.163186</td>\n      <td>0.001467</td>\n      <td>0.103315</td>\n    </tr>\n    <tr>\n      <th>0</th>\n      <td>CLAGE</td>\n      <td>(-INF,-1.0]</td>\n      <td>308</td>\n      <td>78</td>\n      <td>230</td>\n      <td>0.051678</td>\n      <td>0.253247</td>\n      <td>0.308074</td>\n      <td>0.005358</td>\n      <td>0.255164</td>\n    </tr>\n    <tr>\n      <th>1</th>\n      <td>CLAGE</td>\n      <td>(-1.0,70.0]</td>\n      <td>320</td>\n      <td>125</td>\n      <td>195</td>\n      <td>0.053691</td>\n      <td>0.390625</td>\n      <td>0.944758</td>\n      <td>0.060709</td>\n      <td>0.255164</td>\n    </tr>\n    <tr>\n      <th>2</th>\n      <td>CLAGE</td>\n      <td>(70.0,91.0]</td>\n      <td>446</td>\n      <td>128</td>\n      <td>318</td>\n      <td>0.074832</td>\n      <td>0.286996</td>\n      <td>0.479423</td>\n      <td>0.019657</td>\n      <td>0.255164</td>\n    </tr>\n    <tr>\n      <th>3</th>\n      <td>CLAGE</td>\n      <td>(91.0,110.0]</td>\n      <td>522</td>\n      <td>128</td>\n      <td>394</td>\n      <td>0.087584</td>\n      <td>0.245211</td>\n      <td>0.265123</td>\n      <td>0.006647</td>\n      <td>0.255164</td>\n    </tr>\n    <tr>\n      <th>4</th>\n      <td>CLAGE</td>\n      <td>(110.0,121.0]</td>\n      <td>356</td>\n      <td>81</td>\n      <td>275</td>\n      <td>0.059732</td>\n      <td>0.227528</td>\n      <td>0.167122</td>\n      <td>0.001752</td>\n      <td>0.255164</td>\n    </tr>\n    <tr>\n      <th>5</th>\n      <td>CLAGE</td>\n      <td>(121.0,150.0]</td>\n      <td>732</td>\n      <td>195</td>\n      <td>537</td>\n      <td>0.122819</td>\n      <td>0.266393</td>\n      <td>0.376445</td>\n      <td>0.019368</td>\n      <td>0.255164</td>\n    </tr>\n    <tr>\n      <th>6</th>\n      <td>CLAGE</td>\n      <td>(150.0,171.0]</td>\n      <td>419</td>\n      <td>86</td>\n      <td>333</td>\n      <td>0.070302</td>\n      <td>0.205251</td>\n      <td>0.035649</td>\n      <td>0.000090</td>\n      <td>0.255164</td>\n    </tr>\n    <tr>\n      <th>7</th>\n      <td>CLAGE</td>\n      <td>(171.0,187.0]</td>\n      <td>467</td>\n      <td>75</td>\n      <td>392</td>\n      <td>0.078356</td>\n      <td>0.160600</td>\n      <td>-0.264329</td>\n      <td>0.005045</td>\n      <td>0.255164</td>\n    </tr>\n    <tr>\n      <th>8</th>\n      <td>CLAGE</td>\n      <td>(187.0,199.0]</td>\n      <td>309</td>\n      <td>40</td>\n      <td>269</td>\n      <td>0.051846</td>\n      <td>0.129450</td>\n      <td>-0.516386</td>\n      <td>0.011743</td>\n      <td>0.255164</td>\n    </tr>\n    <tr>\n      <th>9</th>\n      <td>CLAGE</td>\n      <td>(199.0,213.0]</td>\n      <td>353</td>\n      <td>50</td>\n      <td>303</td>\n      <td>0.059228</td>\n      <td>0.141643</td>\n      <td>-0.412265</td>\n      <td>0.008846</td>\n      <td>0.255164</td>\n    </tr>\n    <tr>\n      <th>10</th>\n      <td>CLAGE</td>\n      <td>(213.0,240.0]</td>\n      <td>486</td>\n      <td>81</td>\n      <td>405</td>\n      <td>0.081544</td>\n      <td>0.166667</td>\n      <td>-0.219994</td>\n      <td>0.003688</td>\n      <td>0.255164</td>\n    </tr>\n    <tr>\n      <th>11</th>\n      <td>CLAGE</td>\n      <td>(240.0,260.0]</td>\n      <td>311</td>\n      <td>32</td>\n      <td>279</td>\n      <td>0.052181</td>\n      <td>0.102894</td>\n      <td>-0.776030</td>\n      <td>0.024495</td>\n      <td>0.255164</td>\n    </tr>\n    <tr>\n      <th>12</th>\n      <td>CLAGE</td>\n      <td>(260.0,311.69999999999993]</td>\n      <td>558</td>\n      <td>48</td>\n      <td>510</td>\n      <td>0.093624</td>\n      <td>0.086022</td>\n      <td>-0.973765</td>\n      <td>0.064780</td>\n      <td>0.255164</td>\n    </tr>\n    <tr>\n      <th>13</th>\n      <td>CLAGE</td>\n      <td>(311.69999999999993,+INF)</td>\n      <td>373</td>\n      <td>42</td>\n      <td>331</td>\n      <td>0.062584</td>\n      <td>0.112601</td>\n      <td>-0.675003</td>\n      <td>0.022986</td>\n      <td>0.255164</td>\n    </tr>\n    <tr>\n      <th>0</th>\n      <td>NINQ</td>\n      <td>(-INF,-1.0]</td>\n      <td>510</td>\n      <td>75</td>\n      <td>435</td>\n      <td>0.085570</td>\n      <td>0.147059</td>\n      <td>-0.368414</td>\n      <td>0.010352</td>\n      <td>0.173202</td>\n    </tr>\n    <tr>\n      <th>1</th>\n      <td>NINQ</td>\n      <td>(-1.0,0.0]</td>\n      <td>2531</td>\n      <td>396</td>\n      <td>2135</td>\n      <td>0.424664</td>\n      <td>0.156460</td>\n      <td>-0.295364</td>\n      <td>0.033802</td>\n      <td>0.173202</td>\n    </tr>\n    <tr>\n      <th>2</th>\n      <td>NINQ</td>\n      <td>(0.0,1.0]</td>\n      <td>1339</td>\n      <td>254</td>\n      <td>1085</td>\n      <td>0.224664</td>\n      <td>0.189694</td>\n      <td>-0.062557</td>\n      <td>0.000863</td>\n      <td>0.173202</td>\n    </tr>\n    <tr>\n      <th>3</th>\n      <td>NINQ</td>\n      <td>(1.0,2.0]</td>\n      <td>780</td>\n      <td>181</td>\n      <td>599</td>\n      <td>0.130872</td>\n      <td>0.232051</td>\n      <td>0.192679</td>\n      <td>0.005140</td>\n      <td>0.173202</td>\n    </tr>\n    <tr>\n      <th>4</th>\n      <td>NINQ</td>\n      <td>(2.0,3.0]</td>\n      <td>392</td>\n      <td>107</td>\n      <td>285</td>\n      <td>0.065772</td>\n      <td>0.272959</td>\n      <td>0.409784</td>\n      <td>0.012398</td>\n      <td>0.173202</td>\n    </tr>\n    <tr>\n      <th>5</th>\n      <td>NINQ</td>\n      <td>(3.0,+INF)</td>\n      <td>408</td>\n      <td>176</td>\n      <td>232</td>\n      <td>0.068456</td>\n      <td>0.431373</td>\n      <td>1.113190</td>\n      <td>0.110647</td>\n      <td>0.173202</td>\n    </tr>\n    <tr>\n      <th>0</th>\n      <td>JOB</td>\n      <td>[Office, missing]</td>\n      <td>1227</td>\n      <td>148</td>\n      <td>1079</td>\n      <td>0.205872</td>\n      <td>0.120619</td>\n      <td>-0.597134</td>\n      <td>0.060719</td>\n      <td>0.115381</td>\n    </tr>\n    <tr>\n      <th>1</th>\n      <td>JOB</td>\n      <td>[ProfExe]</td>\n      <td>1276</td>\n      <td>212</td>\n      <td>1064</td>\n      <td>0.214094</td>\n      <td>0.166144</td>\n      <td>-0.223761</td>\n      <td>0.010005</td>\n      <td>0.115381</td>\n    </tr>\n    <tr>\n      <th>2</th>\n      <td>JOB</td>\n      <td>[Other]</td>\n      <td>2388</td>\n      <td>554</td>\n      <td>1834</td>\n      <td>0.400671</td>\n      <td>0.231993</td>\n      <td>0.192353</td>\n      <td>0.015683</td>\n      <td>0.115381</td>\n    </tr>\n    <tr>\n      <th>3</th>\n      <td>JOB</td>\n      <td>[Mgr]</td>\n      <td>767</td>\n      <td>179</td>\n      <td>588</td>\n      <td>0.128691</td>\n      <td>0.233377</td>\n      <td>0.200103</td>\n      <td>0.005463</td>\n      <td>0.115381</td>\n    </tr>\n    <tr>\n      <th>4</th>\n      <td>JOB</td>\n      <td>[Sales, Self]</td>\n      <td>302</td>\n      <td>96</td>\n      <td>206</td>\n      <td>0.050671</td>\n      <td>0.317881</td>\n      <td>0.625916</td>\n      <td>0.023511</td>\n      <td>0.115381</td>\n    </tr>\n  </tbody>\n</table>\n</div>"
     },
     "execution_count": 117,
     "metadata": {},
     "output_type": "execute_result"
    }
   ],
   "source": [
    "feature_detail[(feature_detail['iv'] >= 0.1) & (feature_detail['iv'] < 0.3)] # medium predictive power"
   ],
   "metadata": {
    "collapsed": false,
    "pycharm": {
     "name": "#%%\n"
    }
   }
  },
  {
   "cell_type": "code",
   "execution_count": 118,
   "outputs": [
    {
     "data": {
      "text/plain": "  var_name   split_list  sub_total_sample_num  positive_sample_num  \\\n0    DEROG  (-INF,-1.0]                   708                   87   \n1    DEROG   (-1.0,0.0]                  4527                  754   \n2    DEROG   (0.0,+INF)                   725                  348   \n\n   negative_sample_num  sub_total_num_percentage  positive_rate_in_sub_total  \\\n0                  621                  0.118792                    0.122881   \n1                 3773                  0.759564                    0.166556   \n2                  377                  0.121644                    0.480000   \n\n   woe_list   iv_list        iv  \n0 -0.575979  0.032825  0.347189  \n1 -0.220790  0.034592  0.347189  \n2  1.309401  0.279772  0.347189  ",
      "text/html": "<div>\n<style scoped>\n    .dataframe tbody tr th:only-of-type {\n        vertical-align: middle;\n    }\n\n    .dataframe tbody tr th {\n        vertical-align: top;\n    }\n\n    .dataframe thead th {\n        text-align: right;\n    }\n</style>\n<table border=\"1\" class=\"dataframe\">\n  <thead>\n    <tr style=\"text-align: right;\">\n      <th></th>\n      <th>var_name</th>\n      <th>split_list</th>\n      <th>sub_total_sample_num</th>\n      <th>positive_sample_num</th>\n      <th>negative_sample_num</th>\n      <th>sub_total_num_percentage</th>\n      <th>positive_rate_in_sub_total</th>\n      <th>woe_list</th>\n      <th>iv_list</th>\n      <th>iv</th>\n    </tr>\n  </thead>\n  <tbody>\n    <tr>\n      <th>0</th>\n      <td>DEROG</td>\n      <td>(-INF,-1.0]</td>\n      <td>708</td>\n      <td>87</td>\n      <td>621</td>\n      <td>0.118792</td>\n      <td>0.122881</td>\n      <td>-0.575979</td>\n      <td>0.032825</td>\n      <td>0.347189</td>\n    </tr>\n    <tr>\n      <th>1</th>\n      <td>DEROG</td>\n      <td>(-1.0,0.0]</td>\n      <td>4527</td>\n      <td>754</td>\n      <td>3773</td>\n      <td>0.759564</td>\n      <td>0.166556</td>\n      <td>-0.220790</td>\n      <td>0.034592</td>\n      <td>0.347189</td>\n    </tr>\n    <tr>\n      <th>2</th>\n      <td>DEROG</td>\n      <td>(0.0,+INF)</td>\n      <td>725</td>\n      <td>348</td>\n      <td>377</td>\n      <td>0.121644</td>\n      <td>0.480000</td>\n      <td>1.309401</td>\n      <td>0.279772</td>\n      <td>0.347189</td>\n    </tr>\n  </tbody>\n</table>\n</div>"
     },
     "execution_count": 118,
     "metadata": {},
     "output_type": "execute_result"
    }
   ],
   "source": [
    "feature_detail[(feature_detail['iv'] >= 0.3) & (feature_detail['iv'] < 0.5)] # strong predictive power"
   ],
   "metadata": {
    "collapsed": false,
    "pycharm": {
     "name": "#%%\n"
    }
   }
  },
  {
   "cell_type": "code",
   "execution_count": 119,
   "outputs": [
    {
     "data": {
      "text/plain": "  var_name   split_list  sub_total_sample_num  positive_sample_num  \\\n0   DELINQ  (-INF,-1.0]                   580                   72   \n1   DELINQ   (-1.0,0.0]                  4179                  583   \n2   DELINQ    (0.0,1.0]                   654                  222   \n3   DELINQ   (1.0,+INF)                   547                  312   \n0  DEBTINC  (-INF,-1.0]                  1267                  786   \n1  DEBTINC  (-1.0,21.0]                   331                   27   \n2  DEBTINC  (21.0,36.0]                  2608                  159   \n3  DEBTINC  (36.0,40.0]                  1182                   72   \n4  DEBTINC  (40.0,+INF)                   572                  145   \n\n   negative_sample_num  sub_total_num_percentage  positive_rate_in_sub_total  \\\n0                  508                  0.097315                    0.124138   \n1                 3596                  0.701174                    0.139507   \n2                  432                  0.109732                    0.339450   \n3                  235                  0.091779                    0.570384   \n0                  481                  0.212584                    0.620363   \n1                  304                  0.055537                    0.081571   \n2                 2449                  0.437584                    0.060966   \n3                 1110                  0.198322                    0.060914   \n4                  427                  0.095973                    0.253497   \n\n   woe_list   iv_list        iv  \n0 -0.564371  0.025917  0.565325  \n1 -0.429947  0.113245  0.565325  \n2  0.723695  0.069594  0.565325  \n3  1.672861  0.356570  0.565325  \n0  1.880533  1.053554  1.848128  \n1 -1.031744  0.042312  1.848128  \n2 -1.345087  0.510573  1.848128  \n3 -1.346005  0.231648  1.848128  \n4  0.309393  0.010041  1.848128  ",
      "text/html": "<div>\n<style scoped>\n    .dataframe tbody tr th:only-of-type {\n        vertical-align: middle;\n    }\n\n    .dataframe tbody tr th {\n        vertical-align: top;\n    }\n\n    .dataframe thead th {\n        text-align: right;\n    }\n</style>\n<table border=\"1\" class=\"dataframe\">\n  <thead>\n    <tr style=\"text-align: right;\">\n      <th></th>\n      <th>var_name</th>\n      <th>split_list</th>\n      <th>sub_total_sample_num</th>\n      <th>positive_sample_num</th>\n      <th>negative_sample_num</th>\n      <th>sub_total_num_percentage</th>\n      <th>positive_rate_in_sub_total</th>\n      <th>woe_list</th>\n      <th>iv_list</th>\n      <th>iv</th>\n    </tr>\n  </thead>\n  <tbody>\n    <tr>\n      <th>0</th>\n      <td>DELINQ</td>\n      <td>(-INF,-1.0]</td>\n      <td>580</td>\n      <td>72</td>\n      <td>508</td>\n      <td>0.097315</td>\n      <td>0.124138</td>\n      <td>-0.564371</td>\n      <td>0.025917</td>\n      <td>0.565325</td>\n    </tr>\n    <tr>\n      <th>1</th>\n      <td>DELINQ</td>\n      <td>(-1.0,0.0]</td>\n      <td>4179</td>\n      <td>583</td>\n      <td>3596</td>\n      <td>0.701174</td>\n      <td>0.139507</td>\n      <td>-0.429947</td>\n      <td>0.113245</td>\n      <td>0.565325</td>\n    </tr>\n    <tr>\n      <th>2</th>\n      <td>DELINQ</td>\n      <td>(0.0,1.0]</td>\n      <td>654</td>\n      <td>222</td>\n      <td>432</td>\n      <td>0.109732</td>\n      <td>0.339450</td>\n      <td>0.723695</td>\n      <td>0.069594</td>\n      <td>0.565325</td>\n    </tr>\n    <tr>\n      <th>3</th>\n      <td>DELINQ</td>\n      <td>(1.0,+INF)</td>\n      <td>547</td>\n      <td>312</td>\n      <td>235</td>\n      <td>0.091779</td>\n      <td>0.570384</td>\n      <td>1.672861</td>\n      <td>0.356570</td>\n      <td>0.565325</td>\n    </tr>\n    <tr>\n      <th>0</th>\n      <td>DEBTINC</td>\n      <td>(-INF,-1.0]</td>\n      <td>1267</td>\n      <td>786</td>\n      <td>481</td>\n      <td>0.212584</td>\n      <td>0.620363</td>\n      <td>1.880533</td>\n      <td>1.053554</td>\n      <td>1.848128</td>\n    </tr>\n    <tr>\n      <th>1</th>\n      <td>DEBTINC</td>\n      <td>(-1.0,21.0]</td>\n      <td>331</td>\n      <td>27</td>\n      <td>304</td>\n      <td>0.055537</td>\n      <td>0.081571</td>\n      <td>-1.031744</td>\n      <td>0.042312</td>\n      <td>1.848128</td>\n    </tr>\n    <tr>\n      <th>2</th>\n      <td>DEBTINC</td>\n      <td>(21.0,36.0]</td>\n      <td>2608</td>\n      <td>159</td>\n      <td>2449</td>\n      <td>0.437584</td>\n      <td>0.060966</td>\n      <td>-1.345087</td>\n      <td>0.510573</td>\n      <td>1.848128</td>\n    </tr>\n    <tr>\n      <th>3</th>\n      <td>DEBTINC</td>\n      <td>(36.0,40.0]</td>\n      <td>1182</td>\n      <td>72</td>\n      <td>1110</td>\n      <td>0.198322</td>\n      <td>0.060914</td>\n      <td>-1.346005</td>\n      <td>0.231648</td>\n      <td>1.848128</td>\n    </tr>\n    <tr>\n      <th>4</th>\n      <td>DEBTINC</td>\n      <td>(40.0,+INF)</td>\n      <td>572</td>\n      <td>145</td>\n      <td>427</td>\n      <td>0.095973</td>\n      <td>0.253497</td>\n      <td>0.309393</td>\n      <td>0.010041</td>\n      <td>1.848128</td>\n    </tr>\n  </tbody>\n</table>\n</div>"
     },
     "execution_count": 119,
     "metadata": {},
     "output_type": "execute_result"
    }
   ],
   "source": [
    "feature_detail[feature_detail['iv'] > 0.5] # sus predictive power"
   ],
   "metadata": {
    "collapsed": false,
    "pycharm": {
     "name": "#%%\n"
    }
   }
  },
  {
   "cell_type": "code",
   "execution_count": 129,
   "outputs": [
    {
     "data": {
      "text/plain": "array(['VALUE', 'CLNO', 'REASON'], dtype=object)"
     },
     "execution_count": 129,
     "metadata": {},
     "output_type": "execute_result"
    }
   ],
   "source": [
    "feature_detail[feature_detail['iv'] < 0.02]['var_name'].unique()"
   ],
   "metadata": {
    "collapsed": false,
    "pycharm": {
     "name": "#%%\n"
    }
   }
  },
  {
   "cell_type": "code",
   "execution_count": 130,
   "outputs": [],
   "source": [
    "# drop weak predictive power features\n",
    "X_new_train = X_train.drop(columns=['VALUE', 'CLNO', 'REASON'])\n",
    "X_new_test = X_test.drop(columns=['VALUE', 'CLNO', 'REASON'])"
   ],
   "metadata": {
    "collapsed": false,
    "pycharm": {
     "name": "#%%\n"
    }
   }
  },
  {
   "cell_type": "code",
   "execution_count": 131,
   "outputs": [
    {
     "name": "stdout",
     "output_type": "stream",
     "text": [
      "Best C:  0.0655128556859551\n"
     ]
    },
    {
     "data": {
      "text/plain": "Text(0, 0.5, 'CV score')"
     },
     "execution_count": 131,
     "metadata": {},
     "output_type": "execute_result"
    },
    {
     "data": {
      "text/plain": "<Figure size 432x288 with 1 Axes>",
      "image/png": "[encoded data removed]"
     },
     "metadata": {
      "needs_background": "light"
     },
     "output_type": "display_data"
    }
   ],
   "source": [
    "cs = np.logspace(-4, -1, 50)\n",
    "\n",
    "tuned_parameters = [\n",
    "    {\"penalty\": [\"l2\"], \"C\": cs},\n",
    "]\n",
    "clf = GridSearchCV(LogisticRegression(), tuned_parameters, scoring=make_scorer(average_precision_score))\n",
    "clf.fit(X_train, y_train)\n",
    "print(\"Best C: \", clf.best_params_['C'])\n",
    "\n",
    "plt.plot(cs, clf.cv_results_[\"mean_test_score\"])\n",
    "plt.xscale(\"log\")\n",
    "plt.xlabel(\"C\")\n",
    "plt.ylabel(\"CV score\")"
   ],
   "metadata": {
    "collapsed": false,
    "pycharm": {
     "name": "#%%\n"
    }
   }
  },
  {
   "cell_type": "code",
   "execution_count": 132,
   "outputs": [
    {
     "data": {
      "text/plain": "<Figure size 432x288 with 1 Axes>",
      "image/png": "[encoded data removed]"
     },
     "metadata": {
      "needs_background": "light"
     },
     "output_type": "display_data"
    },
    {
     "name": "stdout",
     "output_type": "stream",
     "text": [
      "LR ROC-AUC: 0.90948\n"
     ]
    },
    {
     "data": {
      "text/plain": "<Figure size 432x288 with 1 Axes>",
      "image/png": "[encoded data removed]"
     },
     "metadata": {
      "needs_background": "light"
     },
     "output_type": "display_data"
    },
    {
     "name": "stdout",
     "output_type": "stream",
     "text": [
      "LR PR-AUC: 0.77969\n",
      "Dummy PR-AUC: 0.21962\n"
     ]
    }
   ],
   "source": [
    "lr_pred = clf.decision_function(X_test)\n",
    "\n",
    "fpr_lr, tpr_lr, _ = roc_curve(y_test, lr_pred, pos_label=1)\n",
    "plt.plot(fpr_lr, tpr_lr, linestyle='--', color='blue', label='LR')\n",
    "precision_lr, recall_lr, _ = precision_recall_curve(y_test, lr_pred, pos_label=1)\n",
    "# plt.plot(fpr2, tpr2, linestyle='--', color='green', label='Dummy')\n",
    "\n",
    "plt.title('ROC curve')\n",
    "plt.xlabel('False Positive Rate')\n",
    "plt.ylabel('True Positive rate')\n",
    "\n",
    "plt.legend(loc='best')\n",
    "plt.show()\n",
    "print('LR ROC-AUC: %.5f' % roc_auc_score(y_test, lr_pred))\n",
    "# print('Dummy ROC-AUC: %.5f' % roc_auc_score(y_test, dummy_pred[:, 1]))\n",
    "\n",
    "# строим PR кривые и вычисляем AUC-PR\n",
    "plt.plot(recall_lr, precision_lr, linestyle='--',color='blue', label='LR')\n",
    "plt.plot([0, 1], [dumb, dumb], linestyle='--',color='green', label='Dummy')\n",
    "\n",
    "plt.title('PR curve')\n",
    "plt.xlabel('Recall')\n",
    "plt.ylabel('Precision')\n",
    "\n",
    "plt.legend(loc='best')\n",
    "plt.show()\n",
    "print('LR PR-AUC: %.5f' % auc(recall_lr, precision_lr))\n",
    "print('Dummy PR-AUC: %.5f' % auc([0, 1], [dumb, dumb]))"
   ],
   "metadata": {
    "collapsed": false,
    "pycharm": {
     "name": "#%%\n"
    }
   }
  },
  {
   "cell_type": "code",
   "execution_count": 133,
   "outputs": [
    {
     "name": "stdout",
     "output_type": "stream",
     "text": [
      "Accuracy score :  0.8779867819013727\n",
      "F1 score :  0.7985889966312039\n",
      "Precision score :  0.8542111577684464\n",
      "Recall score :  0.767132645674991\n",
      "ROC-AUC:  0.767132645674991\n"
     ]
    }
   ],
   "source": [
    "lr_pred = clf.predict(X_test)\n",
    "print(\"Accuracy score : \", accuracy_score(y_test, lr_pred))\n",
    "print(\"F1 score : \", f1_score(y_test, lr_pred, average=\"macro\"))\n",
    "print(\"Precision score : \", precision_score(y_test, lr_pred, average=\"macro\"))\n",
    "print(\"Recall score : \", recall_score(y_test, lr_pred, average=\"macro\"))\n",
    "print('ROC-AUC: ', roc_auc_score(y_test, lr_pred))"
   ],
   "metadata": {
    "collapsed": false,
    "pycharm": {
     "name": "#%%\n"
    }
   }
  },
  {
   "cell_type": "code",
   "execution_count": null,
   "outputs": [],
   "source": [],
   "metadata": {
    "collapsed": false,
    "pycharm": {
     "name": "#%%\n"
    }
   }
  },
  {
   "cell_type": "code",
   "execution_count": null,
   "outputs": [],
   "source": [],
   "metadata": {
    "collapsed": false,
    "pycharm": {
     "name": "#%%\n"
    }
   }
  }
 ],
 "metadata": {
  "kernelspec": {
   "display_name": "Python 3",
   "language": "python",
   "name": "python3"
  },
  "language_info": {
   "codemirror_mode": {
    "name": "ipython",
    "version": 2
   },
   "file_extension": ".py",
   "mimetype": "text/x-python",
   "name": "python",
   "nbconvert_exporter": "python",
   "pygments_lexer": "ipython2",
   "version": "2.7.6"
  }
 },
 "nbformat": 4,
 "nbformat_minor": 0
}