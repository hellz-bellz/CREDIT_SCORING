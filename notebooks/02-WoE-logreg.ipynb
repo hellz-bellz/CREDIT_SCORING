{
 "cells": [
  {
   "cell_type": "code",
   "execution_count": 1,
   "metadata": {
    "collapsed": true
   },
   "outputs": [],
   "source": [
    "import pandas as pd"
   ]
  },
  {
   "cell_type": "code",
   "execution_count": 2,
   "outputs": [],
   "source": [
    "df = pd.read_csv(\"../data/hmeq.csv\")"
   ],
   "metadata": {
    "collapsed": false,
    "pycharm": {
     "name": "#%%\n"
    }
   }
  },
  {
   "cell_type": "code",
   "source": [
    "df[\"REASON\"].fillna(value=\"DebtCon\", inplace=True) # REASON : DebtCon = debt consolidation\n",
    "df[\"JOB\"].fillna(value=\"Other\", inplace=True)      # JOB : Six occupational categories\n",
    "df[\"DEROG\"].fillna(value=0, inplace=True)          # DEROG : Number of major derogatory reports\n",
    "df[\"DELINQ\"].fillna(value=0, inplace=True)         # DELINQ : Number of delinquent credit lines\n",
    "df.fillna(value=df.mean(), inplace=True)"
   ],
   "metadata": {
    "collapsed": false,
    "pycharm": {
     "name": "#%%\n"
    }
   },
   "execution_count": 3,
   "outputs": []
  },
  {
   "cell_type": "code",
   "execution_count": 4,
   "outputs": [
    {
     "data": {
      "text/plain": "      BAD   LOAN     MORTDUE          VALUE   REASON     JOB        YOJ  \\\n0       1   1100  25860.0000   39025.000000  HomeImp   Other  10.500000   \n1       1   1300  70053.0000   68400.000000  HomeImp   Other   7.000000   \n2       1   1500  13500.0000   16700.000000  HomeImp   Other   4.000000   \n3       1   1500  73760.8172  101776.048741  DebtCon   Other   8.922268   \n4       0   1700  97800.0000  112000.000000  HomeImp  Office   3.000000   \n...   ...    ...         ...            ...      ...     ...        ...   \n5955    0  88900  57264.0000   90185.000000  DebtCon   Other  16.000000   \n5956    0  89000  54576.0000   92937.000000  DebtCon   Other  16.000000   \n5957    0  89200  54045.0000   92924.000000  DebtCon   Other  15.000000   \n5958    0  89800  50370.0000   91861.000000  DebtCon   Other  14.000000   \n5959    0  89900  48811.0000   88934.000000  DebtCon   Other  15.000000   \n\n      DEROG  DELINQ       CLAGE      NINQ       CLNO    DEBTINC  \n0       0.0     0.0   94.366667  1.000000   9.000000  33.779915  \n1       0.0     2.0  121.833333  0.000000  14.000000  33.779915  \n2       0.0     0.0  149.466667  1.000000  10.000000  33.779915  \n3       0.0     0.0  179.766275  1.186055  21.296096  33.779915  \n4       0.0     0.0   93.333333  0.000000  14.000000  33.779915  \n...     ...     ...         ...       ...        ...        ...  \n5955    0.0     0.0  221.808718  0.000000  16.000000  36.112347  \n5956    0.0     0.0  208.692070  0.000000  15.000000  35.859971  \n5957    0.0     0.0  212.279697  0.000000  15.000000  35.556590  \n5958    0.0     0.0  213.892709  0.000000  16.000000  34.340882  \n5959    0.0     0.0  219.601002  0.000000  16.000000  34.571519  \n\n[5960 rows x 13 columns]",
      "text/html": "<div>\n<style scoped>\n    .dataframe tbody tr th:only-of-type {\n        vertical-align: middle;\n    }\n\n    .dataframe tbody tr th {\n        vertical-align: top;\n    }\n\n    .dataframe thead th {\n        text-align: right;\n    }\n</style>\n<table border=\"1\" class=\"dataframe\">\n  <thead>\n    <tr style=\"text-align: right;\">\n      <th></th>\n      <th>BAD</th>\n      <th>LOAN</th>\n      <th>MORTDUE</th>\n      <th>VALUE</th>\n      <th>REASON</th>\n      <th>JOB</th>\n      <th>YOJ</th>\n      <th>DEROG</th>\n      <th>DELINQ</th>\n      <th>CLAGE</th>\n      <th>NINQ</th>\n      <th>CLNO</th>\n      <th>DEBTINC</th>\n    </tr>\n  </thead>\n  <tbody>\n    <tr>\n      <th>0</th>\n      <td>1</td>\n      <td>1100</td>\n      <td>25860.0000</td>\n      <td>39025.000000</td>\n      <td>HomeImp</td>\n      <td>Other</td>\n      <td>10.500000</td>\n      <td>0.0</td>\n      <td>0.0</td>\n      <td>94.366667</td>\n      <td>1.000000</td>\n      <td>9.000000</td>\n      <td>33.779915</td>\n    </tr>\n    <tr>\n      <th>1</th>\n      <td>1</td>\n      <td>1300</td>\n      <td>70053.0000</td>\n      <td>68400.000000</td>\n      <td>HomeImp</td>\n      <td>Other</td>\n      <td>7.000000</td>\n      <td>0.0</td>\n      <td>2.0</td>\n      <td>121.833333</td>\n      <td>0.000000</td>\n      <td>14.000000</td>\n      <td>33.779915</td>\n    </tr>\n    <tr>\n      <th>2</th>\n      <td>1</td>\n      <td>1500</td>\n      <td>13500.0000</td>\n      <td>16700.000000</td>\n      <td>HomeImp</td>\n      <td>Other</td>\n      <td>4.000000</td>\n      <td>0.0</td>\n      <td>0.0</td>\n      <td>149.466667</td>\n      <td>1.000000</td>\n      <td>10.000000</td>\n      <td>33.779915</td>\n    </tr>\n    <tr>\n      <th>3</th>\n      <td>1</td>\n      <td>1500</td>\n      <td>73760.8172</td>\n      <td>101776.048741</td>\n      <td>DebtCon</td>\n      <td>Other</td>\n      <td>8.922268</td>\n      <td>0.0</td>\n      <td>0.0</td>\n      <td>179.766275</td>\n      <td>1.186055</td>\n      <td>21.296096</td>\n      <td>33.779915</td>\n    </tr>\n    <tr>\n      <th>4</th>\n      <td>0</td>\n      <td>1700</td>\n      <td>97800.0000</td>\n      <td>112000.000000</td>\n      <td>HomeImp</td>\n      <td>Office</td>\n      <td>3.000000</td>\n      <td>0.0</td>\n      <td>0.0</td>\n      <td>93.333333</td>\n      <td>0.000000</td>\n      <td>14.000000</td>\n      <td>33.779915</td>\n    </tr>\n    <tr>\n      <th>...</th>\n      <td>...</td>\n      <td>...</td>\n      <td>...</td>\n      <td>...</td>\n      <td>...</td>\n      <td>...</td>\n      <td>...</td>\n      <td>...</td>\n      <td>...</td>\n      <td>...</td>\n      <td>...</td>\n      <td>...</td>\n      <td>...</td>\n    </tr>\n    <tr>\n      <th>5955</th>\n      <td>0</td>\n      <td>88900</td>\n      <td>57264.0000</td>\n      <td>90185.000000</td>\n      <td>DebtCon</td>\n      <td>Other</td>\n      <td>16.000000</td>\n      <td>0.0</td>\n      <td>0.0</td>\n      <td>221.808718</td>\n      <td>0.000000</td>\n      <td>16.000000</td>\n      <td>36.112347</td>\n    </tr>\n    <tr>\n      <th>5956</th>\n      <td>0</td>\n      <td>89000</td>\n      <td>54576.0000</td>\n      <td>92937.000000</td>\n      <td>DebtCon</td>\n      <td>Other</td>\n      <td>16.000000</td>\n      <td>0.0</td>\n      <td>0.0</td>\n      <td>208.692070</td>\n      <td>0.000000</td>\n      <td>15.000000</td>\n      <td>35.859971</td>\n    </tr>\n    <tr>\n      <th>5957</th>\n      <td>0</td>\n      <td>89200</td>\n      <td>54045.0000</td>\n      <td>92924.000000</td>\n      <td>DebtCon</td>\n      <td>Other</td>\n      <td>15.000000</td>\n      <td>0.0</td>\n      <td>0.0</td>\n      <td>212.279697</td>\n      <td>0.000000</td>\n      <td>15.000000</td>\n      <td>35.556590</td>\n    </tr>\n    <tr>\n      <th>5958</th>\n      <td>0</td>\n      <td>89800</td>\n      <td>50370.0000</td>\n      <td>91861.000000</td>\n      <td>DebtCon</td>\n      <td>Other</td>\n      <td>14.000000</td>\n      <td>0.0</td>\n      <td>0.0</td>\n      <td>213.892709</td>\n      <td>0.000000</td>\n      <td>16.000000</td>\n      <td>34.340882</td>\n    </tr>\n    <tr>\n      <th>5959</th>\n      <td>0</td>\n      <td>89900</td>\n      <td>48811.0000</td>\n      <td>88934.000000</td>\n      <td>DebtCon</td>\n      <td>Other</td>\n      <td>15.000000</td>\n      <td>0.0</td>\n      <td>0.0</td>\n      <td>219.601002</td>\n      <td>0.000000</td>\n      <td>16.000000</td>\n      <td>34.571519</td>\n    </tr>\n  </tbody>\n</table>\n<p>5960 rows × 13 columns</p>\n</div>"
     },
     "execution_count": 4,
     "metadata": {},
     "output_type": "execute_result"
    }
   ],
   "source": [
    "df"
   ],
   "metadata": {
    "collapsed": false,
    "pycharm": {
     "name": "#%%\n"
    }
   }
  },
  {
   "cell_type": "markdown",
   "source": [
    "Применяем WoE+LogReg"
   ],
   "metadata": {
    "collapsed": false,
    "pycharm": {
     "name": "#%% md\n"
    }
   }
  },
  {
   "cell_type": "code",
   "execution_count": 5,
   "outputs": [],
   "source": [
    "# !pip install woe"
   ],
   "metadata": {
    "collapsed": false,
    "pycharm": {
     "name": "#%%\n"
    }
   }
  },
  {
   "cell_type": "code",
   "execution_count": 6,
   "outputs": [],
   "source": [
    "import os\n",
    "import numpy as np\n",
    "import woe.feature_process as fp\n",
    "import woe.GridSearch as gs"
   ],
   "metadata": {
    "collapsed": false,
    "pycharm": {
     "name": "#%%\n"
    }
   }
  },
  {
   "cell_type": "code",
   "execution_count": 7,
   "outputs": [
    {
     "name": "stdout",
     "output_type": "stream",
     "text": [
      "run into process_train_woe: \n",
      " Thu Feb 17 18:32:00 2022\n",
      "------------------Changing Feature Dtypes-------------------\n",
      "target                                         int64\n",
      "LOAN                                           int64\n",
      "MORTDUE                                        int64\n",
      "VALUE                                          int64\n",
      "REASON                                        object\n",
      "JOB                                           object\n",
      "YOJ                                            int64\n",
      "DEROG                                          int64\n",
      "DELINQ                                         int64\n",
      "CLAGE                                          int64\n",
      "NINQ                                           int64\n",
      "CLNO                                           int64\n",
      "DEBTINC                                        int64\n",
      "------------Variable Dtypes Have Been Specified-------------\n",
      "process woe transformation of continuous variables: \n",
      " Thu Feb 17 18:32:00 2022\n",
      "cfg.global_bt 1189\n",
      "cfg.global_gt 4771\n",
      "--------------process continuous variable:LOAN--------------\n",
      "------------process continuous variable:MORTDUE-------------\n",
      "-------------process continuous variable:VALUE--------------\n",
      "--------------process continuous variable:YOJ---------------\n",
      "-------------process continuous variable:DEROG--------------\n",
      "-------------process continuous variable:DELINQ-------------\n",
      "-------------process continuous variable:CLAGE--------------\n",
      "--------------process continuous variable:NINQ--------------\n",
      "--------------process continuous variable:CLNO--------------\n",
      "------------process continuous variable:DEBTINC-------------\n",
      "process woe transformation of discrete variables: \n",
      " Thu Feb 17 18:32:14 2022\n",
      "--------------process discrete variable:REASON--------------\n",
      "---------------process discrete variable:JOB----------------\n",
      "LOAN\n",
      "MORTDUE\n",
      "VALUE\n",
      "YOJ\n",
      "DEROG\n",
      "DELINQ\n",
      "CLAGE\n",
      "NINQ\n",
      "CLNO\n",
      "DEBTINC\n",
      "REASON\n",
      "JOB\n",
      "save woe transformation rule into pickle: \n",
      " Thu Feb 17 18:32:14 2022\n",
      "------------------Changing Feature Dtypes-------------------\n",
      "target                                         int64\n",
      "LOAN                                           int64\n",
      "MORTDUE                                        int64\n",
      "VALUE                                          int64\n",
      "REASON                                        object\n",
      "JOB                                           object\n",
      "YOJ                                            int64\n",
      "DEROG                                          int64\n",
      "DELINQ                                         int64\n",
      "CLAGE                                          int64\n",
      "NINQ                                           int64\n",
      "CLNO                                           int64\n",
      "DEBTINC                                        int64\n",
      "------------Variable Dtypes Have Been Specified-------------\n"
     ]
    },
    {
     "name": "stderr",
     "output_type": "stream",
     "text": [
      "C:\\Users\\admin\\anaconda3\\envs\\snakes\\lib\\site-packages\\woe\\feature_process.py:414: SettingWithCopyWarning: \n",
      "A value is trying to be set on a copy of a slice from a DataFrame.\n",
      "Try using .loc[row_indexer,col_indexer] = value instead\n",
      "\n",
      "See the caveats in the documentation: https://pandas.pydata.org/pandas-docs/stable/user_guide/indexing.html#returning-a-view-versus-a-copy\n",
      "  df[var] = cpvar\n",
      "C:\\Users\\admin\\anaconda3\\envs\\snakes\\lib\\site-packages\\woe\\feature_process.py:414: SettingWithCopyWarning: \n",
      "A value is trying to be set on a copy of a slice from a DataFrame.\n",
      "Try using .loc[row_indexer,col_indexer] = value instead\n",
      "\n",
      "See the caveats in the documentation: https://pandas.pydata.org/pandas-docs/stable/user_guide/indexing.html#returning-a-view-versus-a-copy\n",
      "  df[var] = cpvar\n"
     ]
    },
    {
     "name": "stdout",
     "output_type": "stream",
     "text": [
      "------------------Changing Feature Dtypes-------------------\n",
      "target                                         int64\n",
      "LOAN                                           int64\n",
      "MORTDUE                                        int64\n",
      "VALUE                                          int64\n",
      "REASON                                        object\n",
      "JOB                                           object\n",
      "YOJ                                            int64\n",
      "DEROG                                          int64\n",
      "DELINQ                                         int64\n",
      "CLAGE                                          int64\n",
      "NINQ                                           int64\n",
      "CLNO                                           int64\n",
      "DEBTINC                                        int64\n",
      "------------Variable Dtypes Have Been Specified-------------\n",
      "###TRAIN SCORECARD MODEL###\n",
      "dataset_path :  C:\\Users\\admin\\PycharmProjects\\CREDIT_SCORING\\notebooks\\dataset_train_woed.csv\n",
      "validation_path :  C:\\Users\\admin\\PycharmProjects\\CREDIT_SCORING\\notebooks\\dataset_test_woed.csv\n",
      "config_path :  C:\\Users\\admin\\PycharmProjects\\CREDIT_SCORING\\notebooks\\../data/config_woe.csv\n",
      "df_coef_path :  C:\\Users\\admin\\PycharmProjects\\CREDIT_SCORING\\notebooks\\df_model_coef_path.csv\n",
      "pic_coefpath :  C:\\Users\\admin\\PycharmProjects\\CREDIT_SCORING\\notebooks\\model_coefpath.png\n",
      "pic_performance :  C:\\Users\\admin\\PycharmProjects\\CREDIT_SCORING\\notebooks\\model_performance_path.png\n",
      "pic_coefpath_title :  model_coefpath\n",
      "pic_performance_title :  model_performance_path\n",
      "var_list_specfied :  []\n",
      "cs :  [0.0001     0.00011938 0.00014251 0.00017013 0.00020309 0.00024245\n",
      " 0.00028943 0.00034551 0.00041246 0.00049239 0.0005878  0.0007017\n",
      " 0.00083768 0.001      0.00119378 0.0014251  0.00170125 0.00203092\n",
      " 0.00242446 0.00289427 0.00345511 0.00412463 0.00492388 0.00587802\n",
      " 0.00701704 0.00837678 0.01       0.01193777 0.01425103 0.01701254\n",
      " 0.02030918 0.02424462 0.02894266 0.03455107 0.04124626 0.04923883\n",
      " 0.05878016 0.07017038 0.08376776 0.1       ]\n",
      "run into grid_search_lr_c_main:\n",
      "candidate_var_list length:\n",
      " 12\n",
      "candidate_var_list:\n",
      " ['CLAGE', 'JOB', 'YOJ', 'MORTDUE', 'DEBTINC', 'VALUE', 'LOAN', 'REASON', 'CLNO', 'DELINQ', 'DEROG', 'NINQ']\n",
      "change dtypes:float64 to float32\n",
      "cs [0.0001     0.00011938 0.00014251 0.00017013 0.00020309 0.00024245\n",
      " 0.00028943 0.00034551 0.00041246 0.00049239 0.0005878  0.0007017\n",
      " 0.00083768 0.001      0.00119378 0.0014251  0.00170125 0.00203092\n",
      " 0.00242446 0.00289427 0.00345511 0.00412463 0.00492388 0.00587802\n",
      " 0.00701704 0.00837678 0.01       0.01193777 0.01425103 0.01701254\n",
      " 0.02030918 0.02424462 0.02894266 0.03455107 0.04124626 0.04923883\n",
      " 0.05878016 0.07017038 0.08376776 0.1       ]\n",
      "Computing regularization path ...\n",
      "2022-02-17 18:32:14.930632\n",
      "time:  Thu Feb 17 18:32:14 2022 counter:  0  c:  0.0001\n",
      "ks:\t 0.6234209732581502 ks_validation1:\t 0.6234209732581502\n",
      "time:  Thu Feb 17 18:32:15 2022 counter:  1  c:  0.00011937766417144369\n",
      "ks:\t 0.623001773928869 ks_validation1:\t 0.623001773928869\n",
      "time:  Thu Feb 17 18:32:15 2022 counter:  2  c:  0.00014251026703029977\n",
      "ks:\t 0.6227895300296031 ks_validation1:\t 0.6227895300296031\n",
      "time:  Thu Feb 17 18:32:15 2022 counter:  3  c:  0.00017012542798525892\n",
      "ks:\t 0.6229964854596182 ks_validation1:\t 0.6229964854596182\n",
      "time:  Thu Feb 17 18:32:15 2022 counter:  4  c:  0.0002030917620904735\n",
      "ks:\t 0.6234156847888993 ks_validation1:\t 0.6234156847888993\n",
      "time:  Thu Feb 17 18:32:15 2022 counter:  5  c:  0.00024244620170823283\n",
      "ks:\t 0.6234156847888993 ks_validation1:\t 0.6234156847888993\n",
      "time:  Thu Feb 17 18:32:15 2022 counter:  6  c:  0.0002894266124716752\n",
      "ks:\t 0.6236252844535398 ks_validation1:\t 0.6236252844535398\n",
      "time:  Thu Feb 17 18:32:15 2022 counter:  7  c:  0.0003455107294592218\n",
      "ks:\t 0.6234236174927755 ks_validation1:\t 0.6234236174927755\n",
      "time:  Thu Feb 17 18:32:16 2022 counter:  8  c:  0.0004124626382901352\n",
      "ks:\t 0.6240577049559479 ks_validation1:\t 0.6240577049559479\n",
      "time:  Thu Feb 17 18:32:16 2022 counter:  9  c:  0.0004923882631706741\n",
      "ks:\t 0.6253179471784166 ks_validation1:\t 0.6253179471784166\n",
      "time:  Thu Feb 17 18:32:16 2022 counter:  10  c:  0.0005878016072274912\n",
      "ks:\t 0.6259943423955955 ks_validation1:\t 0.6259943423955955\n",
      "time:  Thu Feb 17 18:32:16 2022 counter:  11  c:  0.000701703828670383\n",
      "ks:\t 0.6287270707397987 ks_validation1:\t 0.6287270707397987\n",
      "time:  Thu Feb 17 18:32:16 2022 counter:  12  c:  0.0008376776400682924\n",
      "ks:\t 0.6309903592968381 ks_validation1:\t 0.6309903592968381\n",
      "time:  Thu Feb 17 18:32:16 2022 counter:  13  c:  0.001\n",
      "ks:\t 0.6329375736749873 ks_validation1:\t 0.6329375736749873\n",
      "time:  Thu Feb 17 18:32:16 2022 counter:  14  c:  0.001193776641714437\n",
      "ks:\t 0.6369411211801607 ks_validation1:\t 0.6369411211801607\n",
      "time:  Thu Feb 17 18:32:16 2022 counter:  15  c:  0.0014251026703029992\n",
      "ks:\t 0.6385888319164055 ks_validation1:\t 0.6385888319164055\n",
      "time:  Thu Feb 17 18:32:17 2022 counter:  16  c:  0.0017012542798525892\n",
      "ks:\t 0.6398332087311217 ks_validation1:\t 0.6398332087311217\n",
      "time:  Thu Feb 17 18:32:17 2022 counter:  17  c:  0.002030917620904735\n",
      "ks:\t 0.6410987394228411 ks_validation1:\t 0.6410987394228411\n",
      "time:  Thu Feb 17 18:32:17 2022 counter:  18  c:  0.0024244620170823282\n",
      "ks:\t 0.6394140094018407 ks_validation1:\t 0.6394140094018407\n",
      "time:  Thu Feb 17 18:32:17 2022 counter:  19  c:  0.0028942661247167516\n",
      "ks:\t 0.6401432893115276 ks_validation1:\t 0.6401432893115276\n",
      "time:  Thu Feb 17 18:32:17 2022 counter:  20  c:  0.003455107294592218\n",
      "ks:\t 0.6407932421824526 ks_validation1:\t 0.6407932421824526\n",
      "time:  Thu Feb 17 18:32:17 2022 counter:  21  c:  0.004124626382901352\n",
      "ks:\t 0.6426373314102108 ks_validation1:\t 0.6426373314102108\n",
      "time:  Thu Feb 17 18:32:17 2022 counter:  22  c:  0.004923882631706742\n",
      "ks:\t 0.6445369495651028 ks_validation1:\t 0.6445369495651028\n",
      "time:  Thu Feb 17 18:32:18 2022 counter:  23  c:  0.0058780160722749115\n",
      "ks:\t 0.645356838581287 ks_validation1:\t 0.645356838581287\n",
      "time:  Thu Feb 17 18:32:18 2022 counter:  24  c:  0.00701703828670383\n",
      "ks:\t 0.6438975736326795 ks_validation1:\t 0.6438975736326795\n",
      "time:  Thu Feb 17 18:32:18 2022 counter:  25  c:  0.008376776400682925\n",
      "ks:\t 0.6453647712851632 ks_validation1:\t 0.6453647712851632\n",
      "time:  Thu Feb 17 18:32:18 2022 counter:  26  c:  0.01\n",
      "ks:\t 0.64472539535274 ks_validation1:\t 0.64472539535274\n",
      "time:  Thu Feb 17 18:32:18 2022 counter:  27  c:  0.01193776641714437\n",
      "ks:\t 0.6447386165258671 ks_validation1:\t 0.6447386165258671\n",
      "time:  Thu Feb 17 18:32:18 2022 counter:  28  c:  0.014251026703029992\n",
      "ks:\t 0.6455717267151784 ks_validation1:\t 0.6455717267151784\n",
      "time:  Thu Feb 17 18:32:19 2022 counter:  29  c:  0.017012542798525893\n",
      "ks:\t 0.6457601725028157 ks_validation1:\t 0.6457601725028157\n",
      "time:  Thu Feb 17 18:32:19 2022 counter:  30  c:  0.020309176209047368\n",
      "ks:\t 0.6455585055420513 ks_validation1:\t 0.6455585055420513\n",
      "time:  Thu Feb 17 18:32:19 2022 counter:  31  c:  0.024244620170823284\n",
      "ks:\t 0.6460067914522118 ks_validation1:\t 0.6460067914522118\n",
      "time:  Thu Feb 17 18:32:19 2022 counter:  32  c:  0.028942661247167517\n",
      "ks:\t 0.6470045493175318 ks_validation1:\t 0.6470045493175318\n",
      "time:  Thu Feb 17 18:32:19 2022 counter:  33  c:  0.03455107294592222\n",
      "ks:\t 0.6461608621897189 ks_validation1:\t 0.6461608621897189\n",
      "time:  Thu Feb 17 18:32:19 2022 counter:  34  c:  0.04124626382901352\n",
      "ks:\t 0.6465800615189999 ks_validation1:\t 0.6465800615189999\n",
      "time:  Thu Feb 17 18:32:19 2022 counter:  35  c:  0.04923882631706741\n",
      "ks:\t 0.6459591952289546 ks_validation1:\t 0.6459591952289546\n",
      "time:  Thu Feb 17 18:32:20 2022 counter:  36  c:  0.05878016072274912\n",
      "ks:\t 0.6451472389166465 ks_validation1:\t 0.6451472389166465\n",
      "time:  Thu Feb 17 18:32:20 2022 counter:  37  c:  0.07017038286703829\n",
      "ks:\t 0.6445184399227248 ks_validation1:\t 0.6445184399227248\n",
      "time:  Thu Feb 17 18:32:20 2022 counter:  38  c:  0.08376776400682924\n",
      "ks:\t 0.6444814206379692 ks_validation1:\t 0.6444814206379692\n",
      "time:  Thu Feb 17 18:32:20 2022 counter:  39  c:  0.1\n",
      "ks:\t 0.6442744652079541 ks_validation1:\t 0.6442744652079541\n",
      "2022-02-17 18:32:20.688542\n",
      "This took  0:00:05.757910\n",
      "pic_coefpath:\n",
      " C:\\Users\\admin\\PycharmProjects\\CREDIT_SCORING\\notebooks\\model_coefpath.png\n",
      "pic_performance:\n",
      " C:\\Users\\admin\\PycharmProjects\\CREDIT_SCORING\\notebooks\\model_performance_path.png\n",
      "ks performance on the c:\n",
      "0.0028942661247167516 0.6401432893115276\n"
     ]
    },
    {
     "data": {
      "text/plain": "(0.0028942661247167516, 0.6401432893115276)"
     },
     "execution_count": 7,
     "metadata": {},
     "output_type": "execute_result"
    }
   ],
   "source": [
    "config_path = os.getcwd()+'\\\\../data/config_woe.csv'\n",
    "data_path = os.getcwd()+'\\\\../data/woe_data.csv'\n",
    "feature_detail_path = os.getcwd()+'\\\\features_detail.csv'\n",
    "rst_pkl_path = os.getcwd()+'\\\\woe_rule.pkl'\n",
    "# train woe rule\n",
    "feature_detail,rst = fp.process_train_woe(infile_path=data_path\n",
    "                                           ,outfile_path=feature_detail_path\n",
    "                                           ,rst_path=rst_pkl_path\n",
    "                                           ,config_path=config_path)\n",
    "\n",
    "# proc woe transformation\n",
    "woe_train_path = os.getcwd()+'\\\\dataset_train_woed.csv'\n",
    "fp.process_woe_trans(data_path,rst_pkl_path,woe_train_path,config_path)\n",
    "# here i take the same dataset as test dataset\n",
    "woe_test_path = os.getcwd()+'\\\\dataset_test_woed.csv'\n",
    "fp.process_woe_trans(data_path,rst_pkl_path,woe_test_path,config_path)\n",
    "\n",
    "print('###TRAIN SCORECARD MODEL###')\n",
    "params = {}\n",
    "params['dataset_path'] = woe_train_path\n",
    "params['validation_path'] = woe_test_path\n",
    "params['config_path'] = config_path\n",
    "\n",
    "params['df_coef_path'] = os.getcwd()+'\\\\df_model_coef_path.csv'\n",
    "params['pic_coefpath'] = os.getcwd()+'\\\\model_coefpath.png'\n",
    "params['pic_performance'] = os.getcwd()+'\\\\model_performance_path.png'\n",
    "params['pic_coefpath_title'] = 'model_coefpath'\n",
    "params['pic_performance_title'] = 'model_performance_path'\n",
    "\n",
    "params['var_list_specfied'] = []\n",
    "params['cs'] = np.logspace(-4, -1,40)\n",
    "for key,value in params.items():\n",
    "   print(key,': ',value)\n",
    "gs.grid_search_lr_c_main(params)"
   ],
   "metadata": {
    "collapsed": false,
    "pycharm": {
     "name": "#%%\n"
    }
   }
  },
  {
   "cell_type": "code",
   "execution_count": 9,
   "outputs": [
    {
     "data": {
      "text/plain": "   var_name         split_list  sub_total_sample_num  positive_sample_num  \\\n0      LOAN      (-INF,5900.0]                   304                  142   \n1      LOAN    (5900.0,7600.0]                   299                   87   \n2      LOAN   (7600.0,10000.0]                   608                  137   \n3      LOAN  (10000.0,11400.0]                   365                   57   \n4      LOAN  (11400.0,12600.0]                   347                   76   \n..      ...                ...                   ...                  ...   \n0       JOB  [Office, missing]                  1227                  148   \n1       JOB          [ProfExe]                  1276                  212   \n2       JOB            [Other]                  2388                  554   \n3       JOB              [Mgr]                   767                  179   \n4       JOB      [Sales, Self]                   302                   96   \n\n    negative_sample_num  sub_total_num_percentage  positive_rate_in_sub_total  \\\n0                   162                  0.051007                    0.467105   \n1                   212                  0.050168                    0.290970   \n2                   471                  0.102013                    0.225329   \n3                   308                  0.061242                    0.156164   \n4                   271                  0.058221                    0.219020   \n..                  ...                       ...                         ...   \n0                  1079                  0.205872                    0.120619   \n1                  1064                  0.214094                    0.166144   \n2                  1834                  0.400671                    0.231993   \n3                   588                  0.128691                    0.233377   \n4                   206                  0.050671                    0.317881   \n\n    woe_list   iv_list        iv  \n0   1.257674  0.107497  0.249598  \n1   0.498766  0.014332  0.249598  \n2   0.154567  0.002551  0.249598  \n3  -0.297604  0.004945  0.249598  \n4   0.118059  0.000840  0.249598  \n..       ...       ...       ...  \n0  -0.597134  0.060719  0.115381  \n1  -0.223761  0.010005  0.115381  \n2   0.192353  0.015683  0.115381  \n3   0.200103  0.005463  0.115381  \n4   0.625916  0.023511  0.115381  \n\n[83 rows x 10 columns]",
      "text/html": "<div>\n<style scoped>\n    .dataframe tbody tr th:only-of-type {\n        vertical-align: middle;\n    }\n\n    .dataframe tbody tr th {\n        vertical-align: top;\n    }\n\n    .dataframe thead th {\n        text-align: right;\n    }\n</style>\n<table border=\"1\" class=\"dataframe\">\n  <thead>\n    <tr style=\"text-align: right;\">\n      <th></th>\n      <th>var_name</th>\n      <th>split_list</th>\n      <th>sub_total_sample_num</th>\n      <th>positive_sample_num</th>\n      <th>negative_sample_num</th>\n      <th>sub_total_num_percentage</th>\n      <th>positive_rate_in_sub_total</th>\n      <th>woe_list</th>\n      <th>iv_list</th>\n      <th>iv</th>\n    </tr>\n  </thead>\n  <tbody>\n    <tr>\n      <th>0</th>\n      <td>LOAN</td>\n      <td>(-INF,5900.0]</td>\n      <td>304</td>\n      <td>142</td>\n      <td>162</td>\n      <td>0.051007</td>\n      <td>0.467105</td>\n      <td>1.257674</td>\n      <td>0.107497</td>\n      <td>0.249598</td>\n    </tr>\n    <tr>\n      <th>1</th>\n      <td>LOAN</td>\n      <td>(5900.0,7600.0]</td>\n      <td>299</td>\n      <td>87</td>\n      <td>212</td>\n      <td>0.050168</td>\n      <td>0.290970</td>\n      <td>0.498766</td>\n      <td>0.014332</td>\n      <td>0.249598</td>\n    </tr>\n    <tr>\n      <th>2</th>\n      <td>LOAN</td>\n      <td>(7600.0,10000.0]</td>\n      <td>608</td>\n      <td>137</td>\n      <td>471</td>\n      <td>0.102013</td>\n      <td>0.225329</td>\n      <td>0.154567</td>\n      <td>0.002551</td>\n      <td>0.249598</td>\n    </tr>\n    <tr>\n      <th>3</th>\n      <td>LOAN</td>\n      <td>(10000.0,11400.0]</td>\n      <td>365</td>\n      <td>57</td>\n      <td>308</td>\n      <td>0.061242</td>\n      <td>0.156164</td>\n      <td>-0.297604</td>\n      <td>0.004945</td>\n      <td>0.249598</td>\n    </tr>\n    <tr>\n      <th>4</th>\n      <td>LOAN</td>\n      <td>(11400.0,12600.0]</td>\n      <td>347</td>\n      <td>76</td>\n      <td>271</td>\n      <td>0.058221</td>\n      <td>0.219020</td>\n      <td>0.118059</td>\n      <td>0.000840</td>\n      <td>0.249598</td>\n    </tr>\n    <tr>\n      <th>...</th>\n      <td>...</td>\n      <td>...</td>\n      <td>...</td>\n      <td>...</td>\n      <td>...</td>\n      <td>...</td>\n      <td>...</td>\n      <td>...</td>\n      <td>...</td>\n      <td>...</td>\n    </tr>\n    <tr>\n      <th>0</th>\n      <td>JOB</td>\n      <td>[Office, missing]</td>\n      <td>1227</td>\n      <td>148</td>\n      <td>1079</td>\n      <td>0.205872</td>\n      <td>0.120619</td>\n      <td>-0.597134</td>\n      <td>0.060719</td>\n      <td>0.115381</td>\n    </tr>\n    <tr>\n      <th>1</th>\n      <td>JOB</td>\n      <td>[ProfExe]</td>\n      <td>1276</td>\n      <td>212</td>\n      <td>1064</td>\n      <td>0.214094</td>\n      <td>0.166144</td>\n      <td>-0.223761</td>\n      <td>0.010005</td>\n      <td>0.115381</td>\n    </tr>\n    <tr>\n      <th>2</th>\n      <td>JOB</td>\n      <td>[Other]</td>\n      <td>2388</td>\n      <td>554</td>\n      <td>1834</td>\n      <td>0.400671</td>\n      <td>0.231993</td>\n      <td>0.192353</td>\n      <td>0.015683</td>\n      <td>0.115381</td>\n    </tr>\n    <tr>\n      <th>3</th>\n      <td>JOB</td>\n      <td>[Mgr]</td>\n      <td>767</td>\n      <td>179</td>\n      <td>588</td>\n      <td>0.128691</td>\n      <td>0.233377</td>\n      <td>0.200103</td>\n      <td>0.005463</td>\n      <td>0.115381</td>\n    </tr>\n    <tr>\n      <th>4</th>\n      <td>JOB</td>\n      <td>[Sales, Self]</td>\n      <td>302</td>\n      <td>96</td>\n      <td>206</td>\n      <td>0.050671</td>\n      <td>0.317881</td>\n      <td>0.625916</td>\n      <td>0.023511</td>\n      <td>0.115381</td>\n    </tr>\n  </tbody>\n</table>\n<p>83 rows × 10 columns</p>\n</div>"
     },
     "execution_count": 9,
     "metadata": {},
     "output_type": "execute_result"
    }
   ],
   "source": [
    "feature_detail"
   ],
   "metadata": {
    "collapsed": false,
    "pycharm": {
     "name": "#%%\n"
    }
   }
  },
  {
   "cell_type": "code",
   "execution_count": 11,
   "outputs": [
    {
     "data": {
      "text/plain": "      Unnamed: 0  target      LOAN   MORTDUE         VALUE    REASON  \\\n0              0       1  1.257674  0.505241  6.314432e-08  0.115037   \n1              1       1  1.257674  0.058210  6.314432e-08  0.115037   \n2              2       1  1.257674  0.329934  6.314432e-08  0.115037   \n3              3       1  1.257674  0.031860  6.314432e-08  0.115037   \n4              4       0  1.257674 -0.540205  6.314432e-08  0.115037   \n...          ...     ...       ...       ...           ...       ...   \n5955        5955       0  0.216998 -0.309722  6.314432e-08 -0.062752   \n5956        5956       0  0.216998  0.159754  6.314432e-08 -0.062752   \n5957        5957       0  0.216998  0.159754  6.314432e-08 -0.062752   \n5958        5958       0  0.216998  0.159754  6.314432e-08 -0.062752   \n5959        5959       0  0.216998  0.159754  6.314432e-08 -0.062752   \n\n           JOB       YOJ     DEROG    DELINQ     CLAGE      NINQ      CLNO  \\\n0     0.192353 -0.088067 -0.220790 -0.429947  0.265123 -0.062557  0.084531   \n1     0.192353 -0.088067 -0.220790  1.672861  0.167122 -0.295364  0.084531   \n2     0.192353  0.146251 -0.220790 -0.429947  0.376445 -0.062557  0.084531   \n3    -0.597134 -0.545416 -0.575979 -0.564371  0.308074 -0.368414  0.084531   \n4    -0.597134  0.358184 -0.220790 -0.429947  0.265123 -0.295364  0.084531   \n...        ...       ...       ...       ...       ...       ...       ...   \n5955  0.192353 -0.088067 -0.220790 -0.429947 -0.219994 -0.295364  0.084531   \n5956  0.192353 -0.088067 -0.220790 -0.429947 -0.412265 -0.295364  0.084531   \n5957  0.192353 -0.088067 -0.220790 -0.429947 -0.412265 -0.295364  0.084531   \n5958  0.192353 -0.088067 -0.220790 -0.429947 -0.412265 -0.295364  0.084531   \n5959  0.192353 -0.088067 -0.220790 -0.429947 -0.219994 -0.295364  0.084531   \n\n       DEBTINC  \n0     1.880533  \n1     1.880533  \n2     1.880533  \n3     1.880533  \n4     1.880533  \n...        ...  \n5955 -1.345087  \n5956 -1.345087  \n5957 -1.345087  \n5958 -1.345087  \n5959 -1.345087  \n\n[5960 rows x 14 columns]",
      "text/html": "<div>\n<style scoped>\n    .dataframe tbody tr th:only-of-type {\n        vertical-align: middle;\n    }\n\n    .dataframe tbody tr th {\n        vertical-align: top;\n    }\n\n    .dataframe thead th {\n        text-align: right;\n    }\n</style>\n<table border=\"1\" class=\"dataframe\">\n  <thead>\n    <tr style=\"text-align: right;\">\n      <th></th>\n      <th>Unnamed: 0</th>\n      <th>target</th>\n      <th>LOAN</th>\n      <th>MORTDUE</th>\n      <th>VALUE</th>\n      <th>REASON</th>\n      <th>JOB</th>\n      <th>YOJ</th>\n      <th>DEROG</th>\n      <th>DELINQ</th>\n      <th>CLAGE</th>\n      <th>NINQ</th>\n      <th>CLNO</th>\n      <th>DEBTINC</th>\n    </tr>\n  </thead>\n  <tbody>\n    <tr>\n      <th>0</th>\n      <td>0</td>\n      <td>1</td>\n      <td>1.257674</td>\n      <td>0.505241</td>\n      <td>6.314432e-08</td>\n      <td>0.115037</td>\n      <td>0.192353</td>\n      <td>-0.088067</td>\n      <td>-0.220790</td>\n      <td>-0.429947</td>\n      <td>0.265123</td>\n      <td>-0.062557</td>\n      <td>0.084531</td>\n      <td>1.880533</td>\n    </tr>\n    <tr>\n      <th>1</th>\n      <td>1</td>\n      <td>1</td>\n      <td>1.257674</td>\n      <td>0.058210</td>\n      <td>6.314432e-08</td>\n      <td>0.115037</td>\n      <td>0.192353</td>\n      <td>-0.088067</td>\n      <td>-0.220790</td>\n      <td>1.672861</td>\n      <td>0.167122</td>\n      <td>-0.295364</td>\n      <td>0.084531</td>\n      <td>1.880533</td>\n    </tr>\n    <tr>\n      <th>2</th>\n      <td>2</td>\n      <td>1</td>\n      <td>1.257674</td>\n      <td>0.329934</td>\n      <td>6.314432e-08</td>\n      <td>0.115037</td>\n      <td>0.192353</td>\n      <td>0.146251</td>\n      <td>-0.220790</td>\n      <td>-0.429947</td>\n      <td>0.376445</td>\n      <td>-0.062557</td>\n      <td>0.084531</td>\n      <td>1.880533</td>\n    </tr>\n    <tr>\n      <th>3</th>\n      <td>3</td>\n      <td>1</td>\n      <td>1.257674</td>\n      <td>0.031860</td>\n      <td>6.314432e-08</td>\n      <td>0.115037</td>\n      <td>-0.597134</td>\n      <td>-0.545416</td>\n      <td>-0.575979</td>\n      <td>-0.564371</td>\n      <td>0.308074</td>\n      <td>-0.368414</td>\n      <td>0.084531</td>\n      <td>1.880533</td>\n    </tr>\n    <tr>\n      <th>4</th>\n      <td>4</td>\n      <td>0</td>\n      <td>1.257674</td>\n      <td>-0.540205</td>\n      <td>6.314432e-08</td>\n      <td>0.115037</td>\n      <td>-0.597134</td>\n      <td>0.358184</td>\n      <td>-0.220790</td>\n      <td>-0.429947</td>\n      <td>0.265123</td>\n      <td>-0.295364</td>\n      <td>0.084531</td>\n      <td>1.880533</td>\n    </tr>\n    <tr>\n      <th>...</th>\n      <td>...</td>\n      <td>...</td>\n      <td>...</td>\n      <td>...</td>\n      <td>...</td>\n      <td>...</td>\n      <td>...</td>\n      <td>...</td>\n      <td>...</td>\n      <td>...</td>\n      <td>...</td>\n      <td>...</td>\n      <td>...</td>\n      <td>...</td>\n    </tr>\n    <tr>\n      <th>5955</th>\n      <td>5955</td>\n      <td>0</td>\n      <td>0.216998</td>\n      <td>-0.309722</td>\n      <td>6.314432e-08</td>\n      <td>-0.062752</td>\n      <td>0.192353</td>\n      <td>-0.088067</td>\n      <td>-0.220790</td>\n      <td>-0.429947</td>\n      <td>-0.219994</td>\n      <td>-0.295364</td>\n      <td>0.084531</td>\n      <td>-1.345087</td>\n    </tr>\n    <tr>\n      <th>5956</th>\n      <td>5956</td>\n      <td>0</td>\n      <td>0.216998</td>\n      <td>0.159754</td>\n      <td>6.314432e-08</td>\n      <td>-0.062752</td>\n      <td>0.192353</td>\n      <td>-0.088067</td>\n      <td>-0.220790</td>\n      <td>-0.429947</td>\n      <td>-0.412265</td>\n      <td>-0.295364</td>\n      <td>0.084531</td>\n      <td>-1.345087</td>\n    </tr>\n    <tr>\n      <th>5957</th>\n      <td>5957</td>\n      <td>0</td>\n      <td>0.216998</td>\n      <td>0.159754</td>\n      <td>6.314432e-08</td>\n      <td>-0.062752</td>\n      <td>0.192353</td>\n      <td>-0.088067</td>\n      <td>-0.220790</td>\n      <td>-0.429947</td>\n      <td>-0.412265</td>\n      <td>-0.295364</td>\n      <td>0.084531</td>\n      <td>-1.345087</td>\n    </tr>\n    <tr>\n      <th>5958</th>\n      <td>5958</td>\n      <td>0</td>\n      <td>0.216998</td>\n      <td>0.159754</td>\n      <td>6.314432e-08</td>\n      <td>-0.062752</td>\n      <td>0.192353</td>\n      <td>-0.088067</td>\n      <td>-0.220790</td>\n      <td>-0.429947</td>\n      <td>-0.412265</td>\n      <td>-0.295364</td>\n      <td>0.084531</td>\n      <td>-1.345087</td>\n    </tr>\n    <tr>\n      <th>5959</th>\n      <td>5959</td>\n      <td>0</td>\n      <td>0.216998</td>\n      <td>0.159754</td>\n      <td>6.314432e-08</td>\n      <td>-0.062752</td>\n      <td>0.192353</td>\n      <td>-0.088067</td>\n      <td>-0.220790</td>\n      <td>-0.429947</td>\n      <td>-0.219994</td>\n      <td>-0.295364</td>\n      <td>0.084531</td>\n      <td>-1.345087</td>\n    </tr>\n  </tbody>\n</table>\n<p>5960 rows × 14 columns</p>\n</div>"
     },
     "execution_count": 11,
     "metadata": {},
     "output_type": "execute_result"
    }
   ],
   "source": [
    "train_woed = pd.read_csv(woe_train_path)\n",
    "train_woed"
   ],
   "metadata": {
    "collapsed": false,
    "pycharm": {
     "name": "#%%\n"
    }
   }
  },
  {
   "cell_type": "code",
   "execution_count": null,
   "outputs": [],
   "source": [],
   "metadata": {
    "collapsed": false,
    "pycharm": {
     "name": "#%%\n"
    }
   }
  }
 ],
 "metadata": {
  "kernelspec": {
   "display_name": "Python 3",
   "language": "python",
   "name": "python3"
  },
  "language_info": {
   "codemirror_mode": {
    "name": "ipython",
    "version": 2
   },
   "file_extension": ".py",
   "mimetype": "text/x-python",
   "name": "python",
   "nbconvert_exporter": "python",
   "pygments_lexer": "ipython2",
   "version": "2.7.6"
  }
 },
 "nbformat": 4,
 "nbformat_minor": 0
}