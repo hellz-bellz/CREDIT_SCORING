{
 "cells": [
  {
   "cell_type": "code",
   "execution_count": 2,
   "metadata": {
    "collapsed": true,
    "pycharm": {
     "name": "#%%\n"
    }
   },
   "outputs": [],
   "source": [
    "import pandas as pd\n",
    "import numpy as np\n",
    "import matplotlib.pyplot as plt\n",
    "import seaborn as sns\n",
    "from sklearn.model_selection import KFold, StratifiedKFold, cross_val_score, GridSearchCV\n",
    "from sklearn import linear_model, tree, ensemble\n",
    "#For training without cross_validation\n",
    "from sklearn.ensemble import RandomForestClassifier\n",
    "from sklearn.model_selection import train_test_split\n",
    "from sklearn.metrics import accuracy_score"
   ]
  },
  {
   "cell_type": "code",
   "execution_count": 3,
   "outputs": [
    {
     "data": {
      "text/plain": "   BAD  LOAN     MORTDUE          VALUE   REASON     JOB        YOJ  DEROG  \\\n0    1  1100  25860.0000   39025.000000  HomeImp   Other  10.500000    0.0   \n1    1  1300  70053.0000   68400.000000  HomeImp   Other   7.000000    0.0   \n2    1  1500  13500.0000   16700.000000  HomeImp   Other   4.000000    0.0   \n3    1  1500  73760.8172  101776.048741  DebtCon   Other   8.922268    0.0   \n4    0  1700  97800.0000  112000.000000  HomeImp  Office   3.000000    0.0   \n\n   DELINQ       CLAGE      NINQ       CLNO    DEBTINC  \n0     0.0   94.366667  1.000000   9.000000  33.779915  \n1     2.0  121.833333  0.000000  14.000000  33.779915  \n2     0.0  149.466667  1.000000  10.000000  33.779915  \n3     0.0  179.766275  1.186055  21.296096  33.779915  \n4     0.0   93.333333  0.000000  14.000000  33.779915  ",
      "text/html": "<div>\n<style scoped>\n    .dataframe tbody tr th:only-of-type {\n        vertical-align: middle;\n    }\n\n    .dataframe tbody tr th {\n        vertical-align: top;\n    }\n\n    .dataframe thead th {\n        text-align: right;\n    }\n</style>\n<table border=\"1\" class=\"dataframe\">\n  <thead>\n    <tr style=\"text-align: right;\">\n      <th></th>\n      <th>BAD</th>\n      <th>LOAN</th>\n      <th>MORTDUE</th>\n      <th>VALUE</th>\n      <th>REASON</th>\n      <th>JOB</th>\n      <th>YOJ</th>\n      <th>DEROG</th>\n      <th>DELINQ</th>\n      <th>CLAGE</th>\n      <th>NINQ</th>\n      <th>CLNO</th>\n      <th>DEBTINC</th>\n    </tr>\n  </thead>\n  <tbody>\n    <tr>\n      <th>0</th>\n      <td>1</td>\n      <td>1100</td>\n      <td>25860.0000</td>\n      <td>39025.000000</td>\n      <td>HomeImp</td>\n      <td>Other</td>\n      <td>10.500000</td>\n      <td>0.0</td>\n      <td>0.0</td>\n      <td>94.366667</td>\n      <td>1.000000</td>\n      <td>9.000000</td>\n      <td>33.779915</td>\n    </tr>\n    <tr>\n      <th>1</th>\n      <td>1</td>\n      <td>1300</td>\n      <td>70053.0000</td>\n      <td>68400.000000</td>\n      <td>HomeImp</td>\n      <td>Other</td>\n      <td>7.000000</td>\n      <td>0.0</td>\n      <td>2.0</td>\n      <td>121.833333</td>\n      <td>0.000000</td>\n      <td>14.000000</td>\n      <td>33.779915</td>\n    </tr>\n    <tr>\n      <th>2</th>\n      <td>1</td>\n      <td>1500</td>\n      <td>13500.0000</td>\n      <td>16700.000000</td>\n      <td>HomeImp</td>\n      <td>Other</td>\n      <td>4.000000</td>\n      <td>0.0</td>\n      <td>0.0</td>\n      <td>149.466667</td>\n      <td>1.000000</td>\n      <td>10.000000</td>\n      <td>33.779915</td>\n    </tr>\n    <tr>\n      <th>3</th>\n      <td>1</td>\n      <td>1500</td>\n      <td>73760.8172</td>\n      <td>101776.048741</td>\n      <td>DebtCon</td>\n      <td>Other</td>\n      <td>8.922268</td>\n      <td>0.0</td>\n      <td>0.0</td>\n      <td>179.766275</td>\n      <td>1.186055</td>\n      <td>21.296096</td>\n      <td>33.779915</td>\n    </tr>\n    <tr>\n      <th>4</th>\n      <td>0</td>\n      <td>1700</td>\n      <td>97800.0000</td>\n      <td>112000.000000</td>\n      <td>HomeImp</td>\n      <td>Office</td>\n      <td>3.000000</td>\n      <td>0.0</td>\n      <td>0.0</td>\n      <td>93.333333</td>\n      <td>0.000000</td>\n      <td>14.000000</td>\n      <td>33.779915</td>\n    </tr>\n  </tbody>\n</table>\n</div>"
     },
     "execution_count": 3,
     "metadata": {},
     "output_type": "execute_result"
    }
   ],
   "source": [
    "df = pd.read_csv('../data/filled.csv')\n",
    "df.head()"
   ],
   "metadata": {
    "collapsed": false,
    "pycharm": {
     "name": "#%%\n"
    }
   }
  },
  {
   "cell_type": "code",
   "execution_count": 4,
   "outputs": [],
   "source": [
    "cat_columns = ['REASON', 'JOB']\n",
    "\n",
    "\n",
    "def create_dummy(dataframe, cat_vars):\n",
    "    for var in cat_vars:\n",
    "        cat_list = 'var' + '_' + 'var'\n",
    "        cat_list = pd.get_dummies(dataframe[var], prefix=var)\n",
    "        dataframe_new = dataframe.join(cat_list)\n",
    "        dataframe = dataframe_new\n",
    "    data_vars = dataframe.columns.values.tolist()\n",
    "    to_keep = [i for i in data_vars if i not in cat_vars]\n",
    "\n",
    "    dataframe_final = dataframe[to_keep]\n",
    "\n",
    "    return dataframe_final\n",
    "\n",
    "\n",
    "data_to_model = create_dummy(df, cat_columns)"
   ],
   "metadata": {
    "collapsed": false,
    "pycharm": {
     "name": "#%%\n"
    }
   }
  },
  {
   "cell_type": "code",
   "execution_count": 5,
   "outputs": [
    {
     "data": {
      "text/plain": "   BAD  LOAN     MORTDUE          VALUE        YOJ  DEROG  DELINQ       CLAGE  \\\n0    1  1100  25860.0000   39025.000000  10.500000    0.0     0.0   94.366667   \n1    1  1300  70053.0000   68400.000000   7.000000    0.0     2.0  121.833333   \n2    1  1500  13500.0000   16700.000000   4.000000    0.0     0.0  149.466667   \n3    1  1500  73760.8172  101776.048741   8.922268    0.0     0.0  179.766275   \n4    0  1700  97800.0000  112000.000000   3.000000    0.0     0.0   93.333333   \n\n       NINQ       CLNO    DEBTINC  REASON_DebtCon  REASON_HomeImp  JOB_Mgr  \\\n0  1.000000   9.000000  33.779915               0               1        0   \n1  0.000000  14.000000  33.779915               0               1        0   \n2  1.000000  10.000000  33.779915               0               1        0   \n3  1.186055  21.296096  33.779915               1               0        0   \n4  0.000000  14.000000  33.779915               0               1        0   \n\n   JOB_Office  JOB_Other  JOB_ProfExe  JOB_Sales  JOB_Self  \n0           0          1            0          0         0  \n1           0          1            0          0         0  \n2           0          1            0          0         0  \n3           0          1            0          0         0  \n4           1          0            0          0         0  ",
      "text/html": "<div>\n<style scoped>\n    .dataframe tbody tr th:only-of-type {\n        vertical-align: middle;\n    }\n\n    .dataframe tbody tr th {\n        vertical-align: top;\n    }\n\n    .dataframe thead th {\n        text-align: right;\n    }\n</style>\n<table border=\"1\" class=\"dataframe\">\n  <thead>\n    <tr style=\"text-align: right;\">\n      <th></th>\n      <th>BAD</th>\n      <th>LOAN</th>\n      <th>MORTDUE</th>\n      <th>VALUE</th>\n      <th>YOJ</th>\n      <th>DEROG</th>\n      <th>DELINQ</th>\n      <th>CLAGE</th>\n      <th>NINQ</th>\n      <th>CLNO</th>\n      <th>DEBTINC</th>\n      <th>REASON_DebtCon</th>\n      <th>REASON_HomeImp</th>\n      <th>JOB_Mgr</th>\n      <th>JOB_Office</th>\n      <th>JOB_Other</th>\n      <th>JOB_ProfExe</th>\n      <th>JOB_Sales</th>\n      <th>JOB_Self</th>\n    </tr>\n  </thead>\n  <tbody>\n    <tr>\n      <th>0</th>\n      <td>1</td>\n      <td>1100</td>\n      <td>25860.0000</td>\n      <td>39025.000000</td>\n      <td>10.500000</td>\n      <td>0.0</td>\n      <td>0.0</td>\n      <td>94.366667</td>\n      <td>1.000000</td>\n      <td>9.000000</td>\n      <td>33.779915</td>\n      <td>0</td>\n      <td>1</td>\n      <td>0</td>\n      <td>0</td>\n      <td>1</td>\n      <td>0</td>\n      <td>0</td>\n      <td>0</td>\n    </tr>\n    <tr>\n      <th>1</th>\n      <td>1</td>\n      <td>1300</td>\n      <td>70053.0000</td>\n      <td>68400.000000</td>\n      <td>7.000000</td>\n      <td>0.0</td>\n      <td>2.0</td>\n      <td>121.833333</td>\n      <td>0.000000</td>\n      <td>14.000000</td>\n      <td>33.779915</td>\n      <td>0</td>\n      <td>1</td>\n      <td>0</td>\n      <td>0</td>\n      <td>1</td>\n      <td>0</td>\n      <td>0</td>\n      <td>0</td>\n    </tr>\n    <tr>\n      <th>2</th>\n      <td>1</td>\n      <td>1500</td>\n      <td>13500.0000</td>\n      <td>16700.000000</td>\n      <td>4.000000</td>\n      <td>0.0</td>\n      <td>0.0</td>\n      <td>149.466667</td>\n      <td>1.000000</td>\n      <td>10.000000</td>\n      <td>33.779915</td>\n      <td>0</td>\n      <td>1</td>\n      <td>0</td>\n      <td>0</td>\n      <td>1</td>\n      <td>0</td>\n      <td>0</td>\n      <td>0</td>\n    </tr>\n    <tr>\n      <th>3</th>\n      <td>1</td>\n      <td>1500</td>\n      <td>73760.8172</td>\n      <td>101776.048741</td>\n      <td>8.922268</td>\n      <td>0.0</td>\n      <td>0.0</td>\n      <td>179.766275</td>\n      <td>1.186055</td>\n      <td>21.296096</td>\n      <td>33.779915</td>\n      <td>1</td>\n      <td>0</td>\n      <td>0</td>\n      <td>0</td>\n      <td>1</td>\n      <td>0</td>\n      <td>0</td>\n      <td>0</td>\n    </tr>\n    <tr>\n      <th>4</th>\n      <td>0</td>\n      <td>1700</td>\n      <td>97800.0000</td>\n      <td>112000.000000</td>\n      <td>3.000000</td>\n      <td>0.0</td>\n      <td>0.0</td>\n      <td>93.333333</td>\n      <td>0.000000</td>\n      <td>14.000000</td>\n      <td>33.779915</td>\n      <td>0</td>\n      <td>1</td>\n      <td>0</td>\n      <td>1</td>\n      <td>0</td>\n      <td>0</td>\n      <td>0</td>\n      <td>0</td>\n    </tr>\n  </tbody>\n</table>\n</div>"
     },
     "execution_count": 5,
     "metadata": {},
     "output_type": "execute_result"
    }
   ],
   "source": [
    "data_to_model.head()"
   ],
   "metadata": {
    "collapsed": false,
    "pycharm": {
     "name": "#%%\n"
    }
   }
  },
  {
   "cell_type": "code",
   "execution_count": 6,
   "outputs": [],
   "source": [
    "X = data_to_model.drop(columns=\"BAD\")\n",
    "y = data_to_model.BAD\n",
    "X_train, X_test, y_train, y_test = train_test_split(X, y, test_size=0.3)"
   ],
   "metadata": {
    "collapsed": false,
    "pycharm": {
     "name": "#%%\n"
    }
   }
  },
  {
   "cell_type": "code",
   "execution_count": 7,
   "outputs": [],
   "source": [
    "from sklearn.neural_network import MLPClassifier"
   ],
   "metadata": {
    "collapsed": false,
    "pycharm": {
     "name": "#%%\n"
    }
   }
  },
  {
   "cell_type": "code",
   "execution_count": null,
   "outputs": [],
   "source": [
    "hlayer_sizes = [144, 720, 2016]\n",
    "learning_rates = [1e-2, 1e-3, 1e-4]\n",
    "\n",
    "for hs, lr in hlayer_sizes, learning_rates:\n",
    "    mlp = MLPClassifier(activation='relu',\n",
    "                        hidden_layer_sizes=(hs,),\n",
    "                        learning_rate='constant',\n",
    "                        learning_rate_init=lr\n",
    "                        )\n",
    "    mlp.fit(X_train,y_train)\n",
    "    y_pred = mlp.predict(X_test)\n",
    "    from sklearn.metrics import accuracy_score, f1_score, precision_score, recall_score\n",
    "\n",
    "    print(\"Accuracy score : \", accuracy_score(y_test, y_pred))\n",
    "    print(\"F1 score : \", f1_score(y_test, y_pred))\n",
    "    print(\"Precision score : \", precision_score(y_test, y_pred))\n",
    "    print(\"Recall score : \", recall_score(y_test, y_pred))"
   ],
   "metadata": {
    "collapsed": false,
    "pycharm": {
     "name": "#%%\n"
    }
   }
  },
  {
   "cell_type": "code",
   "execution_count": null,
   "outputs": [],
   "source": [
    "# mlp.fit(X_train,y_train)"
   ],
   "metadata": {
    "collapsed": false,
    "pycharm": {
     "name": "#%%\n"
    }
   }
  },
  {
   "cell_type": "code",
   "execution_count": null,
   "outputs": [],
   "source": [
    "# y_pred = mlp.predict(X_test)\n",
    "# y_pred"
   ],
   "metadata": {
    "collapsed": false,
    "pycharm": {
     "name": "#%%\n"
    }
   }
  },
  {
   "cell_type": "code",
   "execution_count": 13,
   "outputs": [
    {
     "name": "stdout",
     "output_type": "stream",
     "text": [
      "Accuracy score :  0.8008948545861297\n",
      "F1 score :  0.06806282722513089\n",
      "Precision score :  0.34210526315789475\n",
      "Recall score :  0.0377906976744186\n"
     ]
    }
   ],
   "source": [
    "# from sklearn.metrics import accuracy_score, f1_score, precision_score, recall_score\n",
    "#\n",
    "# print(\"Accuracy score : \", accuracy_score(y_test, y_pred))\n",
    "# print(\"F1 score : \", f1_score(y_test, y_pred))\n",
    "# print(\"Precision score : \", precision_score(y_test, y_pred))\n",
    "# print(\"Recall score : \", recall_score(y_test, y_pred))"
   ],
   "metadata": {
    "collapsed": false,
    "pycharm": {
     "name": "#%%\n"
    }
   }
  },
  {
   "cell_type": "code",
   "execution_count": 1,
   "outputs": [
    {
     "name": "stdout",
     "output_type": "stream",
     "text": [
      "0.9745925215723873\n",
      "{'activation': 'relu', 'alpha': 0, 'hidden_layer_sizes': [256, 256, 256], 'learning_rate': 'constant', 'learning_rate_init': 0.001, 'max_iter': 2000}\n",
      "Accuracy score :  0.9233780760626398\n",
      "F1 score :  0.80998613037448\n",
      "Precision score :  0.8021978021978022\n",
      "Recall score :  0.8179271708683473\n"
     ]
    }
   ],
   "source": [
    "from sklearn.neural_network import MLPClassifier\n",
    "from sklearn.model_selection import GridSearchCV\n",
    "import pandas as pd\n",
    "import numpy as np\n",
    "from sklearn.model_selection import train_test_split\n",
    "from preprocessing.create_dummy import create_dummy\n",
    "from sklearn.metrics import accuracy_score, f1_score, precision_score, recall_score, roc_auc_score\n",
    "\n",
    "df = pd.read_csv('../data/filled.csv')\n",
    "data_to_model = create_dummy(df)\n",
    "X = data_to_model.drop(columns=\"BAD\")\n",
    "\n",
    "for col in X.columns:\n",
    "    min_ = X[col].min()\n",
    "    max_ = X[col].max()\n",
    "    X[col] -= min_\n",
    "    X[col] /= max_\n",
    "\n",
    "\n",
    "y = data_to_model[\"BAD\"]\n",
    "X_train, X_test, y_train, y_test = train_test_split(X, y, test_size=0.3)\n",
    "\n",
    "parameters = {'max_iter': [1000, 1500, 2000],\n",
    "              'alpha': [0.1, 0.01, 0.001, 0],\n",
    "              'hidden_layer_sizes' : [[256,], [256, 256, 256,], [256, 256, 256, 256, 256,]],\n",
    "              'learning_rate' : ['constant'],\n",
    "              'learning_rate_init' : [1e-2, 1e-3, 1e-4],\n",
    "              'activation': ['relu']\n",
    "              }\n",
    "clf = GridSearchCV(MLPClassifier(), parameters, n_jobs=-1)\n",
    "\n",
    "clf.fit(X_train, y_train)\n",
    "print(clf.score(X_train, y_train))\n",
    "print(clf.best_params_)\n",
    "y_pred = clf.predict(X_test)\n",
    "\n",
    "\n",
    "print(\"Accuracy score : \", accuracy_score(y_test, y_pred))\n",
    "print(\"F1 score : \", f1_score(y_test, y_pred))\n",
    "print(\"Precision score : \", precision_score(y_test, y_pred))\n",
    "print(\"Recall score : \", recall_score(y_test, y_pred))"
   ],
   "metadata": {
    "collapsed": false,
    "pycharm": {
     "name": "#%%\n"
    }
   }
  },
  {
   "cell_type": "code",
   "execution_count": 2,
   "outputs": [],
   "source": [
    "import pickle\n",
    "filename = 'mlp_model.sav'\n",
    "pickle.dump(clf, open(filename, 'wb'))"
   ],
   "metadata": {
    "collapsed": false,
    "pycharm": {
     "name": "#%%\n"
    }
   }
  },
  {
   "cell_type": "code",
   "execution_count": 3,
   "outputs": [
    {
     "name": "stdout",
     "output_type": "stream",
     "text": [
      "0.9233780760626398\n"
     ]
    }
   ],
   "source": [
    "loaded_model = pickle.load(open(filename, 'rb'))\n",
    "result = loaded_model.score(X_test, y_test)\n",
    "print(result)"
   ],
   "metadata": {
    "collapsed": false,
    "pycharm": {
     "name": "#%%\n"
    }
   }
  },
  {
   "cell_type": "code",
   "execution_count": 4,
   "outputs": [
    {
     "name": "stdout",
     "output_type": "stream",
     "text": [
      "ROC-AUC:  0.8838063527297711\n"
     ]
    }
   ],
   "source": [
    "from sklearn.metrics import roc_auc_score\n",
    "print('ROC-AUC: ', roc_auc_score(y_test, y_pred))"
   ],
   "metadata": {
    "collapsed": false,
    "pycharm": {
     "name": "#%%\n"
    }
   }
  },
  {
   "cell_type": "code",
   "execution_count": 9,
   "outputs": [
    {
     "data": {
      "text/plain": "<Figure size 432x288 with 1 Axes>",
      "image/png": "[encoded data removed]"
     },
     "metadata": {},
     "output_type": "display_data"
    },
    {
     "name": "stdout",
     "output_type": "stream",
     "text": [
      "MLP ROC-AUC: 0.88381\n"
     ]
    }
   ],
   "source": [
    "from sklearn.metrics import roc_curve, precision_recall_curve\n",
    "import matplotlib.pyplot as plt\n",
    "# roc curve\n",
    "fpr1, tpr1, _ = roc_curve(y_test, y_pred, pos_label=1)\n",
    "plt.plot(fpr1, tpr1, linestyle='--', color='orange', label='MLP')\n",
    "\n",
    "# pr curve\n",
    "precision1, recall1, _ = precision_recall_curve(y_test, y_pred, pos_label=1)\n",
    "# строим ROC кривые и вычисляем AUC-ROC\n",
    "\n",
    "\n",
    "\n",
    "\n",
    "plt.title('ROC curve')\n",
    "plt.xlabel('False Positive Rate')\n",
    "plt.ylabel('True Positive rate')\n",
    "\n",
    "plt.legend(loc='best')\n",
    "plt.show()\n",
    "print('MLP ROC-AUC: %.5f' % roc_auc_score(y_test, y_pred))"
   ],
   "metadata": {
    "collapsed": false,
    "pycharm": {
     "name": "#%%\n"
    }
   }
  },
  {
   "cell_type": "code",
   "execution_count": 7,
   "outputs": [
    {
     "data": {
      "text/plain": "<Figure size 432x288 with 1 Axes>",
      "image/png": "[encoded data removed]"
     },
     "metadata": {},
     "output_type": "display_data"
    },
    {
     "name": "stdout",
     "output_type": "stream",
     "text": [
      "MLP PR-AUC: 0.82824\n",
      "Dummy PR-AUC: 0.19966\n"
     ]
    }
   ],
   "source": [
    "from sklearn.metrics import auc\n",
    "precision_lr, recall_lr, _ = precision_recall_curve(y_test, y_pred, pos_label=1)\n",
    "plt.plot(recall_lr, precision_lr, linestyle='--',color='blue', label='MLP')\n",
    "dumb = len(y_test[y_test==1]) / len(y_test)\n",
    "plt.plot([0, 1], [dumb, dumb], linestyle='--',color='green', label='Dummy')\n",
    "\n",
    "plt.title('PR curve')\n",
    "plt.xlabel('Recall')\n",
    "plt.ylabel('Precision')\n",
    "\n",
    "plt.legend(loc='best')\n",
    "plt.show()\n",
    "print('MLP PR-AUC: %.5f' % auc(recall_lr, precision_lr))\n",
    "print('Dummy PR-AUC: %.5f' % auc([0, 1], [dumb, dumb]))"
   ],
   "metadata": {
    "collapsed": false,
    "pycharm": {
     "name": "#%%\n"
    }
   }
  },
  {
   "cell_type": "code",
   "execution_count": null,
   "outputs": [],
   "source": [],
   "metadata": {
    "collapsed": false,
    "pycharm": {
     "name": "#%%\n"
    }
   }
  }
 ],
 "metadata": {
  "kernelspec": {
   "display_name": "Python 3",
   "language": "python",
   "name": "python3"
  },
  "language_info": {
   "codemirror_mode": {
    "name": "ipython",
    "version": 2
   },
   "file_extension": ".py",
   "mimetype": "text/x-python",
   "name": "python",
   "nbconvert_exporter": "python",
   "pygments_lexer": "ipython2",
   "version": "2.7.6"
  }
 },
 "nbformat": 4,
 "nbformat_minor": 0
}